{
 "cells": [
  {
   "cell_type": "code",
   "execution_count": 1,
   "id": "f5d8b4fc",
   "metadata": {},
   "outputs": [],
   "source": [
    "%load_ext autoreload\n",
    "%autoreload 2\n",
    "\n",
    "import pickle\n",
    "\n",
    "import numpy as np\n",
    "from tqdm.notebook import tqdm\n",
    "import matplotlib as plt\n",
    "\n",
    "import sys\n",
    "sys.path.append('..')\n",
    "\n",
    "from src.datasets import load_dataset\n",
    "from src.evaluation.evaluation import downvote_seen_items, topn_recommendations, model_evaluate\n",
    "from src.models import NGCF, ALS, eALS, iALS"
   ]
  },
  {
   "cell_type": "code",
   "execution_count": 2,
   "id": "d277d9ca",
   "metadata": {},
   "outputs": [],
   "source": [
    "data_path = '../data'\n",
    "\n",
    "training_yelp, testset_yelp, holdout_yelp, training_matrix_yelp, data_description_yelp = load_dataset('yelp', data_path)\n",
    "training_movielens, testset_movielens, holdout_movielens, training_matrix_movielens, data_description_movielens = load_dataset('movielens', data_path)"
   ]
  },
  {
   "cell_type": "code",
   "execution_count": 3,
   "id": "8e616273",
   "metadata": {},
   "outputs": [],
   "source": [
    "def bench_model(model, holdout, testset, data_description, topn=10):\n",
    "    scores = model.score_users(holdout.userid.values)\n",
    "    downvote_seen_items(scores, testset, data_description)\n",
    "    recs = topn_recommendations(scores, topn=topn)\n",
    "\n",
    "    hr, mrr, ndcg, cov = model_evaluate(recs, holdout, data_description, topn=topn)\n",
    "\n",
    "    print(f'HR@{topn} = {hr:.4f}')\n",
    "    print(f'MRR@{topn} = {mrr:.4f}')\n",
    "    print(f'nDCG@{topn} = {ndcg:.4f}')\n",
    "    print(f'COV@{topn} = {cov:.4f}')"
   ]
  },
  {
   "cell_type": "code",
   "execution_count": 4,
   "id": "51d2041d",
   "metadata": {},
   "outputs": [],
   "source": [
    "# model_movielens = iALS(factors=100, device='cuda', save_path='../weights/ials_movielens.pkl').fit(training_matrix_movielens)\n",
    "with open('../weights/ials_movielens.pkl', 'rb') as handle:\n",
    "    model_movielens = pickle.load(handle)"
   ]
  },
  {
   "cell_type": "code",
   "execution_count": 7,
   "id": "e297e628",
   "metadata": {},
   "outputs": [],
   "source": [
    "# model_yelp = iALS(factors=100, device='cuda', save_path='../weights/ials_yelp.pkl').fit(training_matrix_yelp)\n",
    "with open('../weights/ials_yelp.pkl', 'rb') as handle:\n",
    "    model_yelp = pickle.load(handle)"
   ]
  },
  {
   "cell_type": "code",
   "execution_count": 8,
   "id": "ea38a2a9",
   "metadata": {},
   "outputs": [
    {
     "name": "stdout",
     "output_type": "stream",
     "text": [
      "MovieLens:\n",
      "HR@10 = 0.1013\n",
      "MRR@10 = 0.0354\n",
      "nDCG@10 = 0.0506\n",
      "COV@10 = 0.3661\n"
     ]
    }
   ],
   "source": [
    "print('MovieLens:')\n",
    "bench_model(model_movielens, holdout_movielens, testset_movielens, data_description_movielens)"
   ]
  },
  {
   "cell_type": "code",
   "execution_count": 9,
   "id": "181605d8",
   "metadata": {},
   "outputs": [
    {
     "name": "stdout",
     "output_type": "stream",
     "text": [
      "Yelp:\n",
      "HR@10 = 0.0409\n",
      "MRR@10 = 0.0152\n",
      "nDCG@10 = 0.0211\n",
      "COV@10 = 0.0619\n"
     ]
    }
   ],
   "source": [
    "print('Yelp:')\n",
    "bench_model(model_yelp, holdout_yelp, testset_yelp, data_description_yelp)"
   ]
  },
  {
   "cell_type": "code",
   "execution_count": 10,
   "id": "4670c061",
   "metadata": {},
   "outputs": [],
   "source": [
    "# import json\n",
    "# import torch\n",
    "\n",
    "# with open('../configs/ngcf_base.json') as f:\n",
    "#     config = json.load(f)\n",
    "\n",
    "# n_users, n_items = training_matrix_movielens.shape\n",
    "# config['model_args']['n_users'] = n_users\n",
    "# config['model_args']['n_items'] = n_items\n",
    "\n",
    "# model = NGCF(**config['model_args'])\n",
    "# model.load_state_dict(torch.load('../lightning_logs/version_30/checkpoints/epoch=399-step=2399.ckpt')['state_dict'])\n",
    "# model.eval();"
   ]
  },
  {
   "cell_type": "code",
   "execution_count": 9,
   "id": "5d3eb572",
   "metadata": {},
   "outputs": [
    {
     "data": {
      "application/vnd.jupyter.widget-view+json": {
       "model_id": "51087074d8d144988708f9d30698dc92",
       "version_major": 2,
       "version_minor": 0
      },
      "text/plain": [
       "  0%|          | 0/100 [00:00<?, ?it/s]"
      ]
     },
     "metadata": {},
     "output_type": "display_data"
    },
    {
     "name": "stdout",
     "output_type": "stream",
     "text": [
      "HR@10 = 0.0947\n",
      "MRR@10 = 0.0337\n",
      "nDCG@10 = 0.0478\n",
      "COV@10 = 0.4182\n"
     ]
    }
   ],
   "source": [
    "import implicit\n",
    "\n",
    "\n",
    "topn = 10\n",
    "als = implicit.als.AlternatingLeastSquares(iterations=100, regularization=0.1, num_threads=-1)\n",
    "als.fit(training_matrix_movielens)\n",
    "\n",
    "recs_movielens = als.recommend_all(training_matrix_movielens, filter_already_liked_items=True, N=topn)\n",
    "hr, mrr, ndcg, cov = model_evaluate(recs_movielens, holdout_movielens, data_description_movielens, topn=topn)\n",
    "\n",
    "print(f'HR@{topn} = {hr:.4f}')\n",
    "print(f'MRR@{topn} = {mrr:.4f}')\n",
    "print(f'nDCG@{topn} = {ndcg:.4f}')\n",
    "print(f'COV@{topn} = {cov:.4f}')"
   ]
  }
 ],
 "metadata": {
  "kernelspec": {
   "display_name": "Python 3 (ipykernel)",
   "language": "python",
   "name": "python3"
  },
  "language_info": {
   "codemirror_mode": {
    "name": "ipython",
    "version": 3
   },
   "file_extension": ".py",
   "mimetype": "text/x-python",
   "name": "python",
   "nbconvert_exporter": "python",
   "pygments_lexer": "ipython3",
   "version": "3.8.9"
  }
 },
 "nbformat": 4,
 "nbformat_minor": 5
}
