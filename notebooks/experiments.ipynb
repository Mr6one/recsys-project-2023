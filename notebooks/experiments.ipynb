{
 "cells": [
  {
   "cell_type": "code",
   "execution_count": 17,
   "id": "f5d8b4fc",
   "metadata": {},
   "outputs": [
    {
     "name": "stdout",
     "output_type": "stream",
     "text": [
      "The autoreload extension is already loaded. To reload it, use:\n",
      "  %reload_ext autoreload\n"
     ]
    }
   ],
   "source": [
    "%load_ext autoreload\n",
    "%autoreload 2\n",
    "\n",
    "import numpy as np\n",
    "import pandas as pd\n",
    "import matplotlib as plt\n",
    "\n",
    "import torch\n",
    "import implicit\n",
    "\n",
    "import sys\n",
    "sys.path.append('..')\n",
    "\n",
    "from src.datasets import load_dataset\n",
    "from src.evaluation.evaluation import downvote_seen_items, topn_recommendations, model_evaluate\n",
    "from src.models import NGCF, ALS, eALS, iALS"
   ]
  },
  {
   "cell_type": "code",
   "execution_count": 43,
   "id": "27ef9b26",
   "metadata": {},
   "outputs": [],
   "source": [
    "topn = 10\n",
    "\n",
    "\n",
    "def evaluate_model(model, holdout, testset, data_description, topn=10, verbose=False):\n",
    "    scores = model.score_users(holdout.userid.values)\n",
    "    downvote_seen_items(scores, testset, data_description)\n",
    "    recs = topn_recommendations(scores, topn=topn)\n",
    "\n",
    "    hr, mrr, ndcg, cov = model_evaluate(recs, holdout, data_description, topn=topn)\n",
    "\n",
    "    if verbose:\n",
    "        print(f'HR@{topn} = {hr:.4f}')\n",
    "        print(f'MRR@{topn} = {mrr:.4f}')\n",
    "        print(f'nDCG@{topn} = {ndcg:.4f}')\n",
    "        print(f'COV@{topn} = {cov:.4f}')\n",
    "\n",
    "    return hr, mrr, ndcg, cov\n",
    "\n",
    "\n",
    "def score_models(models, holdout, testset, data_description):\n",
    "    scores = dict()\n",
    "    for name, model in models:\n",
    "        scores[name] = evaluate_model(model, holdout, testset, data_description)\n",
    "\n",
    "    scores = pd.DataFrame(scores, index=['HR', 'MRR', 'NDCG', 'COV']).T\n",
    "    return scores\n",
    "\n",
    "\n",
    "def evaluate_implicit_model(implicit_model, holdout, training_matrix, data_description, topn=10, verbose=False):\n",
    "    model = implicit_model(iterations=100, regularization=0.1)\n",
    "    model.fit(training_matrix)\n",
    "\n",
    "    recs = model.recommend_all(training_matrix, filter_already_liked_items=True, N=topn)\n",
    "    hr, mrr, ndcg, cov = model_evaluate(recs, holdout, data_description, topn=topn)\n",
    "\n",
    "    if verbose:\n",
    "        print(f'HR@{topn} = {hr:.4f}')\n",
    "        print(f'MRR@{topn} = {mrr:.4f}')\n",
    "        print(f'nDCG@{topn} = {ndcg:.4f}')\n",
    "        print(f'COV@{topn} = {cov:.4f}')\n",
    "\n",
    "    return hr, mrr, ndcg, cov"
   ]
  },
  {
   "attachments": {},
   "cell_type": "markdown",
   "id": "ef1d126c",
   "metadata": {},
   "source": [
    "### Load Data"
   ]
  },
  {
   "cell_type": "code",
   "execution_count": 3,
   "id": "d277d9ca",
   "metadata": {},
   "outputs": [],
   "source": [
    "data_path = '../data'\n",
    "\n",
    "training_yelp, testset_yelp, holdout_yelp, training_matrix_yelp, data_description_yelp = load_dataset('yelp', data_path)\n",
    "training_movielens, testset_movielens, holdout_movielens, training_matrix_movielens, data_description_movielens = load_dataset('movielens', data_path)"
   ]
  },
  {
   "attachments": {},
   "cell_type": "markdown",
   "id": "adcca348",
   "metadata": {},
   "source": [
    "### Load Pretrained Models"
   ]
  },
  {
   "cell_type": "code",
   "execution_count": 27,
   "id": "51d2041d",
   "metadata": {},
   "outputs": [],
   "source": [
    "models_movielens = [\n",
    "    ('ALS', ALS.from_checkpoint('../weights/als_movielens.pkl')),\n",
    "    ('eALS', eALS.from_checkpoint('../weights/eals_movielens.pkl')),\n",
    "    ('iALS', iALS.from_checkpoint('../weights/ials_movielens.pkl')),\n",
    "    ('NGCF', torch.load('../weights/ngcf_movielens.pth'))\n",
    "]\n",
    "\n",
    "models_yelp = [\n",
    "    ('ALS', ALS.from_checkpoint('../weights/als_yelp.pkl')),\n",
    "    ('eALS', eALS.from_checkpoint('../weights/eals_yelp.pkl')),\n",
    "    ('iALS', iALS.from_checkpoint('../weights/ials_yelp.pkl')),\n",
    "    ('NGCF', torch.load('../weights/ngcf_yelp.pth'))\n",
    "]"
   ]
  },
  {
   "attachments": {},
   "cell_type": "markdown",
   "id": "90a400d1",
   "metadata": {},
   "source": [
    "### Score Models"
   ]
  },
  {
   "cell_type": "code",
   "execution_count": 57,
   "id": "ea38a2a9",
   "metadata": {},
   "outputs": [
    {
     "data": {
      "text/html": [
       "<style type=\"text/css\">\n",
       "#T_f2ac8_row0_col0, #T_f2ac8_row0_col1, #T_f2ac8_row0_col2, #T_f2ac8_row3_col3 {\n",
       "  background-color: #023858;\n",
       "  color: #f1f1f1;\n",
       "}\n",
       "#T_f2ac8_row0_col3 {\n",
       "  background-color: #fef6fa;\n",
       "  color: #000000;\n",
       "}\n",
       "#T_f2ac8_row1_col0 {\n",
       "  background-color: #045e94;\n",
       "  color: #f1f1f1;\n",
       "}\n",
       "#T_f2ac8_row1_col1 {\n",
       "  background-color: #023f64;\n",
       "  color: #f1f1f1;\n",
       "}\n",
       "#T_f2ac8_row1_col2 {\n",
       "  background-color: #034b76;\n",
       "  color: #f1f1f1;\n",
       "}\n",
       "#T_f2ac8_row1_col3, #T_f2ac8_row3_col0, #T_f2ac8_row3_col1, #T_f2ac8_row3_col2 {\n",
       "  background-color: #fff7fb;\n",
       "  color: #000000;\n",
       "}\n",
       "#T_f2ac8_row2_col0 {\n",
       "  background-color: #03456c;\n",
       "  color: #f1f1f1;\n",
       "}\n",
       "#T_f2ac8_row2_col1 {\n",
       "  background-color: #034a74;\n",
       "  color: #f1f1f1;\n",
       "}\n",
       "#T_f2ac8_row2_col2 {\n",
       "  background-color: #034871;\n",
       "  color: #f1f1f1;\n",
       "}\n",
       "#T_f2ac8_row2_col3 {\n",
       "  background-color: #fef6fb;\n",
       "  color: #000000;\n",
       "}\n",
       "</style>\n",
       "<table id=\"T_f2ac8\">\n",
       "  <thead>\n",
       "    <tr>\n",
       "      <th class=\"blank level0\" >&nbsp;</th>\n",
       "      <th id=\"T_f2ac8_level0_col0\" class=\"col_heading level0 col0\" >HR</th>\n",
       "      <th id=\"T_f2ac8_level0_col1\" class=\"col_heading level0 col1\" >MRR</th>\n",
       "      <th id=\"T_f2ac8_level0_col2\" class=\"col_heading level0 col2\" >NDCG</th>\n",
       "      <th id=\"T_f2ac8_level0_col3\" class=\"col_heading level0 col3\" >COV</th>\n",
       "    </tr>\n",
       "  </thead>\n",
       "  <tbody>\n",
       "    <tr>\n",
       "      <th id=\"T_f2ac8_level0_row0\" class=\"row_heading level0 row0\" >ALS</th>\n",
       "      <td id=\"T_f2ac8_row0_col0\" class=\"data row0 col0\" >0.102318</td>\n",
       "      <td id=\"T_f2ac8_row0_col1\" class=\"data row0 col1\" >0.036046</td>\n",
       "      <td id=\"T_f2ac8_row0_col2\" class=\"data row0 col2\" >0.051282</td>\n",
       "      <td id=\"T_f2ac8_row0_col3\" class=\"data row0 col3\" >0.367171</td>\n",
       "    </tr>\n",
       "    <tr>\n",
       "      <th id=\"T_f2ac8_level0_row1\" class=\"row_heading level0 row1\" >eALS</th>\n",
       "      <td id=\"T_f2ac8_row1_col0\" class=\"data row1 col0\" >0.099338</td>\n",
       "      <td id=\"T_f2ac8_row1_col1\" class=\"data row1 col1\" >0.035760</td>\n",
       "      <td id=\"T_f2ac8_row1_col2\" class=\"data row1 col2\" >0.050432</td>\n",
       "      <td id=\"T_f2ac8_row1_col3\" class=\"data row1 col3\" >0.364201</td>\n",
       "    </tr>\n",
       "    <tr>\n",
       "      <th id=\"T_f2ac8_level0_row2\" class=\"row_heading level0 row2\" >iALS</th>\n",
       "      <td id=\"T_f2ac8_row2_col0\" class=\"data row2 col0\" >0.101325</td>\n",
       "      <td id=\"T_f2ac8_row2_col1\" class=\"data row2 col1\" >0.035419</td>\n",
       "      <td id=\"T_f2ac8_row2_col2\" class=\"data row2 col2\" >0.050591</td>\n",
       "      <td id=\"T_f2ac8_row2_col3\" class=\"data row2 col3\" >0.366091</td>\n",
       "    </tr>\n",
       "    <tr>\n",
       "      <th id=\"T_f2ac8_level0_row3\" class=\"row_heading level0 row3\" >NGCF</th>\n",
       "      <td id=\"T_f2ac8_row3_col0\" class=\"data row3 col0\" >0.082450</td>\n",
       "      <td id=\"T_f2ac8_row3_col1\" class=\"data row3 col1\" >0.026750</td>\n",
       "      <td id=\"T_f2ac8_row3_col2\" class=\"data row3 col2\" >0.039567</td>\n",
       "      <td id=\"T_f2ac8_row3_col3\" class=\"data row3 col3\" >0.674946</td>\n",
       "    </tr>\n",
       "  </tbody>\n",
       "</table>\n"
      ],
      "text/plain": [
       "<pandas.io.formats.style.Styler at 0x2a58bd272b0>"
      ]
     },
     "execution_count": 57,
     "metadata": {},
     "output_type": "execute_result"
    }
   ],
   "source": [
    "scores_movielens = score_models(models_movielens, holdout_movielens, testset_movielens, data_description_movielens)\n",
    "scores_movielens.style.background_gradient()"
   ]
  },
  {
   "cell_type": "code",
   "execution_count": 32,
   "id": "e70f0bcd",
   "metadata": {},
   "outputs": [
    {
     "data": {
      "text/html": [
       "<style type=\"text/css\">\n",
       "#T_c35fc_row0_col0, #T_c35fc_row0_col1, #T_c35fc_row0_col2, #T_c35fc_row3_col3 {\n",
       "  background-color: #023858;\n",
       "  color: #f1f1f1;\n",
       "}\n",
       "#T_c35fc_row0_col3 {\n",
       "  background-color: #fef6fa;\n",
       "  color: #000000;\n",
       "}\n",
       "#T_c35fc_row1_col0 {\n",
       "  background-color: #045382;\n",
       "  color: #f1f1f1;\n",
       "}\n",
       "#T_c35fc_row1_col1 {\n",
       "  background-color: #034369;\n",
       "  color: #f1f1f1;\n",
       "}\n",
       "#T_c35fc_row1_col2 {\n",
       "  background-color: #03476f;\n",
       "  color: #f1f1f1;\n",
       "}\n",
       "#T_c35fc_row1_col3, #T_c35fc_row2_col3, #T_c35fc_row3_col0, #T_c35fc_row3_col1, #T_c35fc_row3_col2 {\n",
       "  background-color: #fff7fb;\n",
       "  color: #000000;\n",
       "}\n",
       "#T_c35fc_row2_col0, #T_c35fc_row2_col1 {\n",
       "  background-color: #045d92;\n",
       "  color: #f1f1f1;\n",
       "}\n",
       "#T_c35fc_row2_col2 {\n",
       "  background-color: #045b8f;\n",
       "  color: #f1f1f1;\n",
       "}\n",
       "</style>\n",
       "<table id=\"T_c35fc\">\n",
       "  <thead>\n",
       "    <tr>\n",
       "      <th class=\"blank level0\" >&nbsp;</th>\n",
       "      <th id=\"T_c35fc_level0_col0\" class=\"col_heading level0 col0\" >HR</th>\n",
       "      <th id=\"T_c35fc_level0_col1\" class=\"col_heading level0 col1\" >MRR</th>\n",
       "      <th id=\"T_c35fc_level0_col2\" class=\"col_heading level0 col2\" >NDCG</th>\n",
       "      <th id=\"T_c35fc_level0_col3\" class=\"col_heading level0 col3\" >COV</th>\n",
       "    </tr>\n",
       "  </thead>\n",
       "  <tbody>\n",
       "    <tr>\n",
       "      <th id=\"T_c35fc_level0_row0\" class=\"row_heading level0 row0\" >ALS</th>\n",
       "      <td id=\"T_c35fc_row0_col0\" class=\"data row0 col0\" >0.041477</td>\n",
       "      <td id=\"T_c35fc_row0_col1\" class=\"data row0 col1\" >0.015488</td>\n",
       "      <td id=\"T_c35fc_row0_col2\" class=\"data row0 col2\" >0.021485</td>\n",
       "      <td id=\"T_c35fc_row0_col3\" class=\"data row0 col3\" >0.062410</td>\n",
       "    </tr>\n",
       "    <tr>\n",
       "      <th id=\"T_c35fc_level0_row1\" class=\"row_heading level0 row1\" >eALS</th>\n",
       "      <td id=\"T_c35fc_row1_col0\" class=\"data row1 col0\" >0.041048</td>\n",
       "      <td id=\"T_c35fc_row1_col1\" class=\"data row1 col1\" >0.015388</td>\n",
       "      <td id=\"T_c35fc_row1_col2\" class=\"data row1 col2\" >0.021323</td>\n",
       "      <td id=\"T_c35fc_row1_col3\" class=\"data row1 col3\" >0.061712</td>\n",
       "    </tr>\n",
       "    <tr>\n",
       "      <th id=\"T_c35fc_level0_row2\" class=\"row_heading level0 row2\" >iALS</th>\n",
       "      <td id=\"T_c35fc_row2_col0\" class=\"data row2 col0\" >0.040854</td>\n",
       "      <td id=\"T_c35fc_row2_col1\" class=\"data row2 col1\" >0.015152</td>\n",
       "      <td id=\"T_c35fc_row2_col2\" class=\"data row2 col2\" >0.021101</td>\n",
       "      <td id=\"T_c35fc_row2_col3\" class=\"data row2 col3\" >0.061906</td>\n",
       "    </tr>\n",
       "    <tr>\n",
       "      <th id=\"T_c35fc_level0_row3\" class=\"row_heading level0 row3\" >NGCF</th>\n",
       "      <td id=\"T_c35fc_row3_col0\" class=\"data row3 col0\" >0.037154</td>\n",
       "      <td id=\"T_c35fc_row3_col1\" class=\"data row3 col1\" >0.013125</td>\n",
       "      <td id=\"T_c35fc_row3_col2\" class=\"data row3 col2\" >0.018649</td>\n",
       "      <td id=\"T_c35fc_row3_col3\" class=\"data row3 col3\" >0.143373</td>\n",
       "    </tr>\n",
       "  </tbody>\n",
       "</table>\n"
      ],
      "text/plain": [
       "<pandas.io.formats.style.Styler at 0x2a4945c2460>"
      ]
     },
     "execution_count": 32,
     "metadata": {},
     "output_type": "execute_result"
    }
   ],
   "source": [
    "scores_yelp = score_models(models_yelp, holdout_yelp, testset_yelp, data_description_yelp)\n",
    "scores_yelp.style.background_gradient()"
   ]
  },
  {
   "attachments": {},
   "cell_type": "markdown",
   "id": "6e9f12e1",
   "metadata": {},
   "source": [
    "### Comparison with Implicit"
   ]
  },
  {
   "cell_type": "code",
   "execution_count": 52,
   "id": "8242c62b",
   "metadata": {},
   "outputs": [],
   "source": [
    "def score_implicit_models(implicit_models, holdout, training_matrix, data_description):\n",
    "    scores = dict()\n",
    "    for name, model in implicit_models:\n",
    "        metrics = evaluate_implicit_model(model, holdout, training_matrix, data_description, topn=topn)\n",
    "        scores[name] = metrics\n",
    "\n",
    "    scores = pd.DataFrame(scores, index=['HR', 'MRR', 'NDCG', 'COV']).T\n",
    "    return scores"
   ]
  },
  {
   "cell_type": "code",
   "execution_count": 51,
   "id": "5d3eb572",
   "metadata": {},
   "outputs": [
    {
     "data": {
      "application/vnd.jupyter.widget-view+json": {
       "model_id": "8ac3c6a5176b4041803d59da551d6add",
       "version_major": 2,
       "version_minor": 0
      },
      "text/plain": [
       "  0%|          | 0/100 [00:00<?, ?it/s]"
      ]
     },
     "metadata": {},
     "output_type": "display_data"
    },
    {
     "data": {
      "application/vnd.jupyter.widget-view+json": {
       "model_id": "6e3bd8d570ca4596884112cab387269e",
       "version_major": 2,
       "version_minor": 0
      },
      "text/plain": [
       "  0%|          | 0/100 [00:00<?, ?it/s]"
      ]
     },
     "metadata": {},
     "output_type": "display_data"
    },
    {
     "data": {
      "text/html": [
       "<style type=\"text/css\">\n",
       "#T_c3226_row0_col0, #T_c3226_row0_col1, #T_c3226_row0_col2, #T_c3226_row0_col3 {\n",
       "  background-color: #023858;\n",
       "  color: #f1f1f1;\n",
       "}\n",
       "#T_c3226_row1_col0, #T_c3226_row1_col1, #T_c3226_row1_col2, #T_c3226_row1_col3 {\n",
       "  background-color: #fff7fb;\n",
       "  color: #000000;\n",
       "}\n",
       "</style>\n",
       "<table id=\"T_c3226\">\n",
       "  <thead>\n",
       "    <tr>\n",
       "      <th class=\"blank level0\" >&nbsp;</th>\n",
       "      <th id=\"T_c3226_level0_col0\" class=\"col_heading level0 col0\" >HR</th>\n",
       "      <th id=\"T_c3226_level0_col1\" class=\"col_heading level0 col1\" >MRR</th>\n",
       "      <th id=\"T_c3226_level0_col2\" class=\"col_heading level0 col2\" >NDCG</th>\n",
       "      <th id=\"T_c3226_level0_col3\" class=\"col_heading level0 col3\" >COV</th>\n",
       "    </tr>\n",
       "  </thead>\n",
       "  <tbody>\n",
       "    <tr>\n",
       "      <th id=\"T_c3226_level0_row0\" class=\"row_heading level0 row0\" >ALS-impl</th>\n",
       "      <td id=\"T_c3226_row0_col0\" class=\"data row0 col0\" >0.097682</td>\n",
       "      <td id=\"T_c3226_row0_col1\" class=\"data row0 col1\" >0.034040</td>\n",
       "      <td id=\"T_c3226_row0_col2\" class=\"data row0 col2\" >0.048701</td>\n",
       "      <td id=\"T_c3226_row0_col3\" class=\"data row0 col3\" >0.414147</td>\n",
       "    </tr>\n",
       "    <tr>\n",
       "      <th id=\"T_c3226_level0_row1\" class=\"row_heading level0 row1\" >BPR-impl</th>\n",
       "      <td id=\"T_c3226_row1_col0\" class=\"data row1 col0\" >0.053974</td>\n",
       "      <td id=\"T_c3226_row1_col1\" class=\"data row1 col1\" >0.019872</td>\n",
       "      <td id=\"T_c3226_row1_col2\" class=\"data row1 col2\" >0.027741</td>\n",
       "      <td id=\"T_c3226_row1_col3\" class=\"data row1 col3\" >0.250270</td>\n",
       "    </tr>\n",
       "  </tbody>\n",
       "</table>\n"
      ],
      "text/plain": [
       "<pandas.io.formats.style.Styler at 0x2a5cc7dd7c0>"
      ]
     },
     "execution_count": 51,
     "metadata": {},
     "output_type": "execute_result"
    }
   ],
   "source": [
    "implicit_models = [\n",
    "    ('ALS-impl', implicit.als.AlternatingLeastSquares), \n",
    "    ('BPR-impl', implicit.bpr.BayesianPersonalizedRanking)\n",
    "]\n",
    "\n",
    "scores_implicit_movielens = score_implicit_models(implicit_models, holdout_movielens, training_matrix_movielens, data_description_movielens)\n",
    "scores_implicit_movielens.style.background_gradient()"
   ]
  },
  {
   "cell_type": "code",
   "execution_count": 53,
   "id": "c32e8093",
   "metadata": {},
   "outputs": [],
   "source": [
    "scores_implicit_yelp = score_implicit_models(implicit_models, holdout_yelp, training_matrix_yelp data_description_yelp)\n",
    "scores_implicit_yelp.style.background_gradient()"
   ]
  }
 ],
 "metadata": {
  "kernelspec": {
   "display_name": "Python 3 (ipykernel)",
   "language": "python",
   "name": "python3"
  },
  "language_info": {
   "codemirror_mode": {
    "name": "ipython",
    "version": 3
   },
   "file_extension": ".py",
   "mimetype": "text/x-python",
   "name": "python",
   "nbconvert_exporter": "python",
   "pygments_lexer": "ipython3",
   "version": "3.8.9"
  }
 },
 "nbformat": 4,
 "nbformat_minor": 5
}
