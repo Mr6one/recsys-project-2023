{
 "cells": [
  {
   "cell_type": "code",
   "execution_count": 7,
   "id": "f5d8b4fc",
   "metadata": {},
   "outputs": [
    {
     "name": "stdout",
     "output_type": "stream",
     "text": [
      "The autoreload extension is already loaded. To reload it, use:\n",
      "  %reload_ext autoreload\n"
     ]
    }
   ],
   "source": [
    "%load_ext autoreload\n",
    "%autoreload 2\n",
    "\n",
    "import numpy as np\n",
    "import pandas as pd\n",
    "import matplotlib as plt\n",
    "\n",
    "import torch\n",
    "import implicit\n",
    "\n",
    "import sys\n",
    "sys.path.append('..')\n",
    "\n",
    "from src.datasets import load_dataset\n",
    "from src.utils import get_table_barplot\n",
    "from src.evaluation.evaluation import downvote_seen_items, topn_recommendations, model_evaluate\n",
    "from src.models import NGCF, ALS, eALS, iALS"
   ]
  },
  {
   "attachments": {},
   "cell_type": "markdown",
   "id": "ef1d126c",
   "metadata": {},
   "source": [
    "### Load Data"
   ]
  },
  {
   "cell_type": "code",
   "execution_count": 2,
   "id": "d277d9ca",
   "metadata": {},
   "outputs": [],
   "source": [
    "data_path = '../data'\n",
    "\n",
    "training_yelp, testset_yelp, holdout_yelp, training_matrix_yelp, data_description_yelp = load_dataset('yelp', data_path)\n",
    "training_movielens, testset_movielens, holdout_movielens, training_matrix_movielens, data_description_movielens = load_dataset('movielens', data_path)"
   ]
  },
  {
   "attachments": {},
   "cell_type": "markdown",
   "id": "adcca348",
   "metadata": {},
   "source": [
    "### Load Pretrained Models"
   ]
  },
  {
   "cell_type": "code",
   "execution_count": 3,
   "id": "51d2041d",
   "metadata": {},
   "outputs": [],
   "source": [
    "models_movielens = [\n",
    "    ('ALS', ALS.from_checkpoint('../weights/als_movielens.pkl')),\n",
    "    ('eALS', eALS.from_checkpoint('../weights/eals_movielens.pkl')),\n",
    "    ('iALS', iALS.from_checkpoint('../weights/ials_movielens.pkl')),\n",
    "    ('NGCF', torch.load('../weights/ngcf_movielens.pth'))\n",
    "]\n",
    "\n",
    "models_yelp = [\n",
    "    ('ALS', ALS.from_checkpoint('../weights/als_yelp.pkl')),\n",
    "    ('eALS', eALS.from_checkpoint('../weights/eals_yelp.pkl')),\n",
    "    ('iALS', iALS.from_checkpoint('../weights/ials_yelp.pkl')),\n",
    "    ('NGCF', torch.load('../weights/ngcf_yelp.pth'))\n",
    "]"
   ]
  },
  {
   "attachments": {},
   "cell_type": "markdown",
   "id": "90a400d1",
   "metadata": {},
   "source": [
    "### Score Models"
   ]
  },
  {
   "cell_type": "code",
   "execution_count": 9,
   "id": "f91078dd",
   "metadata": {},
   "outputs": [],
   "source": [
    "topn = 10\n",
    "\n",
    "\n",
    "def evaluate_model(model, holdout, testset, data_description, topn=10, verbose=False):\n",
    "    scores = model.score_users(holdout.userid.values)\n",
    "    downvote_seen_items(scores, testset, data_description)\n",
    "    recs = topn_recommendations(scores, topn=topn)\n",
    "\n",
    "    hr, mrr, ndcg, cov = model_evaluate(recs, holdout, data_description, topn=topn)\n",
    "\n",
    "    if verbose:\n",
    "        print(f'HR@{topn} = {hr:.4f}')\n",
    "        print(f'MRR@{topn} = {mrr:.4f}')\n",
    "        print(f'nDCG@{topn} = {ndcg:.4f}')\n",
    "        print(f'COV@{topn} = {cov:.4f}')\n",
    "\n",
    "    return hr, mrr, ndcg, cov\n",
    "\n",
    "\n",
    "def score_models(models, holdout, testset, data_description):\n",
    "    scores = dict()\n",
    "    for name, model in models:\n",
    "        scores[name] = evaluate_model(model, holdout, testset, data_description)\n",
    "\n",
    "    scores = pd.DataFrame(scores, index=['HR', 'MRR', 'nDCG', 'COV']).T\n",
    "    return scores"
   ]
  },
  {
   "cell_type": "code",
   "execution_count": 10,
   "id": "ea38a2a9",
   "metadata": {},
   "outputs": [
    {
     "data": {
      "text/html": [
       "<style type=\"text/css\">\n",
       "#T_38c31_row0_col0, #T_38c31_row0_col1, #T_38c31_row0_col2, #T_38c31_row3_col3 {\n",
       "  background-color: #023858;\n",
       "  color: #f1f1f1;\n",
       "}\n",
       "#T_38c31_row0_col3 {\n",
       "  background-color: #fef6fa;\n",
       "  color: #000000;\n",
       "}\n",
       "#T_38c31_row1_col0 {\n",
       "  background-color: #045e94;\n",
       "  color: #f1f1f1;\n",
       "}\n",
       "#T_38c31_row1_col1 {\n",
       "  background-color: #023f64;\n",
       "  color: #f1f1f1;\n",
       "}\n",
       "#T_38c31_row1_col2 {\n",
       "  background-color: #034b76;\n",
       "  color: #f1f1f1;\n",
       "}\n",
       "#T_38c31_row1_col3, #T_38c31_row3_col0, #T_38c31_row3_col1, #T_38c31_row3_col2 {\n",
       "  background-color: #fff7fb;\n",
       "  color: #000000;\n",
       "}\n",
       "#T_38c31_row2_col0 {\n",
       "  background-color: #03456c;\n",
       "  color: #f1f1f1;\n",
       "}\n",
       "#T_38c31_row2_col1 {\n",
       "  background-color: #034a74;\n",
       "  color: #f1f1f1;\n",
       "}\n",
       "#T_38c31_row2_col2 {\n",
       "  background-color: #034871;\n",
       "  color: #f1f1f1;\n",
       "}\n",
       "#T_38c31_row2_col3 {\n",
       "  background-color: #fef6fb;\n",
       "  color: #000000;\n",
       "}\n",
       "</style>\n",
       "<table id=\"T_38c31\">\n",
       "  <thead>\n",
       "    <tr>\n",
       "      <th class=\"blank level0\" >&nbsp;</th>\n",
       "      <th id=\"T_38c31_level0_col0\" class=\"col_heading level0 col0\" >HR</th>\n",
       "      <th id=\"T_38c31_level0_col1\" class=\"col_heading level0 col1\" >MRR</th>\n",
       "      <th id=\"T_38c31_level0_col2\" class=\"col_heading level0 col2\" >nDCG</th>\n",
       "      <th id=\"T_38c31_level0_col3\" class=\"col_heading level0 col3\" >COV</th>\n",
       "    </tr>\n",
       "  </thead>\n",
       "  <tbody>\n",
       "    <tr>\n",
       "      <th id=\"T_38c31_level0_row0\" class=\"row_heading level0 row0\" >ALS</th>\n",
       "      <td id=\"T_38c31_row0_col0\" class=\"data row0 col0\" >0.102318</td>\n",
       "      <td id=\"T_38c31_row0_col1\" class=\"data row0 col1\" >0.036046</td>\n",
       "      <td id=\"T_38c31_row0_col2\" class=\"data row0 col2\" >0.051282</td>\n",
       "      <td id=\"T_38c31_row0_col3\" class=\"data row0 col3\" >0.367171</td>\n",
       "    </tr>\n",
       "    <tr>\n",
       "      <th id=\"T_38c31_level0_row1\" class=\"row_heading level0 row1\" >eALS</th>\n",
       "      <td id=\"T_38c31_row1_col0\" class=\"data row1 col0\" >0.099338</td>\n",
       "      <td id=\"T_38c31_row1_col1\" class=\"data row1 col1\" >0.035760</td>\n",
       "      <td id=\"T_38c31_row1_col2\" class=\"data row1 col2\" >0.050432</td>\n",
       "      <td id=\"T_38c31_row1_col3\" class=\"data row1 col3\" >0.364201</td>\n",
       "    </tr>\n",
       "    <tr>\n",
       "      <th id=\"T_38c31_level0_row2\" class=\"row_heading level0 row2\" >iALS</th>\n",
       "      <td id=\"T_38c31_row2_col0\" class=\"data row2 col0\" >0.101325</td>\n",
       "      <td id=\"T_38c31_row2_col1\" class=\"data row2 col1\" >0.035419</td>\n",
       "      <td id=\"T_38c31_row2_col2\" class=\"data row2 col2\" >0.050591</td>\n",
       "      <td id=\"T_38c31_row2_col3\" class=\"data row2 col3\" >0.366091</td>\n",
       "    </tr>\n",
       "    <tr>\n",
       "      <th id=\"T_38c31_level0_row3\" class=\"row_heading level0 row3\" >NGCF</th>\n",
       "      <td id=\"T_38c31_row3_col0\" class=\"data row3 col0\" >0.082450</td>\n",
       "      <td id=\"T_38c31_row3_col1\" class=\"data row3 col1\" >0.026750</td>\n",
       "      <td id=\"T_38c31_row3_col2\" class=\"data row3 col2\" >0.039567</td>\n",
       "      <td id=\"T_38c31_row3_col3\" class=\"data row3 col3\" >0.674946</td>\n",
       "    </tr>\n",
       "  </tbody>\n",
       "</table>\n"
      ],
      "text/plain": [
       "<pandas.io.formats.style.Styler at 0x7ff40382c970>"
      ]
     },
     "execution_count": 10,
     "metadata": {},
     "output_type": "execute_result"
    }
   ],
   "source": [
    "scores_movielens = score_models(models_movielens, holdout_movielens, testset_movielens, data_description_movielens)\n",
    "scores_movielens.style.background_gradient()"
   ]
  },
  {
   "cell_type": "code",
   "execution_count": 11,
   "id": "a3c34ff2",
   "metadata": {},
   "outputs": [
    {
     "data": {
      "text/html": [
       "<div>\n",
       "<style scoped>\n",
       "    .dataframe tbody tr th:only-of-type {\n",
       "        vertical-align: middle;\n",
       "    }\n",
       "\n",
       "    .dataframe tbody tr th {\n",
       "        vertical-align: top;\n",
       "    }\n",
       "\n",
       "    .dataframe thead th {\n",
       "        text-align: right;\n",
       "    }\n",
       "</style>\n",
       "<table border=\"1\" class=\"dataframe\">\n",
       "  <thead>\n",
       "    <tr style=\"text-align: right;\">\n",
       "      <th></th>\n",
       "      <th>HR</th>\n",
       "      <th>MRR</th>\n",
       "      <th>nDCG</th>\n",
       "      <th>COV</th>\n",
       "    </tr>\n",
       "  </thead>\n",
       "  <tbody>\n",
       "    <tr>\n",
       "      <th>ALS</th>\n",
       "      <td>0.102318</td>\n",
       "      <td>0.036046</td>\n",
       "      <td>0.051282</td>\n",
       "      <td>0.367171</td>\n",
       "    </tr>\n",
       "    <tr>\n",
       "      <th>eALS</th>\n",
       "      <td>0.099338</td>\n",
       "      <td>0.035760</td>\n",
       "      <td>0.050432</td>\n",
       "      <td>0.364201</td>\n",
       "    </tr>\n",
       "    <tr>\n",
       "      <th>iALS</th>\n",
       "      <td>0.101325</td>\n",
       "      <td>0.035419</td>\n",
       "      <td>0.050591</td>\n",
       "      <td>0.366091</td>\n",
       "    </tr>\n",
       "    <tr>\n",
       "      <th>NGCF</th>\n",
       "      <td>0.082450</td>\n",
       "      <td>0.026750</td>\n",
       "      <td>0.039567</td>\n",
       "      <td>0.674946</td>\n",
       "    </tr>\n",
       "  </tbody>\n",
       "</table>\n",
       "</div>"
      ],
      "text/plain": [
       "            HR       MRR      nDCG       COV\n",
       "ALS   0.102318  0.036046  0.051282  0.367171\n",
       "eALS  0.099338  0.035760  0.050432  0.364201\n",
       "iALS  0.101325  0.035419  0.050591  0.366091\n",
       "NGCF  0.082450  0.026750  0.039567  0.674946"
      ]
     },
     "execution_count": 11,
     "metadata": {},
     "output_type": "execute_result"
    },
    {
     "data": {
      "image/png": "[encoded data removed]",
      "text/plain": [
       "<Figure size 640x480 with 1 Axes>"
      ]
     },
     "metadata": {},
     "output_type": "display_data"
    }
   ],
   "source": [
    "get_table_barplot(scores_movielens)"
   ]
  },
  {
   "cell_type": "code",
   "execution_count": 12,
   "id": "e70f0bcd",
   "metadata": {},
   "outputs": [
    {
     "data": {
      "text/html": [
       "<style type=\"text/css\">\n",
       "#T_9e2f1_row0_col0, #T_9e2f1_row0_col1, #T_9e2f1_row0_col2, #T_9e2f1_row3_col3 {\n",
       "  background-color: #023858;\n",
       "  color: #f1f1f1;\n",
       "}\n",
       "#T_9e2f1_row0_col3 {\n",
       "  background-color: #fef6fa;\n",
       "  color: #000000;\n",
       "}\n",
       "#T_9e2f1_row1_col0 {\n",
       "  background-color: #045382;\n",
       "  color: #f1f1f1;\n",
       "}\n",
       "#T_9e2f1_row1_col1 {\n",
       "  background-color: #034369;\n",
       "  color: #f1f1f1;\n",
       "}\n",
       "#T_9e2f1_row1_col2 {\n",
       "  background-color: #03476f;\n",
       "  color: #f1f1f1;\n",
       "}\n",
       "#T_9e2f1_row1_col3, #T_9e2f1_row2_col3, #T_9e2f1_row3_col0, #T_9e2f1_row3_col1, #T_9e2f1_row3_col2 {\n",
       "  background-color: #fff7fb;\n",
       "  color: #000000;\n",
       "}\n",
       "#T_9e2f1_row2_col0, #T_9e2f1_row2_col1 {\n",
       "  background-color: #045d92;\n",
       "  color: #f1f1f1;\n",
       "}\n",
       "#T_9e2f1_row2_col2 {\n",
       "  background-color: #045b8f;\n",
       "  color: #f1f1f1;\n",
       "}\n",
       "</style>\n",
       "<table id=\"T_9e2f1\">\n",
       "  <thead>\n",
       "    <tr>\n",
       "      <th class=\"blank level0\" >&nbsp;</th>\n",
       "      <th id=\"T_9e2f1_level0_col0\" class=\"col_heading level0 col0\" >HR</th>\n",
       "      <th id=\"T_9e2f1_level0_col1\" class=\"col_heading level0 col1\" >MRR</th>\n",
       "      <th id=\"T_9e2f1_level0_col2\" class=\"col_heading level0 col2\" >nDCG</th>\n",
       "      <th id=\"T_9e2f1_level0_col3\" class=\"col_heading level0 col3\" >COV</th>\n",
       "    </tr>\n",
       "  </thead>\n",
       "  <tbody>\n",
       "    <tr>\n",
       "      <th id=\"T_9e2f1_level0_row0\" class=\"row_heading level0 row0\" >ALS</th>\n",
       "      <td id=\"T_9e2f1_row0_col0\" class=\"data row0 col0\" >0.041477</td>\n",
       "      <td id=\"T_9e2f1_row0_col1\" class=\"data row0 col1\" >0.015488</td>\n",
       "      <td id=\"T_9e2f1_row0_col2\" class=\"data row0 col2\" >0.021485</td>\n",
       "      <td id=\"T_9e2f1_row0_col3\" class=\"data row0 col3\" >0.062410</td>\n",
       "    </tr>\n",
       "    <tr>\n",
       "      <th id=\"T_9e2f1_level0_row1\" class=\"row_heading level0 row1\" >eALS</th>\n",
       "      <td id=\"T_9e2f1_row1_col0\" class=\"data row1 col0\" >0.041048</td>\n",
       "      <td id=\"T_9e2f1_row1_col1\" class=\"data row1 col1\" >0.015388</td>\n",
       "      <td id=\"T_9e2f1_row1_col2\" class=\"data row1 col2\" >0.021323</td>\n",
       "      <td id=\"T_9e2f1_row1_col3\" class=\"data row1 col3\" >0.061712</td>\n",
       "    </tr>\n",
       "    <tr>\n",
       "      <th id=\"T_9e2f1_level0_row2\" class=\"row_heading level0 row2\" >iALS</th>\n",
       "      <td id=\"T_9e2f1_row2_col0\" class=\"data row2 col0\" >0.040854</td>\n",
       "      <td id=\"T_9e2f1_row2_col1\" class=\"data row2 col1\" >0.015152</td>\n",
       "      <td id=\"T_9e2f1_row2_col2\" class=\"data row2 col2\" >0.021101</td>\n",
       "      <td id=\"T_9e2f1_row2_col3\" class=\"data row2 col3\" >0.061906</td>\n",
       "    </tr>\n",
       "    <tr>\n",
       "      <th id=\"T_9e2f1_level0_row3\" class=\"row_heading level0 row3\" >NGCF</th>\n",
       "      <td id=\"T_9e2f1_row3_col0\" class=\"data row3 col0\" >0.037154</td>\n",
       "      <td id=\"T_9e2f1_row3_col1\" class=\"data row3 col1\" >0.013125</td>\n",
       "      <td id=\"T_9e2f1_row3_col2\" class=\"data row3 col2\" >0.018649</td>\n",
       "      <td id=\"T_9e2f1_row3_col3\" class=\"data row3 col3\" >0.143373</td>\n",
       "    </tr>\n",
       "  </tbody>\n",
       "</table>\n"
      ],
      "text/plain": [
       "<pandas.io.formats.style.Styler at 0x7ff3a41f54c0>"
      ]
     },
     "execution_count": 12,
     "metadata": {},
     "output_type": "execute_result"
    }
   ],
   "source": [
    "scores_yelp = score_models(models_yelp, holdout_yelp, testset_yelp, data_description_yelp)\n",
    "scores_yelp.style.background_gradient()"
   ]
  },
  {
   "cell_type": "code",
   "execution_count": 13,
   "id": "6e5bce5b",
   "metadata": {},
   "outputs": [
    {
     "data": {
      "text/html": [
       "<div>\n",
       "<style scoped>\n",
       "    .dataframe tbody tr th:only-of-type {\n",
       "        vertical-align: middle;\n",
       "    }\n",
       "\n",
       "    .dataframe tbody tr th {\n",
       "        vertical-align: top;\n",
       "    }\n",
       "\n",
       "    .dataframe thead th {\n",
       "        text-align: right;\n",
       "    }\n",
       "</style>\n",
       "<table border=\"1\" class=\"dataframe\">\n",
       "  <thead>\n",
       "    <tr style=\"text-align: right;\">\n",
       "      <th></th>\n",
       "      <th>HR</th>\n",
       "      <th>MRR</th>\n",
       "      <th>nDCG</th>\n",
       "      <th>COV</th>\n",
       "    </tr>\n",
       "  </thead>\n",
       "  <tbody>\n",
       "    <tr>\n",
       "      <th>ALS</th>\n",
       "      <td>0.041477</td>\n",
       "      <td>0.015488</td>\n",
       "      <td>0.021485</td>\n",
       "      <td>0.062410</td>\n",
       "    </tr>\n",
       "    <tr>\n",
       "      <th>eALS</th>\n",
       "      <td>0.041048</td>\n",
       "      <td>0.015388</td>\n",
       "      <td>0.021323</td>\n",
       "      <td>0.061712</td>\n",
       "    </tr>\n",
       "    <tr>\n",
       "      <th>iALS</th>\n",
       "      <td>0.040854</td>\n",
       "      <td>0.015152</td>\n",
       "      <td>0.021101</td>\n",
       "      <td>0.061906</td>\n",
       "    </tr>\n",
       "    <tr>\n",
       "      <th>NGCF</th>\n",
       "      <td>0.037154</td>\n",
       "      <td>0.013125</td>\n",
       "      <td>0.018649</td>\n",
       "      <td>0.143373</td>\n",
       "    </tr>\n",
       "  </tbody>\n",
       "</table>\n",
       "</div>"
      ],
      "text/plain": [
       "            HR       MRR      nDCG       COV\n",
       "ALS   0.041477  0.015488  0.021485  0.062410\n",
       "eALS  0.041048  0.015388  0.021323  0.061712\n",
       "iALS  0.040854  0.015152  0.021101  0.061906\n",
       "NGCF  0.037154  0.013125  0.018649  0.143373"
      ]
     },
     "execution_count": 13,
     "metadata": {},
     "output_type": "execute_result"
    },
    {
     "data": {
      "image/png": "[encoded data removed]",
      "text/plain": [
       "<Figure size 640x480 with 1 Axes>"
      ]
     },
     "metadata": {},
     "output_type": "display_data"
    }
   ],
   "source": [
    "get_table_barplot(scores_yelp)"
   ]
  },
  {
   "attachments": {},
   "cell_type": "markdown",
   "id": "6e9f12e1",
   "metadata": {},
   "source": [
    "### Implicit Models"
   ]
  },
  {
   "cell_type": "code",
   "execution_count": 37,
   "id": "8242c62b",
   "metadata": {},
   "outputs": [],
   "source": [
    "def evaluate_implicit_model(implicit_model, holdout, training_matrix, data_description, topn=10, verbose=False):\n",
    "    model = implicit_model(iterations=100, regularization=0.1, use_gpu=True)\n",
    "    model.fit(training_matrix)\n",
    "\n",
    "    recs = model.recommend(np.arange(training_matrix.shape[0]), training_matrix, N=topn, filter_already_liked_items=True)[0]\n",
    "    hr, mrr, ndcg, cov = model_evaluate(recs, holdout, data_description, topn=topn)\n",
    "\n",
    "    if verbose:\n",
    "        print(f'HR@{topn} = {hr:.4f}')\n",
    "        print(f'MRR@{topn} = {mrr:.4f}')\n",
    "        print(f'nDCG@{topn} = {ndcg:.4f}')\n",
    "        print(f'COV@{topn} = {cov:.4f}')\n",
    "\n",
    "    return hr, mrr, ndcg, cov\n",
    "\n",
    "\n",
    "def score_implicit_models(implicit_models, holdout, training_matrix, data_description):\n",
    "    scores = dict()\n",
    "    for name, model in implicit_models:\n",
    "        metrics = evaluate_implicit_model(model, holdout, training_matrix, data_description, topn=topn)\n",
    "        scores[name] = metrics\n",
    "\n",
    "    scores = pd.DataFrame(scores, index=['HR', 'MRR', 'nDCG', 'COV']).T\n",
    "    return scores"
   ]
  },
  {
   "cell_type": "code",
   "execution_count": 38,
   "id": "5d3eb572",
   "metadata": {},
   "outputs": [
    {
     "data": {
      "application/vnd.jupyter.widget-view+json": {
       "model_id": "2a6136322fb24531808bcad97225f25e",
       "version_major": 2,
       "version_minor": 0
      },
      "text/plain": [
       "  0%|          | 0/100 [00:00<?, ?it/s]"
      ]
     },
     "metadata": {},
     "output_type": "display_data"
    },
    {
     "data": {
      "application/vnd.jupyter.widget-view+json": {
       "model_id": "98d775564eb147bd8200859abb9295c8",
       "version_major": 2,
       "version_minor": 0
      },
      "text/plain": [
       "  0%|          | 0/100 [00:00<?, ?it/s]"
      ]
     },
     "metadata": {},
     "output_type": "display_data"
    },
    {
     "data": {
      "text/html": [
       "<style type=\"text/css\">\n",
       "#T_bc587_row0_col0, #T_bc587_row0_col1, #T_bc587_row0_col2, #T_bc587_row0_col3 {\n",
       "  background-color: #023858;\n",
       "  color: #f1f1f1;\n",
       "}\n",
       "#T_bc587_row1_col0, #T_bc587_row1_col1, #T_bc587_row1_col2, #T_bc587_row1_col3 {\n",
       "  background-color: #fff7fb;\n",
       "  color: #000000;\n",
       "}\n",
       "</style>\n",
       "<table id=\"T_bc587\">\n",
       "  <thead>\n",
       "    <tr>\n",
       "      <th class=\"blank level0\" >&nbsp;</th>\n",
       "      <th id=\"T_bc587_level0_col0\" class=\"col_heading level0 col0\" >HR</th>\n",
       "      <th id=\"T_bc587_level0_col1\" class=\"col_heading level0 col1\" >MRR</th>\n",
       "      <th id=\"T_bc587_level0_col2\" class=\"col_heading level0 col2\" >nDCG</th>\n",
       "      <th id=\"T_bc587_level0_col3\" class=\"col_heading level0 col3\" >COV</th>\n",
       "    </tr>\n",
       "  </thead>\n",
       "  <tbody>\n",
       "    <tr>\n",
       "      <th id=\"T_bc587_level0_row0\" class=\"row_heading level0 row0\" >ALS-impl</th>\n",
       "      <td id=\"T_bc587_row0_col0\" class=\"data row0 col0\" >0.095861</td>\n",
       "      <td id=\"T_bc587_row0_col1\" class=\"data row0 col1\" >0.034024</td>\n",
       "      <td id=\"T_bc587_row0_col2\" class=\"data row0 col2\" >0.048315</td>\n",
       "      <td id=\"T_bc587_row0_col3\" class=\"data row0 col3\" >0.417657</td>\n",
       "    </tr>\n",
       "    <tr>\n",
       "      <th id=\"T_bc587_level0_row1\" class=\"row_heading level0 row1\" >BPR-impl</th>\n",
       "      <td id=\"T_bc587_row1_col0\" class=\"data row1 col0\" >0.045695</td>\n",
       "      <td id=\"T_bc587_row1_col1\" class=\"data row1 col1\" >0.016766</td>\n",
       "      <td id=\"T_bc587_row1_col2\" class=\"data row1 col2\" >0.023488</td>\n",
       "      <td id=\"T_bc587_row1_col3\" class=\"data row1 col3\" >0.350702</td>\n",
       "    </tr>\n",
       "  </tbody>\n",
       "</table>\n"
      ],
      "text/plain": [
       "<pandas.io.formats.style.Styler at 0x7ff3623cb9d0>"
      ]
     },
     "execution_count": 38,
     "metadata": {},
     "output_type": "execute_result"
    }
   ],
   "source": [
    "implicit_models = [\n",
    "    ('ALS-impl', implicit.als.AlternatingLeastSquares), \n",
    "    ('BPR-impl', implicit.bpr.BayesianPersonalizedRanking)\n",
    "]\n",
    "\n",
    "scores_implicit_movielens = score_implicit_models(implicit_models, holdout_movielens, training_matrix_movielens, data_description_movielens)\n",
    "scores_implicit_movielens.style.background_gradient()"
   ]
  },
  {
   "cell_type": "code",
   "execution_count": 39,
   "id": "c32e8093",
   "metadata": {},
   "outputs": [
    {
     "data": {
      "application/vnd.jupyter.widget-view+json": {
       "model_id": "d441d3b094144834940111fc8d35281f",
       "version_major": 2,
       "version_minor": 0
      },
      "text/plain": [
       "  0%|          | 0/100 [00:00<?, ?it/s]"
      ]
     },
     "metadata": {},
     "output_type": "display_data"
    },
    {
     "data": {
      "application/vnd.jupyter.widget-view+json": {
       "model_id": "9cbd1e86dece447fa3af6e60a723ddec",
       "version_major": 2,
       "version_minor": 0
      },
      "text/plain": [
       "  0%|          | 0/100 [00:00<?, ?it/s]"
      ]
     },
     "metadata": {},
     "output_type": "display_data"
    },
    {
     "data": {
      "text/html": [
       "<style type=\"text/css\">\n",
       "#T_a8919_row0_col0, #T_a8919_row0_col1, #T_a8919_row0_col2, #T_a8919_row0_col3 {\n",
       "  background-color: #023858;\n",
       "  color: #f1f1f1;\n",
       "}\n",
       "#T_a8919_row1_col0, #T_a8919_row1_col1, #T_a8919_row1_col2, #T_a8919_row1_col3 {\n",
       "  background-color: #fff7fb;\n",
       "  color: #000000;\n",
       "}\n",
       "</style>\n",
       "<table id=\"T_a8919\">\n",
       "  <thead>\n",
       "    <tr>\n",
       "      <th class=\"blank level0\" >&nbsp;</th>\n",
       "      <th id=\"T_a8919_level0_col0\" class=\"col_heading level0 col0\" >HR</th>\n",
       "      <th id=\"T_a8919_level0_col1\" class=\"col_heading level0 col1\" >MRR</th>\n",
       "      <th id=\"T_a8919_level0_col2\" class=\"col_heading level0 col2\" >nDCG</th>\n",
       "      <th id=\"T_a8919_level0_col3\" class=\"col_heading level0 col3\" >COV</th>\n",
       "    </tr>\n",
       "  </thead>\n",
       "  <tbody>\n",
       "    <tr>\n",
       "      <th id=\"T_a8919_level0_row0\" class=\"row_heading level0 row0\" >ALS-impl</th>\n",
       "      <td id=\"T_a8919_row0_col0\" class=\"data row0 col0\" >0.051719</td>\n",
       "      <td id=\"T_a8919_row0_col1\" class=\"data row0 col1\" >0.019273</td>\n",
       "      <td id=\"T_a8919_row0_col2\" class=\"data row0 col2\" >0.026771</td>\n",
       "      <td id=\"T_a8919_row0_col3\" class=\"data row0 col3\" >0.085698</td>\n",
       "    </tr>\n",
       "    <tr>\n",
       "      <th id=\"T_a8919_level0_row1\" class=\"row_heading level0 row1\" >BPR-impl</th>\n",
       "      <td id=\"T_a8919_row1_col0\" class=\"data row1 col0\" >0.006699</td>\n",
       "      <td id=\"T_a8919_row1_col1\" class=\"data row1 col1\" >0.002522</td>\n",
       "      <td id=\"T_a8919_row1_col2\" class=\"data row1 col2\" >0.003502</td>\n",
       "      <td id=\"T_a8919_row1_col3\" class=\"data row1 col3\" >0.021424</td>\n",
       "    </tr>\n",
       "  </tbody>\n",
       "</table>\n"
      ],
      "text/plain": [
       "<pandas.io.formats.style.Styler at 0x7ff36233aac0>"
      ]
     },
     "execution_count": 39,
     "metadata": {},
     "output_type": "execute_result"
    }
   ],
   "source": [
    "scores_implicit_yelp = score_implicit_models(implicit_models, holdout_yelp, training_matrix_yelp, data_description_yelp)\n",
    "scores_implicit_yelp.style.background_gradient()"
   ]
  },
  {
   "attachments": {},
   "cell_type": "markdown",
   "id": "422b4c20",
   "metadata": {},
   "source": [
    "### Comparison with Implicit"
   ]
  },
  {
   "cell_type": "code",
   "execution_count": 57,
   "id": "3b974077",
   "metadata": {},
   "outputs": [
    {
     "name": "stdout",
     "output_type": "stream",
     "text": [
      "Movielens:\n"
     ]
    },
    {
     "data": {
      "text/html": [
       "<style type=\"text/css\">\n",
       "#T_21e87_row0_col0, #T_21e87_row0_col1, #T_21e87_row0_col2, #T_21e87_row3_col3 {\n",
       "  background-color: #023858;\n",
       "  color: #f1f1f1;\n",
       "}\n",
       "#T_21e87_row0_col3 {\n",
       "  background-color: #f7f0f7;\n",
       "  color: #000000;\n",
       "}\n",
       "#T_21e87_row1_col0 {\n",
       "  background-color: #03466e;\n",
       "  color: #f1f1f1;\n",
       "}\n",
       "#T_21e87_row1_col1 {\n",
       "  background-color: #023b5d;\n",
       "  color: #f1f1f1;\n",
       "}\n",
       "#T_21e87_row1_col2 {\n",
       "  background-color: #023f64;\n",
       "  color: #f1f1f1;\n",
       "}\n",
       "#T_21e87_row1_col3 {\n",
       "  background-color: #f9f2f8;\n",
       "  color: #000000;\n",
       "}\n",
       "#T_21e87_row2_col0 {\n",
       "  background-color: #023c5f;\n",
       "  color: #f1f1f1;\n",
       "}\n",
       "#T_21e87_row2_col1 {\n",
       "  background-color: #034165;\n",
       "  color: #f1f1f1;\n",
       "}\n",
       "#T_21e87_row2_col2 {\n",
       "  background-color: #023e62;\n",
       "  color: #f1f1f1;\n",
       "}\n",
       "#T_21e87_row2_col3 {\n",
       "  background-color: #f8f1f8;\n",
       "  color: #000000;\n",
       "}\n",
       "#T_21e87_row3_col0 {\n",
       "  background-color: #2c89bd;\n",
       "  color: #f1f1f1;\n",
       "}\n",
       "#T_21e87_row3_col1 {\n",
       "  background-color: #6ba5cd;\n",
       "  color: #f1f1f1;\n",
       "}\n",
       "#T_21e87_row3_col2 {\n",
       "  background-color: #4c99c5;\n",
       "  color: #f1f1f1;\n",
       "}\n",
       "#T_21e87_row4_col0 {\n",
       "  background-color: #045788;\n",
       "  color: #f1f1f1;\n",
       "}\n",
       "#T_21e87_row4_col1 {\n",
       "  background-color: #045483;\n",
       "  color: #f1f1f1;\n",
       "}\n",
       "#T_21e87_row4_col2 {\n",
       "  background-color: #045585;\n",
       "  color: #f1f1f1;\n",
       "}\n",
       "#T_21e87_row4_col3 {\n",
       "  background-color: #dad9ea;\n",
       "  color: #000000;\n",
       "}\n",
       "#T_21e87_row5_col0, #T_21e87_row5_col1, #T_21e87_row5_col2, #T_21e87_row5_col3 {\n",
       "  background-color: #fff7fb;\n",
       "  color: #000000;\n",
       "}\n",
       "</style>\n",
       "<table id=\"T_21e87\">\n",
       "  <thead>\n",
       "    <tr>\n",
       "      <th class=\"blank level0\" >&nbsp;</th>\n",
       "      <th id=\"T_21e87_level0_col0\" class=\"col_heading level0 col0\" >HR</th>\n",
       "      <th id=\"T_21e87_level0_col1\" class=\"col_heading level0 col1\" >MRR</th>\n",
       "      <th id=\"T_21e87_level0_col2\" class=\"col_heading level0 col2\" >nDCG</th>\n",
       "      <th id=\"T_21e87_level0_col3\" class=\"col_heading level0 col3\" >COV</th>\n",
       "    </tr>\n",
       "  </thead>\n",
       "  <tbody>\n",
       "    <tr>\n",
       "      <th id=\"T_21e87_level0_row0\" class=\"row_heading level0 row0\" >ALS</th>\n",
       "      <td id=\"T_21e87_row0_col0\" class=\"data row0 col0\" >0.102318</td>\n",
       "      <td id=\"T_21e87_row0_col1\" class=\"data row0 col1\" >0.036046</td>\n",
       "      <td id=\"T_21e87_row0_col2\" class=\"data row0 col2\" >0.051282</td>\n",
       "      <td id=\"T_21e87_row0_col3\" class=\"data row0 col3\" >0.367171</td>\n",
       "    </tr>\n",
       "    <tr>\n",
       "      <th id=\"T_21e87_level0_row1\" class=\"row_heading level0 row1\" >eALS</th>\n",
       "      <td id=\"T_21e87_row1_col0\" class=\"data row1 col0\" >0.099338</td>\n",
       "      <td id=\"T_21e87_row1_col1\" class=\"data row1 col1\" >0.035760</td>\n",
       "      <td id=\"T_21e87_row1_col2\" class=\"data row1 col2\" >0.050432</td>\n",
       "      <td id=\"T_21e87_row1_col3\" class=\"data row1 col3\" >0.364201</td>\n",
       "    </tr>\n",
       "    <tr>\n",
       "      <th id=\"T_21e87_level0_row2\" class=\"row_heading level0 row2\" >iALS</th>\n",
       "      <td id=\"T_21e87_row2_col0\" class=\"data row2 col0\" >0.101325</td>\n",
       "      <td id=\"T_21e87_row2_col1\" class=\"data row2 col1\" >0.035419</td>\n",
       "      <td id=\"T_21e87_row2_col2\" class=\"data row2 col2\" >0.050591</td>\n",
       "      <td id=\"T_21e87_row2_col3\" class=\"data row2 col3\" >0.366091</td>\n",
       "    </tr>\n",
       "    <tr>\n",
       "      <th id=\"T_21e87_level0_row3\" class=\"row_heading level0 row3\" >NGCF</th>\n",
       "      <td id=\"T_21e87_row3_col0\" class=\"data row3 col0\" >0.082450</td>\n",
       "      <td id=\"T_21e87_row3_col1\" class=\"data row3 col1\" >0.026750</td>\n",
       "      <td id=\"T_21e87_row3_col2\" class=\"data row3 col2\" >0.039567</td>\n",
       "      <td id=\"T_21e87_row3_col3\" class=\"data row3 col3\" >0.674946</td>\n",
       "    </tr>\n",
       "    <tr>\n",
       "      <th id=\"T_21e87_level0_row4\" class=\"row_heading level0 row4\" >ALS-impl</th>\n",
       "      <td id=\"T_21e87_row4_col0\" class=\"data row4 col0\" >0.095861</td>\n",
       "      <td id=\"T_21e87_row4_col1\" class=\"data row4 col1\" >0.034024</td>\n",
       "      <td id=\"T_21e87_row4_col2\" class=\"data row4 col2\" >0.048315</td>\n",
       "      <td id=\"T_21e87_row4_col3\" class=\"data row4 col3\" >0.417657</td>\n",
       "    </tr>\n",
       "    <tr>\n",
       "      <th id=\"T_21e87_level0_row5\" class=\"row_heading level0 row5\" >BPR-impl</th>\n",
       "      <td id=\"T_21e87_row5_col0\" class=\"data row5 col0\" >0.045695</td>\n",
       "      <td id=\"T_21e87_row5_col1\" class=\"data row5 col1\" >0.016766</td>\n",
       "      <td id=\"T_21e87_row5_col2\" class=\"data row5 col2\" >0.023488</td>\n",
       "      <td id=\"T_21e87_row5_col3\" class=\"data row5 col3\" >0.350702</td>\n",
       "    </tr>\n",
       "  </tbody>\n",
       "</table>\n"
      ],
      "text/plain": [
       "<pandas.io.formats.style.Styler at 0x7ff362093340>"
      ]
     },
     "execution_count": 57,
     "metadata": {},
     "output_type": "execute_result"
    }
   ],
   "source": [
    "print('Movielens:')\n",
    "common_movielens = pd.concat([scores_movielens, scores_implicit_movielens])\n",
    "common_movielens.style.background_gradient()"
   ]
  },
  {
   "cell_type": "code",
   "execution_count": 58,
   "id": "81621a21",
   "metadata": {},
   "outputs": [
    {
     "data": {
      "text/html": [
       "<div>\n",
       "<style scoped>\n",
       "    .dataframe tbody tr th:only-of-type {\n",
       "        vertical-align: middle;\n",
       "    }\n",
       "\n",
       "    .dataframe tbody tr th {\n",
       "        vertical-align: top;\n",
       "    }\n",
       "\n",
       "    .dataframe thead th {\n",
       "        text-align: right;\n",
       "    }\n",
       "</style>\n",
       "<table border=\"1\" class=\"dataframe\">\n",
       "  <thead>\n",
       "    <tr style=\"text-align: right;\">\n",
       "      <th></th>\n",
       "      <th>HR</th>\n",
       "      <th>MRR</th>\n",
       "      <th>nDCG</th>\n",
       "      <th>COV</th>\n",
       "    </tr>\n",
       "  </thead>\n",
       "  <tbody>\n",
       "    <tr>\n",
       "      <th>ALS</th>\n",
       "      <td>0.102318</td>\n",
       "      <td>0.036046</td>\n",
       "      <td>0.051282</td>\n",
       "      <td>0.367171</td>\n",
       "    </tr>\n",
       "    <tr>\n",
       "      <th>eALS</th>\n",
       "      <td>0.099338</td>\n",
       "      <td>0.035760</td>\n",
       "      <td>0.050432</td>\n",
       "      <td>0.364201</td>\n",
       "    </tr>\n",
       "    <tr>\n",
       "      <th>iALS</th>\n",
       "      <td>0.101325</td>\n",
       "      <td>0.035419</td>\n",
       "      <td>0.050591</td>\n",
       "      <td>0.366091</td>\n",
       "    </tr>\n",
       "    <tr>\n",
       "      <th>NGCF</th>\n",
       "      <td>0.082450</td>\n",
       "      <td>0.026750</td>\n",
       "      <td>0.039567</td>\n",
       "      <td>0.674946</td>\n",
       "    </tr>\n",
       "    <tr>\n",
       "      <th>ALS-impl</th>\n",
       "      <td>0.095861</td>\n",
       "      <td>0.034024</td>\n",
       "      <td>0.048315</td>\n",
       "      <td>0.417657</td>\n",
       "    </tr>\n",
       "    <tr>\n",
       "      <th>BPR-impl</th>\n",
       "      <td>0.045695</td>\n",
       "      <td>0.016766</td>\n",
       "      <td>0.023488</td>\n",
       "      <td>0.350702</td>\n",
       "    </tr>\n",
       "  </tbody>\n",
       "</table>\n",
       "</div>"
      ],
      "text/plain": [
       "                HR       MRR      nDCG       COV\n",
       "ALS       0.102318  0.036046  0.051282  0.367171\n",
       "eALS      0.099338  0.035760  0.050432  0.364201\n",
       "iALS      0.101325  0.035419  0.050591  0.366091\n",
       "NGCF      0.082450  0.026750  0.039567  0.674946\n",
       "ALS-impl  0.095861  0.034024  0.048315  0.417657\n",
       "BPR-impl  0.045695  0.016766  0.023488  0.350702"
      ]
     },
     "execution_count": 58,
     "metadata": {},
     "output_type": "execute_result"
    },
    {
     "data": {
      "image/png": "[encoded data removed]",
      "text/plain": [
       "<Figure size 640x480 with 1 Axes>"
      ]
     },
     "metadata": {},
     "output_type": "display_data"
    }
   ],
   "source": [
    "get_table_barplot(common_movielens, model_names=common_movielens.index)"
   ]
  },
  {
   "cell_type": "code",
   "execution_count": 59,
   "id": "8b7d49a8",
   "metadata": {},
   "outputs": [
    {
     "name": "stdout",
     "output_type": "stream",
     "text": [
      "Yelp:\n"
     ]
    },
    {
     "data": {
      "text/html": [
       "<style type=\"text/css\">\n",
       "#T_e47b3_row0_col0, #T_e47b3_row0_col2 {\n",
       "  background-color: #056caa;\n",
       "  color: #f1f1f1;\n",
       "}\n",
       "#T_e47b3_row0_col1 {\n",
       "  background-color: #056ba9;\n",
       "  color: #f1f1f1;\n",
       "}\n",
       "#T_e47b3_row0_col3 {\n",
       "  background-color: #b3c3de;\n",
       "  color: #000000;\n",
       "}\n",
       "#T_e47b3_row1_col0 {\n",
       "  background-color: #056dac;\n",
       "  color: #f1f1f1;\n",
       "}\n",
       "#T_e47b3_row1_col1, #T_e47b3_row1_col2 {\n",
       "  background-color: #056dab;\n",
       "  color: #f1f1f1;\n",
       "}\n",
       "#T_e47b3_row1_col3, #T_e47b3_row2_col3 {\n",
       "  background-color: #b5c4df;\n",
       "  color: #000000;\n",
       "}\n",
       "#T_e47b3_row2_col0 {\n",
       "  background-color: #056ead;\n",
       "  color: #f1f1f1;\n",
       "}\n",
       "#T_e47b3_row2_col1, #T_e47b3_row2_col2 {\n",
       "  background-color: #056fae;\n",
       "  color: #f1f1f1;\n",
       "}\n",
       "#T_e47b3_row3_col0 {\n",
       "  background-color: #2182b9;\n",
       "  color: #f1f1f1;\n",
       "}\n",
       "#T_e47b3_row3_col1 {\n",
       "  background-color: #328dbf;\n",
       "  color: #f1f1f1;\n",
       "}\n",
       "#T_e47b3_row3_col2 {\n",
       "  background-color: #2c89bd;\n",
       "  color: #f1f1f1;\n",
       "}\n",
       "#T_e47b3_row3_col3, #T_e47b3_row4_col0, #T_e47b3_row4_col1, #T_e47b3_row4_col2 {\n",
       "  background-color: #023858;\n",
       "  color: #f1f1f1;\n",
       "}\n",
       "#T_e47b3_row4_col3 {\n",
       "  background-color: #67a4cc;\n",
       "  color: #f1f1f1;\n",
       "}\n",
       "#T_e47b3_row5_col0, #T_e47b3_row5_col1, #T_e47b3_row5_col2, #T_e47b3_row5_col3 {\n",
       "  background-color: #fff7fb;\n",
       "  color: #000000;\n",
       "}\n",
       "</style>\n",
       "<table id=\"T_e47b3\">\n",
       "  <thead>\n",
       "    <tr>\n",
       "      <th class=\"blank level0\" >&nbsp;</th>\n",
       "      <th id=\"T_e47b3_level0_col0\" class=\"col_heading level0 col0\" >HR</th>\n",
       "      <th id=\"T_e47b3_level0_col1\" class=\"col_heading level0 col1\" >MRR</th>\n",
       "      <th id=\"T_e47b3_level0_col2\" class=\"col_heading level0 col2\" >nDCG</th>\n",
       "      <th id=\"T_e47b3_level0_col3\" class=\"col_heading level0 col3\" >COV</th>\n",
       "    </tr>\n",
       "  </thead>\n",
       "  <tbody>\n",
       "    <tr>\n",
       "      <th id=\"T_e47b3_level0_row0\" class=\"row_heading level0 row0\" >ALS</th>\n",
       "      <td id=\"T_e47b3_row0_col0\" class=\"data row0 col0\" >0.041477</td>\n",
       "      <td id=\"T_e47b3_row0_col1\" class=\"data row0 col1\" >0.015488</td>\n",
       "      <td id=\"T_e47b3_row0_col2\" class=\"data row0 col2\" >0.021485</td>\n",
       "      <td id=\"T_e47b3_row0_col3\" class=\"data row0 col3\" >0.062410</td>\n",
       "    </tr>\n",
       "    <tr>\n",
       "      <th id=\"T_e47b3_level0_row1\" class=\"row_heading level0 row1\" >eALS</th>\n",
       "      <td id=\"T_e47b3_row1_col0\" class=\"data row1 col0\" >0.041048</td>\n",
       "      <td id=\"T_e47b3_row1_col1\" class=\"data row1 col1\" >0.015388</td>\n",
       "      <td id=\"T_e47b3_row1_col2\" class=\"data row1 col2\" >0.021323</td>\n",
       "      <td id=\"T_e47b3_row1_col3\" class=\"data row1 col3\" >0.061712</td>\n",
       "    </tr>\n",
       "    <tr>\n",
       "      <th id=\"T_e47b3_level0_row2\" class=\"row_heading level0 row2\" >iALS</th>\n",
       "      <td id=\"T_e47b3_row2_col0\" class=\"data row2 col0\" >0.040854</td>\n",
       "      <td id=\"T_e47b3_row2_col1\" class=\"data row2 col1\" >0.015152</td>\n",
       "      <td id=\"T_e47b3_row2_col2\" class=\"data row2 col2\" >0.021101</td>\n",
       "      <td id=\"T_e47b3_row2_col3\" class=\"data row2 col3\" >0.061906</td>\n",
       "    </tr>\n",
       "    <tr>\n",
       "      <th id=\"T_e47b3_level0_row3\" class=\"row_heading level0 row3\" >NGCF</th>\n",
       "      <td id=\"T_e47b3_row3_col0\" class=\"data row3 col0\" >0.037154</td>\n",
       "      <td id=\"T_e47b3_row3_col1\" class=\"data row3 col1\" >0.013125</td>\n",
       "      <td id=\"T_e47b3_row3_col2\" class=\"data row3 col2\" >0.018649</td>\n",
       "      <td id=\"T_e47b3_row3_col3\" class=\"data row3 col3\" >0.143373</td>\n",
       "    </tr>\n",
       "    <tr>\n",
       "      <th id=\"T_e47b3_level0_row4\" class=\"row_heading level0 row4\" >ALS-impl</th>\n",
       "      <td id=\"T_e47b3_row4_col0\" class=\"data row4 col0\" >0.051719</td>\n",
       "      <td id=\"T_e47b3_row4_col1\" class=\"data row4 col1\" >0.019273</td>\n",
       "      <td id=\"T_e47b3_row4_col2\" class=\"data row4 col2\" >0.026771</td>\n",
       "      <td id=\"T_e47b3_row4_col3\" class=\"data row4 col3\" >0.085698</td>\n",
       "    </tr>\n",
       "    <tr>\n",
       "      <th id=\"T_e47b3_level0_row5\" class=\"row_heading level0 row5\" >BPR-impl</th>\n",
       "      <td id=\"T_e47b3_row5_col0\" class=\"data row5 col0\" >0.006699</td>\n",
       "      <td id=\"T_e47b3_row5_col1\" class=\"data row5 col1\" >0.002522</td>\n",
       "      <td id=\"T_e47b3_row5_col2\" class=\"data row5 col2\" >0.003502</td>\n",
       "      <td id=\"T_e47b3_row5_col3\" class=\"data row5 col3\" >0.021424</td>\n",
       "    </tr>\n",
       "  </tbody>\n",
       "</table>\n"
      ],
      "text/plain": [
       "<pandas.io.formats.style.Styler at 0x7ff362044dc0>"
      ]
     },
     "execution_count": 59,
     "metadata": {},
     "output_type": "execute_result"
    }
   ],
   "source": [
    "print('Yelp:')\n",
    "common_yelp = pd.concat([scores_yelp, scores_implicit_yelp])\n",
    "common_yelp.style.background_gradient()"
   ]
  },
  {
   "cell_type": "code",
   "execution_count": null,
   "id": "28fd98ab",
   "metadata": {},
   "outputs": [],
   "source": [
    "get_table_barplot(common_yelp, model_names=common_yelp.index)"
   ]
  }
 ],
 "metadata": {
  "kernelspec": {
   "display_name": "Python 3",
   "language": "python",
   "name": "python3"
  },
  "language_info": {
   "codemirror_mode": {
    "name": "ipython",
    "version": 3
   },
   "file_extension": ".py",
   "mimetype": "text/x-python",
   "name": "python",
   "nbconvert_exporter": "python",
   "pygments_lexer": "ipython3",
   "version": "3.8.9"
  },
  "vscode": {
   "interpreter": {
    "hash": "e78d4372795bdb4f90d4503627452c653be5c92207030b3d0c8da475b03955ac"
   }
  }
 },
 "nbformat": 4,
 "nbformat_minor": 5
}
