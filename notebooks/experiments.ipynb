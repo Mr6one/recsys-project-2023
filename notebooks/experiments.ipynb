{
 "cells": [
  {
   "cell_type": "code",
   "execution_count": 24,
   "id": "dcdb0cbf",
   "metadata": {},
   "outputs": [
    {
     "name": "stdout",
     "output_type": "stream",
     "text": [
      "The autoreload extension is already loaded. To reload it, use:\n",
      "  %reload_ext autoreload\n"
     ]
    }
   ],
   "source": [
    "import numpy as np\n",
    "import pandas as pd\n",
    "\n",
    "from src.utils import timepoint_split, transform_data\n",
    "from src.evaluation.evaluation import downvote_seen_items, topn_recommendations, model_evaluate\n",
    "\n",
    "from tqdm import tqdm\n",
    "import matplotlib as plt"
   ]
  },
  {
   "cell_type": "code",
   "execution_count": 58,
   "id": "add905db",
   "metadata": {},
   "outputs": [
    {
     "data": {
      "text/html": [
       "<div>\n",
       "<style scoped>\n",
       "    .dataframe tbody tr th:only-of-type {\n",
       "        vertical-align: middle;\n",
       "    }\n",
       "\n",
       "    .dataframe tbody tr th {\n",
       "        vertical-align: top;\n",
       "    }\n",
       "\n",
       "    .dataframe thead th {\n",
       "        text-align: right;\n",
       "    }\n",
       "</style>\n",
       "<table border=\"1\" class=\"dataframe\">\n",
       "  <thead>\n",
       "    <tr style=\"text-align: right;\">\n",
       "      <th></th>\n",
       "      <th>userid</th>\n",
       "      <th>movieid</th>\n",
       "      <th>rating</th>\n",
       "      <th>timestamp</th>\n",
       "    </tr>\n",
       "  </thead>\n",
       "  <tbody>\n",
       "    <tr>\n",
       "      <th>0</th>\n",
       "      <td>1</td>\n",
       "      <td>1193</td>\n",
       "      <td>5</td>\n",
       "      <td>978300760</td>\n",
       "    </tr>\n",
       "    <tr>\n",
       "      <th>1</th>\n",
       "      <td>1</td>\n",
       "      <td>661</td>\n",
       "      <td>3</td>\n",
       "      <td>978302109</td>\n",
       "    </tr>\n",
       "    <tr>\n",
       "      <th>2</th>\n",
       "      <td>1</td>\n",
       "      <td>914</td>\n",
       "      <td>3</td>\n",
       "      <td>978301968</td>\n",
       "    </tr>\n",
       "    <tr>\n",
       "      <th>3</th>\n",
       "      <td>1</td>\n",
       "      <td>3408</td>\n",
       "      <td>4</td>\n",
       "      <td>978300275</td>\n",
       "    </tr>\n",
       "    <tr>\n",
       "      <th>4</th>\n",
       "      <td>1</td>\n",
       "      <td>2355</td>\n",
       "      <td>5</td>\n",
       "      <td>978824291</td>\n",
       "    </tr>\n",
       "  </tbody>\n",
       "</table>\n",
       "</div>"
      ],
      "text/plain": [
       "   userid  movieid  rating  timestamp\n",
       "0       1     1193       5  978300760\n",
       "1       1      661       3  978302109\n",
       "2       1      914       3  978301968\n",
       "3       1     3408       4  978300275\n",
       "4       1     2355       5  978824291"
      ]
     },
     "execution_count": 58,
     "metadata": {},
     "output_type": "execute_result"
    }
   ],
   "source": [
    "data_movielens = get_movielens_data(include_time=True)\n",
    "data_movielens.head(5)"
   ]
  },
  {
   "cell_type": "code",
   "execution_count": 59,
   "id": "f9016ee4",
   "metadata": {},
   "outputs": [
    {
     "data": {
      "text/html": [
       "<div>\n",
       "<style scoped>\n",
       "    .dataframe tbody tr th:only-of-type {\n",
       "        vertical-align: middle;\n",
       "    }\n",
       "\n",
       "    .dataframe tbody tr th {\n",
       "        vertical-align: top;\n",
       "    }\n",
       "\n",
       "    .dataframe thead th {\n",
       "        text-align: right;\n",
       "    }\n",
       "</style>\n",
       "<table border=\"1\" class=\"dataframe\">\n",
       "  <thead>\n",
       "    <tr style=\"text-align: right;\">\n",
       "      <th></th>\n",
       "      <th>userid</th>\n",
       "      <th>movieid</th>\n",
       "      <th>rating</th>\n",
       "      <th>timestamp</th>\n",
       "    </tr>\n",
       "  </thead>\n",
       "  <tbody>\n",
       "    <tr>\n",
       "      <th>0</th>\n",
       "      <td>0</td>\n",
       "      <td>0</td>\n",
       "      <td>4.0</td>\n",
       "      <td>1329148800</td>\n",
       "    </tr>\n",
       "    <tr>\n",
       "      <th>1</th>\n",
       "      <td>0</td>\n",
       "      <td>0</td>\n",
       "      <td>4.0</td>\n",
       "      <td>1337011200</td>\n",
       "    </tr>\n",
       "    <tr>\n",
       "      <th>2</th>\n",
       "      <td>0</td>\n",
       "      <td>1</td>\n",
       "      <td>4.0</td>\n",
       "      <td>1335888000</td>\n",
       "    </tr>\n",
       "    <tr>\n",
       "      <th>3</th>\n",
       "      <td>0</td>\n",
       "      <td>2</td>\n",
       "      <td>4.0</td>\n",
       "      <td>1379260800</td>\n",
       "    </tr>\n",
       "    <tr>\n",
       "      <th>4</th>\n",
       "      <td>0</td>\n",
       "      <td>3</td>\n",
       "      <td>2.0</td>\n",
       "      <td>1367856000</td>\n",
       "    </tr>\n",
       "  </tbody>\n",
       "</table>\n",
       "</div>"
      ],
      "text/plain": [
       "   userid  movieid  rating   timestamp\n",
       "0       0        0     4.0  1329148800\n",
       "1       0        0     4.0  1337011200\n",
       "2       0        1     4.0  1335888000\n",
       "3       0        2     4.0  1379260800\n",
       "4       0        3     2.0  1367856000"
      ]
     },
     "execution_count": 59,
     "metadata": {},
     "output_type": "execute_result"
    }
   ],
   "source": [
    "data_yelp  = pd.read_csv('yelp.rating', sep='\\t', names='userid,movieid,rating,timestamp'.split(','))\n",
    "data_yelp.head(5)"
   ]
  },
  {
   "cell_type": "code",
   "execution_count": 72,
   "id": "b52c2a0b",
   "metadata": {},
   "outputs": [],
   "source": [
    "datasets = ['Yelp: ', 'MovieLens: ', ]"
   ]
  },
  {
   "cell_type": "code",
   "execution_count": 70,
   "id": "ee072e65",
   "metadata": {},
   "outputs": [
    {
     "name": "stdout",
     "output_type": "stream",
     "text": [
      "Shapes, yelp data:  508436 197871 4688\n",
      "Shapes, movielens data:  725370 221697 802\n"
     ]
    }
   ],
   "source": [
    "training_yelp, testset_yelp, holdout_yelp, data_index_yelp = transform_data(*timepoint_split(data_yelp,\n",
    "                                                                                             time_split_q=0.98))\n",
    "\n",
    "training_movielens, testset_movielens, holdout_movielens, data_index_movielens = transform_data(*timepoint_split(data_movielens,\n",
    "                                                                                                                 time_split_q=0.95))\n",
    "\n",
    "print('Shapes, yelp data: ',training_yelp.shape[0], testset_yelp.shape[0], holdout_yelp.shape[0])\n",
    "print('Shapes, movielens data: ',training_movielens.shape[0], testset_movielens.shape[0], holdout_movielens.shape[0])"
   ]
  },
  {
   "cell_type": "code",
   "execution_count": 53,
   "id": "614f83e9",
   "metadata": {},
   "outputs": [],
   "source": [
    "data_description_yelp = dict(\n",
    "    users = data_index_yelp['users'].name,\n",
    "    items = data_index_yelp['items'].name,\n",
    "    feedback = 'rating',\n",
    "    n_users = len(data_index_yelp['users']),\n",
    "    n_items = len(data_index_yelp['items']),\n",
    ")\n",
    "\n",
    "data_description_movielens = dict(\n",
    "    users = data_index_movielens['users'].name,\n",
    "    items = data_index_movielens['items'].name,\n",
    "    feedback = 'rating',\n",
    "    n_users = len(data_index_movielens['users']),\n",
    "    n_items = len(data_index_movielens['items']),\n",
    ")"
   ]
  },
  {
   "cell_type": "code",
   "execution_count": 71,
   "id": "9bd02cf6",
   "metadata": {},
   "outputs": [],
   "source": [
    "# !!! scores_X - результат работы модели X, т.е. np.array шейпа: scores_X.shape=(число юзеров в холдауте, число всех айтемов),\n",
    "# где элементы - предсказанные скоры айтемов для каждого юзера (не индексы айтемов, а именно скоры).\n",
    "scores_yelp = ...\n",
    "scores_movielens = ..."
   ]
  },
  {
   "cell_type": "code",
   "execution_count": null,
   "id": "9b081b77",
   "metadata": {},
   "outputs": [],
   "source": [
    "downvote_seen_items(scores_yelp, testset_yelp, data_description_yelp)\n",
    "downvote_seen_items(scores_movielens, testset_movielens, data_description_movielens)"
   ]
  },
  {
   "cell_type": "code",
   "execution_count": null,
   "id": "13ab775b",
   "metadata": {},
   "outputs": [],
   "source": [
    "topn = 10\n",
    "\n",
    "recs_yelp = topn_recommendations(scores_yelp, topn=topn)\n",
    "recs_movielens = topn_recommendations(scores_movielens, topn=topn)"
   ]
  },
  {
   "cell_type": "code",
   "execution_count": null,
   "id": "2e0161f4",
   "metadata": {},
   "outputs": [],
   "source": [
    "hr, mrr, ndcg, cov = model_evaluate(recs_yelp, holdout_yelp, data_description_yelp, topn=topn)\n",
    "print(datasets[0])\n",
    "print(f'HR@{topn} = {hr:.4f}')\n",
    "print(f'MRR@{topn} = {mrr:.4f}')\n",
    "print(f'nDCG@{topn} = {ndcg:.4f}')\n",
    "print(f'COV@{topn} = {cov:.4f}')"
   ]
  },
  {
   "cell_type": "code",
   "execution_count": null,
   "id": "f0f7e70f",
   "metadata": {},
   "outputs": [],
   "source": [
    "hr, mrr, ndcg, cov = model_evaluate(recs_movielens, holdout_movielens, data_description_movielens, topn=topn) \n",
    "print(datasets[1])\n",
    "print(f'HR@{topn} = {hr:.4f}')\n",
    "print(f'MRR@{topn} = {mrr:.4f}')\n",
    "print(f'nDCG@{topn} = {ndcg:.4f}')\n",
    "print(f'COV@{topn} = {cov:.4f}')"
   ]
  }
 ],
 "metadata": {
  "kernelspec": {
   "display_name": "Python 3 (ipykernel)",
   "language": "python",
   "name": "python3"
  },
  "language_info": {
   "codemirror_mode": {
    "name": "ipython",
    "version": 3
   },
   "file_extension": ".py",
   "mimetype": "text/x-python",
   "name": "python",
   "nbconvert_exporter": "python",
   "pygments_lexer": "ipython3",
   "version": "3.10.7"
  }
 },
 "nbformat": 4,
 "nbformat_minor": 5
}
