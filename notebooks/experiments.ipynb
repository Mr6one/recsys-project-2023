{
 "cells": [
  {
   "cell_type": "code",
   "execution_count": null,
   "id": "f5d8b4fc",
   "metadata": {},
   "outputs": [],
   "source": [
    "%load_ext autoreload\n",
    "%autoreload 2\n",
    "\n",
    "import time\n",
    "import numpy as np\n",
    "import pandas as pd\n",
    "import matplotlib.pyplot as plt\n",
    "\n",
    "import implicit\n",
    "\n",
    "import sys\n",
    "sys.path.append('..')\n",
    "\n",
    "from src.datasets import load_dataset\n",
    "from src.utils import get_table_barplot\n",
    "from src.evaluation.evaluation import downvote_seen_items, topn_recommendations, model_evaluate\n",
    "from src.models import NGCF, ALS, eALS, iALS"
   ]
  },
  {
   "attachments": {},
   "cell_type": "markdown",
   "id": "ef1d126c",
   "metadata": {},
   "source": [
    "### Load Data"
   ]
  },
  {
   "cell_type": "code",
   "execution_count": 2,
   "id": "d277d9ca",
   "metadata": {},
   "outputs": [],
   "source": [
    "data_path = '../data'\n",
    "\n",
    "training_yelp, testset_yelp, holdout_yelp, training_matrix_yelp, data_description_yelp = load_dataset('yelp', data_path)\n",
    "training_movielens, testset_movielens, holdout_movielens, training_matrix_movielens, data_description_movielens = load_dataset('movielens', data_path)"
   ]
  },
  {
   "attachments": {},
   "cell_type": "markdown",
   "id": "adcca348",
   "metadata": {},
   "source": [
    "### Load Pretrained Models"
   ]
  },
  {
   "cell_type": "code",
   "execution_count": 3,
   "id": "51d2041d",
   "metadata": {},
   "outputs": [],
   "source": [
    "import torch\n",
    "\n",
    "models_movielens = [\n",
    "    ('ALS', ALS.from_checkpoint('../weights/als_movielens.pkl')),\n",
    "    ('eALS', eALS.from_checkpoint('../weights/eals_movielens.pkl')),\n",
    "    ('iALS', iALS.from_checkpoint('../weights/ials_movielens.pkl')),\n",
    "    ('NGCF', NGCF.from_checkpoint('../weights/ngcf_movielens.pth'))\n",
    "]\n",
    "\n",
    "if torch.cuda.is_available():\n",
    "    models_movielens = [(name, model.cuda()) for name, model in models_movielens]\n",
    "\n",
    "models_yelp = [\n",
    "    ('ALS', ALS.from_checkpoint('../weights/als_yelp.pkl')),\n",
    "    ('eALS', eALS.from_checkpoint('../weights/eals_yelp.pkl')),\n",
    "    ('iALS', iALS.from_checkpoint('../weights/ials_yelp.pkl')),\n",
    "    ('NGCF', NGCF.from_checkpoint('../weights/ngcf_yelp.pth'))\n",
    "]\n",
    "\n",
    "if torch.cuda.is_available():\n",
    "    models_yelp = [(name, model.cuda()) for name, model in models_yelp]"
   ]
  },
  {
   "attachments": {},
   "cell_type": "markdown",
   "id": "90a400d1",
   "metadata": {},
   "source": [
    "### Score Models"
   ]
  },
  {
   "cell_type": "code",
   "execution_count": 4,
   "id": "f91078dd",
   "metadata": {},
   "outputs": [],
   "source": [
    "topn = 10\n",
    "\n",
    "\n",
    "def evaluate_model(model, holdout, testset, data_description, topn=10, verbose=False):\n",
    "    scores = model.score_users(holdout.userid.values)\n",
    "    downvote_seen_items(scores, testset, data_description)\n",
    "    recs = topn_recommendations(scores, topn=topn)\n",
    "\n",
    "    hr, mrr, ndcg, cov = model_evaluate(recs, holdout, data_description, topn=topn)\n",
    "\n",
    "    if verbose:\n",
    "        print(f'HR@{topn} = {hr:.4f}')\n",
    "        print(f'MRR@{topn} = {mrr:.4f}')\n",
    "        print(f'nDCG@{topn} = {ndcg:.4f}')\n",
    "        print(f'COV@{topn} = {cov:.4f}')\n",
    "\n",
    "    return hr, mrr, ndcg, cov\n",
    "\n",
    "\n",
    "def score_models(models, holdout, testset, data_description):\n",
    "    scores = dict()\n",
    "    for name, model in models:\n",
    "        scores[name] = evaluate_model(model, holdout, testset, data_description)\n",
    "\n",
    "    scores = pd.DataFrame(scores, index=['HR', 'MRR', 'nDCG', 'COV']).T\n",
    "    return scores"
   ]
  },
  {
   "cell_type": "code",
   "execution_count": 5,
   "id": "ea38a2a9",
   "metadata": {},
   "outputs": [
    {
     "data": {
      "text/html": [
       "<style type=\"text/css\">\n",
       "#T_e8e1e_row0_col0, #T_e8e1e_row0_col1, #T_e8e1e_row0_col2, #T_e8e1e_row3_col3 {\n",
       "  background-color: #023858;\n",
       "  color: #f1f1f1;\n",
       "}\n",
       "#T_e8e1e_row0_col3 {\n",
       "  background-color: #fef6fa;\n",
       "  color: #000000;\n",
       "}\n",
       "#T_e8e1e_row1_col0 {\n",
       "  background-color: #045e94;\n",
       "  color: #f1f1f1;\n",
       "}\n",
       "#T_e8e1e_row1_col1 {\n",
       "  background-color: #023f64;\n",
       "  color: #f1f1f1;\n",
       "}\n",
       "#T_e8e1e_row1_col2 {\n",
       "  background-color: #034b76;\n",
       "  color: #f1f1f1;\n",
       "}\n",
       "#T_e8e1e_row1_col3, #T_e8e1e_row3_col0, #T_e8e1e_row3_col1, #T_e8e1e_row3_col2 {\n",
       "  background-color: #fff7fb;\n",
       "  color: #000000;\n",
       "}\n",
       "#T_e8e1e_row2_col0 {\n",
       "  background-color: #03456c;\n",
       "  color: #f1f1f1;\n",
       "}\n",
       "#T_e8e1e_row2_col1 {\n",
       "  background-color: #034a74;\n",
       "  color: #f1f1f1;\n",
       "}\n",
       "#T_e8e1e_row2_col2 {\n",
       "  background-color: #034871;\n",
       "  color: #f1f1f1;\n",
       "}\n",
       "#T_e8e1e_row2_col3 {\n",
       "  background-color: #fef6fb;\n",
       "  color: #000000;\n",
       "}\n",
       "</style>\n",
       "<table id=\"T_e8e1e\">\n",
       "  <thead>\n",
       "    <tr>\n",
       "      <th class=\"blank level0\" >&nbsp;</th>\n",
       "      <th id=\"T_e8e1e_level0_col0\" class=\"col_heading level0 col0\" >HR</th>\n",
       "      <th id=\"T_e8e1e_level0_col1\" class=\"col_heading level0 col1\" >MRR</th>\n",
       "      <th id=\"T_e8e1e_level0_col2\" class=\"col_heading level0 col2\" >nDCG</th>\n",
       "      <th id=\"T_e8e1e_level0_col3\" class=\"col_heading level0 col3\" >COV</th>\n",
       "    </tr>\n",
       "  </thead>\n",
       "  <tbody>\n",
       "    <tr>\n",
       "      <th id=\"T_e8e1e_level0_row0\" class=\"row_heading level0 row0\" >ALS</th>\n",
       "      <td id=\"T_e8e1e_row0_col0\" class=\"data row0 col0\" >0.102318</td>\n",
       "      <td id=\"T_e8e1e_row0_col1\" class=\"data row0 col1\" >0.036046</td>\n",
       "      <td id=\"T_e8e1e_row0_col2\" class=\"data row0 col2\" >0.051282</td>\n",
       "      <td id=\"T_e8e1e_row0_col3\" class=\"data row0 col3\" >0.367171</td>\n",
       "    </tr>\n",
       "    <tr>\n",
       "      <th id=\"T_e8e1e_level0_row1\" class=\"row_heading level0 row1\" >eALS</th>\n",
       "      <td id=\"T_e8e1e_row1_col0\" class=\"data row1 col0\" >0.099338</td>\n",
       "      <td id=\"T_e8e1e_row1_col1\" class=\"data row1 col1\" >0.035760</td>\n",
       "      <td id=\"T_e8e1e_row1_col2\" class=\"data row1 col2\" >0.050432</td>\n",
       "      <td id=\"T_e8e1e_row1_col3\" class=\"data row1 col3\" >0.364201</td>\n",
       "    </tr>\n",
       "    <tr>\n",
       "      <th id=\"T_e8e1e_level0_row2\" class=\"row_heading level0 row2\" >iALS</th>\n",
       "      <td id=\"T_e8e1e_row2_col0\" class=\"data row2 col0\" >0.101325</td>\n",
       "      <td id=\"T_e8e1e_row2_col1\" class=\"data row2 col1\" >0.035419</td>\n",
       "      <td id=\"T_e8e1e_row2_col2\" class=\"data row2 col2\" >0.050591</td>\n",
       "      <td id=\"T_e8e1e_row2_col3\" class=\"data row2 col3\" >0.366091</td>\n",
       "    </tr>\n",
       "    <tr>\n",
       "      <th id=\"T_e8e1e_level0_row3\" class=\"row_heading level0 row3\" >NGCF</th>\n",
       "      <td id=\"T_e8e1e_row3_col0\" class=\"data row3 col0\" >0.082450</td>\n",
       "      <td id=\"T_e8e1e_row3_col1\" class=\"data row3 col1\" >0.026750</td>\n",
       "      <td id=\"T_e8e1e_row3_col2\" class=\"data row3 col2\" >0.039567</td>\n",
       "      <td id=\"T_e8e1e_row3_col3\" class=\"data row3 col3\" >0.674946</td>\n",
       "    </tr>\n",
       "  </tbody>\n",
       "</table>\n"
      ],
      "text/plain": [
       "<pandas.io.formats.style.Styler at 0x7fcd22b2b460>"
      ]
     },
     "execution_count": 5,
     "metadata": {},
     "output_type": "execute_result"
    }
   ],
   "source": [
    "scores_movielens = score_models(models_movielens, holdout_movielens, testset_movielens, data_description_movielens)\n",
    "scores_movielens.style.background_gradient()"
   ]
  },
  {
   "cell_type": "code",
   "execution_count": 6,
   "id": "a3c34ff2",
   "metadata": {},
   "outputs": [
    {
     "data": {
      "text/html": [
       "<div>\n",
       "<style scoped>\n",
       "    .dataframe tbody tr th:only-of-type {\n",
       "        vertical-align: middle;\n",
       "    }\n",
       "\n",
       "    .dataframe tbody tr th {\n",
       "        vertical-align: top;\n",
       "    }\n",
       "\n",
       "    .dataframe thead th {\n",
       "        text-align: right;\n",
       "    }\n",
       "</style>\n",
       "<table border=\"1\" class=\"dataframe\">\n",
       "  <thead>\n",
       "    <tr style=\"text-align: right;\">\n",
       "      <th></th>\n",
       "      <th>HR</th>\n",
       "      <th>MRR</th>\n",
       "      <th>nDCG</th>\n",
       "      <th>COV</th>\n",
       "    </tr>\n",
       "  </thead>\n",
       "  <tbody>\n",
       "    <tr>\n",
       "      <th>ALS</th>\n",
       "      <td>0.102318</td>\n",
       "      <td>0.036046</td>\n",
       "      <td>0.051282</td>\n",
       "      <td>0.367171</td>\n",
       "    </tr>\n",
       "    <tr>\n",
       "      <th>eALS</th>\n",
       "      <td>0.099338</td>\n",
       "      <td>0.035760</td>\n",
       "      <td>0.050432</td>\n",
       "      <td>0.364201</td>\n",
       "    </tr>\n",
       "    <tr>\n",
       "      <th>iALS</th>\n",
       "      <td>0.101325</td>\n",
       "      <td>0.035419</td>\n",
       "      <td>0.050591</td>\n",
       "      <td>0.366091</td>\n",
       "    </tr>\n",
       "    <tr>\n",
       "      <th>NGCF</th>\n",
       "      <td>0.082450</td>\n",
       "      <td>0.026750</td>\n",
       "      <td>0.039567</td>\n",
       "      <td>0.674946</td>\n",
       "    </tr>\n",
       "  </tbody>\n",
       "</table>\n",
       "</div>"
      ],
      "text/plain": [
       "            HR       MRR      nDCG       COV\n",
       "ALS   0.102318  0.036046  0.051282  0.367171\n",
       "eALS  0.099338  0.035760  0.050432  0.364201\n",
       "iALS  0.101325  0.035419  0.050591  0.366091\n",
       "NGCF  0.082450  0.026750  0.039567  0.674946"
      ]
     },
     "execution_count": 6,
     "metadata": {},
     "output_type": "execute_result"
    },
    {
     "data": {
      "image/png": "[encoded data removed]",
      "text/plain": [
       "<Figure size 900x900 with 1 Axes>"
      ]
     },
     "metadata": {},
     "output_type": "display_data"
    }
   ],
   "source": [
    "get_table_barplot(scores_movielens, stacked=False, figsize=(9, 9))"
   ]
  },
  {
   "cell_type": "code",
   "execution_count": 7,
   "id": "e70f0bcd",
   "metadata": {},
   "outputs": [
    {
     "data": {
      "text/html": [
       "<style type=\"text/css\">\n",
       "#T_453b6_row0_col0, #T_453b6_row0_col1, #T_453b6_row0_col2, #T_453b6_row3_col3 {\n",
       "  background-color: #023858;\n",
       "  color: #f1f1f1;\n",
       "}\n",
       "#T_453b6_row0_col3 {\n",
       "  background-color: #fef6fa;\n",
       "  color: #000000;\n",
       "}\n",
       "#T_453b6_row1_col0 {\n",
       "  background-color: #045382;\n",
       "  color: #f1f1f1;\n",
       "}\n",
       "#T_453b6_row1_col1 {\n",
       "  background-color: #034369;\n",
       "  color: #f1f1f1;\n",
       "}\n",
       "#T_453b6_row1_col2 {\n",
       "  background-color: #03476f;\n",
       "  color: #f1f1f1;\n",
       "}\n",
       "#T_453b6_row1_col3, #T_453b6_row2_col3, #T_453b6_row3_col0, #T_453b6_row3_col1, #T_453b6_row3_col2 {\n",
       "  background-color: #fff7fb;\n",
       "  color: #000000;\n",
       "}\n",
       "#T_453b6_row2_col0, #T_453b6_row2_col1 {\n",
       "  background-color: #045d92;\n",
       "  color: #f1f1f1;\n",
       "}\n",
       "#T_453b6_row2_col2 {\n",
       "  background-color: #045b8f;\n",
       "  color: #f1f1f1;\n",
       "}\n",
       "</style>\n",
       "<table id=\"T_453b6\">\n",
       "  <thead>\n",
       "    <tr>\n",
       "      <th class=\"blank level0\" >&nbsp;</th>\n",
       "      <th id=\"T_453b6_level0_col0\" class=\"col_heading level0 col0\" >HR</th>\n",
       "      <th id=\"T_453b6_level0_col1\" class=\"col_heading level0 col1\" >MRR</th>\n",
       "      <th id=\"T_453b6_level0_col2\" class=\"col_heading level0 col2\" >nDCG</th>\n",
       "      <th id=\"T_453b6_level0_col3\" class=\"col_heading level0 col3\" >COV</th>\n",
       "    </tr>\n",
       "  </thead>\n",
       "  <tbody>\n",
       "    <tr>\n",
       "      <th id=\"T_453b6_level0_row0\" class=\"row_heading level0 row0\" >ALS</th>\n",
       "      <td id=\"T_453b6_row0_col0\" class=\"data row0 col0\" >0.041477</td>\n",
       "      <td id=\"T_453b6_row0_col1\" class=\"data row0 col1\" >0.015488</td>\n",
       "      <td id=\"T_453b6_row0_col2\" class=\"data row0 col2\" >0.021485</td>\n",
       "      <td id=\"T_453b6_row0_col3\" class=\"data row0 col3\" >0.062410</td>\n",
       "    </tr>\n",
       "    <tr>\n",
       "      <th id=\"T_453b6_level0_row1\" class=\"row_heading level0 row1\" >eALS</th>\n",
       "      <td id=\"T_453b6_row1_col0\" class=\"data row1 col0\" >0.041048</td>\n",
       "      <td id=\"T_453b6_row1_col1\" class=\"data row1 col1\" >0.015388</td>\n",
       "      <td id=\"T_453b6_row1_col2\" class=\"data row1 col2\" >0.021323</td>\n",
       "      <td id=\"T_453b6_row1_col3\" class=\"data row1 col3\" >0.061712</td>\n",
       "    </tr>\n",
       "    <tr>\n",
       "      <th id=\"T_453b6_level0_row2\" class=\"row_heading level0 row2\" >iALS</th>\n",
       "      <td id=\"T_453b6_row2_col0\" class=\"data row2 col0\" >0.040854</td>\n",
       "      <td id=\"T_453b6_row2_col1\" class=\"data row2 col1\" >0.015152</td>\n",
       "      <td id=\"T_453b6_row2_col2\" class=\"data row2 col2\" >0.021101</td>\n",
       "      <td id=\"T_453b6_row2_col3\" class=\"data row2 col3\" >0.061906</td>\n",
       "    </tr>\n",
       "    <tr>\n",
       "      <th id=\"T_453b6_level0_row3\" class=\"row_heading level0 row3\" >NGCF</th>\n",
       "      <td id=\"T_453b6_row3_col0\" class=\"data row3 col0\" >0.037154</td>\n",
       "      <td id=\"T_453b6_row3_col1\" class=\"data row3 col1\" >0.013125</td>\n",
       "      <td id=\"T_453b6_row3_col2\" class=\"data row3 col2\" >0.018649</td>\n",
       "      <td id=\"T_453b6_row3_col3\" class=\"data row3 col3\" >0.143373</td>\n",
       "    </tr>\n",
       "  </tbody>\n",
       "</table>\n"
      ],
      "text/plain": [
       "<pandas.io.formats.style.Styler at 0x7fcc75669df0>"
      ]
     },
     "execution_count": 7,
     "metadata": {},
     "output_type": "execute_result"
    }
   ],
   "source": [
    "scores_yelp = score_models(models_yelp, holdout_yelp, testset_yelp, data_description_yelp)\n",
    "scores_yelp.style.background_gradient()"
   ]
  },
  {
   "cell_type": "code",
   "execution_count": 8,
   "id": "6e5bce5b",
   "metadata": {},
   "outputs": [
    {
     "data": {
      "text/html": [
       "<div>\n",
       "<style scoped>\n",
       "    .dataframe tbody tr th:only-of-type {\n",
       "        vertical-align: middle;\n",
       "    }\n",
       "\n",
       "    .dataframe tbody tr th {\n",
       "        vertical-align: top;\n",
       "    }\n",
       "\n",
       "    .dataframe thead th {\n",
       "        text-align: right;\n",
       "    }\n",
       "</style>\n",
       "<table border=\"1\" class=\"dataframe\">\n",
       "  <thead>\n",
       "    <tr style=\"text-align: right;\">\n",
       "      <th></th>\n",
       "      <th>HR</th>\n",
       "      <th>MRR</th>\n",
       "      <th>nDCG</th>\n",
       "      <th>COV</th>\n",
       "    </tr>\n",
       "  </thead>\n",
       "  <tbody>\n",
       "    <tr>\n",
       "      <th>ALS</th>\n",
       "      <td>0.041477</td>\n",
       "      <td>0.015488</td>\n",
       "      <td>0.021485</td>\n",
       "      <td>0.062410</td>\n",
       "    </tr>\n",
       "    <tr>\n",
       "      <th>eALS</th>\n",
       "      <td>0.041048</td>\n",
       "      <td>0.015388</td>\n",
       "      <td>0.021323</td>\n",
       "      <td>0.061712</td>\n",
       "    </tr>\n",
       "    <tr>\n",
       "      <th>iALS</th>\n",
       "      <td>0.040854</td>\n",
       "      <td>0.015152</td>\n",
       "      <td>0.021101</td>\n",
       "      <td>0.061906</td>\n",
       "    </tr>\n",
       "    <tr>\n",
       "      <th>NGCF</th>\n",
       "      <td>0.037154</td>\n",
       "      <td>0.013125</td>\n",
       "      <td>0.018649</td>\n",
       "      <td>0.143373</td>\n",
       "    </tr>\n",
       "  </tbody>\n",
       "</table>\n",
       "</div>"
      ],
      "text/plain": [
       "            HR       MRR      nDCG       COV\n",
       "ALS   0.041477  0.015488  0.021485  0.062410\n",
       "eALS  0.041048  0.015388  0.021323  0.061712\n",
       "iALS  0.040854  0.015152  0.021101  0.061906\n",
       "NGCF  0.037154  0.013125  0.018649  0.143373"
      ]
     },
     "execution_count": 8,
     "metadata": {},
     "output_type": "execute_result"
    },
    {
     "data": {
      "image/png": "[encoded data removed]",
      "text/plain": [
       "<Figure size 900x900 with 1 Axes>"
      ]
     },
     "metadata": {},
     "output_type": "display_data"
    }
   ],
   "source": [
    "get_table_barplot(scores_yelp, stacked=False, figsize=(9, 9))"
   ]
  },
  {
   "attachments": {},
   "cell_type": "markdown",
   "id": "6e9f12e1",
   "metadata": {},
   "source": [
    "### Implicit Models"
   ]
  },
  {
   "cell_type": "code",
   "execution_count": 9,
   "id": "8242c62b",
   "metadata": {},
   "outputs": [],
   "source": [
    "def evaluate_implicit_model(implicit_model, holdout, training_matrix, data_description, topn=10, verbose=False):\n",
    "    model = implicit_model(iterations=100, regularization=0.1, use_gpu=True)\n",
    "    model.fit(training_matrix)\n",
    "\n",
    "    recs = model.recommend(np.arange(training_matrix.shape[0]), training_matrix, N=topn, filter_already_liked_items=True)[0]\n",
    "    hr, mrr, ndcg, cov = model_evaluate(recs, holdout, data_description, topn=topn)\n",
    "\n",
    "    if verbose:\n",
    "        print(f'HR@{topn} = {hr:.4f}')\n",
    "        print(f'MRR@{topn} = {mrr:.4f}')\n",
    "        print(f'nDCG@{topn} = {ndcg:.4f}')\n",
    "        print(f'COV@{topn} = {cov:.4f}')\n",
    "\n",
    "    return hr, mrr, ndcg, cov\n",
    "\n",
    "\n",
    "def score_implicit_models(implicit_models, holdout, training_matrix, data_description):\n",
    "    scores = dict()\n",
    "    for name, model in implicit_models:\n",
    "        metrics = evaluate_implicit_model(model, holdout, training_matrix, data_description, topn=topn)\n",
    "        scores[name] = metrics\n",
    "\n",
    "    scores = pd.DataFrame(scores, index=['HR', 'MRR', 'nDCG', 'COV']).T\n",
    "    return scores"
   ]
  },
  {
   "cell_type": "code",
   "execution_count": 10,
   "id": "5d3eb572",
   "metadata": {},
   "outputs": [
    {
     "data": {
      "application/vnd.jupyter.widget-view+json": {
       "model_id": "3f6b3f89bd0742228f13f20b5634f5ad",
       "version_major": 2,
       "version_minor": 0
      },
      "text/plain": [
       "  0%|          | 0/100 [00:00<?, ?it/s]"
      ]
     },
     "metadata": {},
     "output_type": "display_data"
    },
    {
     "data": {
      "application/vnd.jupyter.widget-view+json": {
       "model_id": "4e35324afaf7446ebf90b61239def287",
       "version_major": 2,
       "version_minor": 0
      },
      "text/plain": [
       "  0%|          | 0/100 [00:00<?, ?it/s]"
      ]
     },
     "metadata": {},
     "output_type": "display_data"
    },
    {
     "data": {
      "text/html": [
       "<style type=\"text/css\">\n",
       "#T_8a411_row0_col0, #T_8a411_row0_col1, #T_8a411_row0_col2, #T_8a411_row0_col3 {\n",
       "  background-color: #023858;\n",
       "  color: #f1f1f1;\n",
       "}\n",
       "#T_8a411_row1_col0, #T_8a411_row1_col1, #T_8a411_row1_col2, #T_8a411_row1_col3 {\n",
       "  background-color: #fff7fb;\n",
       "  color: #000000;\n",
       "}\n",
       "</style>\n",
       "<table id=\"T_8a411\">\n",
       "  <thead>\n",
       "    <tr>\n",
       "      <th class=\"blank level0\" >&nbsp;</th>\n",
       "      <th id=\"T_8a411_level0_col0\" class=\"col_heading level0 col0\" >HR</th>\n",
       "      <th id=\"T_8a411_level0_col1\" class=\"col_heading level0 col1\" >MRR</th>\n",
       "      <th id=\"T_8a411_level0_col2\" class=\"col_heading level0 col2\" >nDCG</th>\n",
       "      <th id=\"T_8a411_level0_col3\" class=\"col_heading level0 col3\" >COV</th>\n",
       "    </tr>\n",
       "  </thead>\n",
       "  <tbody>\n",
       "    <tr>\n",
       "      <th id=\"T_8a411_level0_row0\" class=\"row_heading level0 row0\" >ALS-impl</th>\n",
       "      <td id=\"T_8a411_row0_col0\" class=\"data row0 col0\" >0.097020</td>\n",
       "      <td id=\"T_8a411_row0_col1\" class=\"data row0 col1\" >0.034297</td>\n",
       "      <td id=\"T_8a411_row0_col2\" class=\"data row0 col2\" >0.048729</td>\n",
       "      <td id=\"T_8a411_row0_col3\" class=\"data row0 col3\" >0.417387</td>\n",
       "    </tr>\n",
       "    <tr>\n",
       "      <th id=\"T_8a411_level0_row1\" class=\"row_heading level0 row1\" >BPR-impl</th>\n",
       "      <td id=\"T_8a411_row1_col0\" class=\"data row1 col0\" >0.043543</td>\n",
       "      <td id=\"T_8a411_row1_col1\" class=\"data row1 col1\" >0.016080</td>\n",
       "      <td id=\"T_8a411_row1_col2\" class=\"data row1 col2\" >0.022444</td>\n",
       "      <td id=\"T_8a411_row1_col3\" class=\"data row1 col3\" >0.356102</td>\n",
       "    </tr>\n",
       "  </tbody>\n",
       "</table>\n"
      ],
      "text/plain": [
       "<pandas.io.formats.style.Styler at 0x7fcc7a90de50>"
      ]
     },
     "execution_count": 10,
     "metadata": {},
     "output_type": "execute_result"
    }
   ],
   "source": [
    "implicit_models = [\n",
    "    ('ALS-impl', implicit.als.AlternatingLeastSquares), \n",
    "    ('BPR-impl', implicit.bpr.BayesianPersonalizedRanking)\n",
    "]\n",
    "\n",
    "scores_implicit_movielens = score_implicit_models(implicit_models, holdout_movielens, training_matrix_movielens, data_description_movielens)\n",
    "scores_implicit_movielens.style.background_gradient()"
   ]
  },
  {
   "cell_type": "code",
   "execution_count": 11,
   "id": "c32e8093",
   "metadata": {},
   "outputs": [
    {
     "data": {
      "application/vnd.jupyter.widget-view+json": {
       "model_id": "61d79a294a83425ca8a8661a79ae1a34",
       "version_major": 2,
       "version_minor": 0
      },
      "text/plain": [
       "  0%|          | 0/100 [00:00<?, ?it/s]"
      ]
     },
     "metadata": {},
     "output_type": "display_data"
    },
    {
     "data": {
      "application/vnd.jupyter.widget-view+json": {
       "model_id": "fd46d6dc122344229cc4350d1265440f",
       "version_major": 2,
       "version_minor": 0
      },
      "text/plain": [
       "  0%|          | 0/100 [00:00<?, ?it/s]"
      ]
     },
     "metadata": {},
     "output_type": "display_data"
    },
    {
     "data": {
      "text/html": [
       "<style type=\"text/css\">\n",
       "#T_322fc_row0_col0, #T_322fc_row0_col1, #T_322fc_row0_col2, #T_322fc_row0_col3 {\n",
       "  background-color: #023858;\n",
       "  color: #f1f1f1;\n",
       "}\n",
       "#T_322fc_row1_col0, #T_322fc_row1_col1, #T_322fc_row1_col2, #T_322fc_row1_col3 {\n",
       "  background-color: #fff7fb;\n",
       "  color: #000000;\n",
       "}\n",
       "</style>\n",
       "<table id=\"T_322fc\">\n",
       "  <thead>\n",
       "    <tr>\n",
       "      <th class=\"blank level0\" >&nbsp;</th>\n",
       "      <th id=\"T_322fc_level0_col0\" class=\"col_heading level0 col0\" >HR</th>\n",
       "      <th id=\"T_322fc_level0_col1\" class=\"col_heading level0 col1\" >MRR</th>\n",
       "      <th id=\"T_322fc_level0_col2\" class=\"col_heading level0 col2\" >nDCG</th>\n",
       "      <th id=\"T_322fc_level0_col3\" class=\"col_heading level0 col3\" >COV</th>\n",
       "    </tr>\n",
       "  </thead>\n",
       "  <tbody>\n",
       "    <tr>\n",
       "      <th id=\"T_322fc_level0_row0\" class=\"row_heading level0 row0\" >ALS-impl</th>\n",
       "      <td id=\"T_322fc_row0_col0\" class=\"data row0 col0\" >0.051486</td>\n",
       "      <td id=\"T_322fc_row0_col1\" class=\"data row0 col1\" >0.019328</td>\n",
       "      <td id=\"T_322fc_row0_col2\" class=\"data row0 col2\" >0.026760</td>\n",
       "      <td id=\"T_322fc_row0_col3\" class=\"data row0 col3\" >0.085620</td>\n",
       "    </tr>\n",
       "    <tr>\n",
       "      <th id=\"T_322fc_level0_row1\" class=\"row_heading level0 row1\" >BPR-impl</th>\n",
       "      <td id=\"T_322fc_row1_col0\" class=\"data row1 col0\" >0.005764</td>\n",
       "      <td id=\"T_322fc_row1_col1\" class=\"data row1 col1\" >0.002355</td>\n",
       "      <td id=\"T_322fc_row1_col2\" class=\"data row1 col2\" >0.003147</td>\n",
       "      <td id=\"T_322fc_row1_col3\" class=\"data row1 col3\" >0.021541</td>\n",
       "    </tr>\n",
       "  </tbody>\n",
       "</table>\n"
      ],
      "text/plain": [
       "<pandas.io.formats.style.Styler at 0x7fcc7567f7f0>"
      ]
     },
     "execution_count": 11,
     "metadata": {},
     "output_type": "execute_result"
    }
   ],
   "source": [
    "scores_implicit_yelp = score_implicit_models(implicit_models, holdout_yelp, training_matrix_yelp, data_description_yelp)\n",
    "scores_implicit_yelp.style.background_gradient()"
   ]
  },
  {
   "attachments": {},
   "cell_type": "markdown",
   "id": "422b4c20",
   "metadata": {},
   "source": [
    "### Comparison with Implicit"
   ]
  },
  {
   "cell_type": "code",
   "execution_count": 12,
   "id": "3b974077",
   "metadata": {},
   "outputs": [
    {
     "name": "stdout",
     "output_type": "stream",
     "text": [
      "Movielens:\n"
     ]
    },
    {
     "data": {
      "text/html": [
       "<style type=\"text/css\">\n",
       "#T_520bf_row0_col0, #T_520bf_row0_col1, #T_520bf_row0_col2, #T_520bf_row3_col3 {\n",
       "  background-color: #023858;\n",
       "  color: #f1f1f1;\n",
       "}\n",
       "#T_520bf_row0_col3, #T_520bf_row2_col3 {\n",
       "  background-color: #faf3f9;\n",
       "  color: #000000;\n",
       "}\n",
       "#T_520bf_row1_col0 {\n",
       "  background-color: #03456c;\n",
       "  color: #f1f1f1;\n",
       "}\n",
       "#T_520bf_row1_col1 {\n",
       "  background-color: #023b5d;\n",
       "  color: #f1f1f1;\n",
       "}\n",
       "#T_520bf_row1_col2 {\n",
       "  background-color: #023f64;\n",
       "  color: #f1f1f1;\n",
       "}\n",
       "#T_520bf_row1_col3 {\n",
       "  background-color: #fbf4f9;\n",
       "  color: #000000;\n",
       "}\n",
       "#T_520bf_row2_col0 {\n",
       "  background-color: #023c5f;\n",
       "  color: #f1f1f1;\n",
       "}\n",
       "#T_520bf_row2_col1 {\n",
       "  background-color: #034165;\n",
       "  color: #f1f1f1;\n",
       "}\n",
       "#T_520bf_row2_col2 {\n",
       "  background-color: #023e62;\n",
       "  color: #f1f1f1;\n",
       "}\n",
       "#T_520bf_row3_col0 {\n",
       "  background-color: #2786bb;\n",
       "  color: #f1f1f1;\n",
       "}\n",
       "#T_520bf_row3_col1 {\n",
       "  background-color: #63a2cb;\n",
       "  color: #f1f1f1;\n",
       "}\n",
       "#T_520bf_row3_col2 {\n",
       "  background-color: #4496c3;\n",
       "  color: #f1f1f1;\n",
       "}\n",
       "#T_520bf_row4_col0 {\n",
       "  background-color: #03517e;\n",
       "  color: #f1f1f1;\n",
       "}\n",
       "#T_520bf_row4_col1, #T_520bf_row4_col2 {\n",
       "  background-color: #034f7d;\n",
       "  color: #f1f1f1;\n",
       "}\n",
       "#T_520bf_row4_col3 {\n",
       "  background-color: #dddbec;\n",
       "  color: #000000;\n",
       "}\n",
       "#T_520bf_row5_col0, #T_520bf_row5_col1, #T_520bf_row5_col2, #T_520bf_row5_col3 {\n",
       "  background-color: #fff7fb;\n",
       "  color: #000000;\n",
       "}\n",
       "</style>\n",
       "<table id=\"T_520bf\">\n",
       "  <thead>\n",
       "    <tr>\n",
       "      <th class=\"blank level0\" >&nbsp;</th>\n",
       "      <th id=\"T_520bf_level0_col0\" class=\"col_heading level0 col0\" >HR</th>\n",
       "      <th id=\"T_520bf_level0_col1\" class=\"col_heading level0 col1\" >MRR</th>\n",
       "      <th id=\"T_520bf_level0_col2\" class=\"col_heading level0 col2\" >nDCG</th>\n",
       "      <th id=\"T_520bf_level0_col3\" class=\"col_heading level0 col3\" >COV</th>\n",
       "    </tr>\n",
       "  </thead>\n",
       "  <tbody>\n",
       "    <tr>\n",
       "      <th id=\"T_520bf_level0_row0\" class=\"row_heading level0 row0\" >ALS</th>\n",
       "      <td id=\"T_520bf_row0_col0\" class=\"data row0 col0\" >0.102318</td>\n",
       "      <td id=\"T_520bf_row0_col1\" class=\"data row0 col1\" >0.036046</td>\n",
       "      <td id=\"T_520bf_row0_col2\" class=\"data row0 col2\" >0.051282</td>\n",
       "      <td id=\"T_520bf_row0_col3\" class=\"data row0 col3\" >0.367171</td>\n",
       "    </tr>\n",
       "    <tr>\n",
       "      <th id=\"T_520bf_level0_row1\" class=\"row_heading level0 row1\" >eALS</th>\n",
       "      <td id=\"T_520bf_row1_col0\" class=\"data row1 col0\" >0.099338</td>\n",
       "      <td id=\"T_520bf_row1_col1\" class=\"data row1 col1\" >0.035760</td>\n",
       "      <td id=\"T_520bf_row1_col2\" class=\"data row1 col2\" >0.050432</td>\n",
       "      <td id=\"T_520bf_row1_col3\" class=\"data row1 col3\" >0.364201</td>\n",
       "    </tr>\n",
       "    <tr>\n",
       "      <th id=\"T_520bf_level0_row2\" class=\"row_heading level0 row2\" >iALS</th>\n",
       "      <td id=\"T_520bf_row2_col0\" class=\"data row2 col0\" >0.101325</td>\n",
       "      <td id=\"T_520bf_row2_col1\" class=\"data row2 col1\" >0.035419</td>\n",
       "      <td id=\"T_520bf_row2_col2\" class=\"data row2 col2\" >0.050591</td>\n",
       "      <td id=\"T_520bf_row2_col3\" class=\"data row2 col3\" >0.366091</td>\n",
       "    </tr>\n",
       "    <tr>\n",
       "      <th id=\"T_520bf_level0_row3\" class=\"row_heading level0 row3\" >NGCF</th>\n",
       "      <td id=\"T_520bf_row3_col0\" class=\"data row3 col0\" >0.082450</td>\n",
       "      <td id=\"T_520bf_row3_col1\" class=\"data row3 col1\" >0.026750</td>\n",
       "      <td id=\"T_520bf_row3_col2\" class=\"data row3 col2\" >0.039567</td>\n",
       "      <td id=\"T_520bf_row3_col3\" class=\"data row3 col3\" >0.674946</td>\n",
       "    </tr>\n",
       "    <tr>\n",
       "      <th id=\"T_520bf_level0_row4\" class=\"row_heading level0 row4\" >ALS-impl</th>\n",
       "      <td id=\"T_520bf_row4_col0\" class=\"data row4 col0\" >0.097020</td>\n",
       "      <td id=\"T_520bf_row4_col1\" class=\"data row4 col1\" >0.034297</td>\n",
       "      <td id=\"T_520bf_row4_col2\" class=\"data row4 col2\" >0.048729</td>\n",
       "      <td id=\"T_520bf_row4_col3\" class=\"data row4 col3\" >0.417387</td>\n",
       "    </tr>\n",
       "    <tr>\n",
       "      <th id=\"T_520bf_level0_row5\" class=\"row_heading level0 row5\" >BPR-impl</th>\n",
       "      <td id=\"T_520bf_row5_col0\" class=\"data row5 col0\" >0.043543</td>\n",
       "      <td id=\"T_520bf_row5_col1\" class=\"data row5 col1\" >0.016080</td>\n",
       "      <td id=\"T_520bf_row5_col2\" class=\"data row5 col2\" >0.022444</td>\n",
       "      <td id=\"T_520bf_row5_col3\" class=\"data row5 col3\" >0.356102</td>\n",
       "    </tr>\n",
       "  </tbody>\n",
       "</table>\n"
      ],
      "text/plain": [
       "<pandas.io.formats.style.Styler at 0x7fcc7adfc5e0>"
      ]
     },
     "execution_count": 12,
     "metadata": {},
     "output_type": "execute_result"
    }
   ],
   "source": [
    "print('Movielens:')\n",
    "common_movielens = pd.concat([scores_movielens, scores_implicit_movielens])\n",
    "common_movielens.style.background_gradient()"
   ]
  },
  {
   "cell_type": "code",
   "execution_count": 13,
   "id": "81621a21",
   "metadata": {},
   "outputs": [
    {
     "data": {
      "text/html": [
       "<div>\n",
       "<style scoped>\n",
       "    .dataframe tbody tr th:only-of-type {\n",
       "        vertical-align: middle;\n",
       "    }\n",
       "\n",
       "    .dataframe tbody tr th {\n",
       "        vertical-align: top;\n",
       "    }\n",
       "\n",
       "    .dataframe thead th {\n",
       "        text-align: right;\n",
       "    }\n",
       "</style>\n",
       "<table border=\"1\" class=\"dataframe\">\n",
       "  <thead>\n",
       "    <tr style=\"text-align: right;\">\n",
       "      <th></th>\n",
       "      <th>HR</th>\n",
       "      <th>MRR</th>\n",
       "      <th>nDCG</th>\n",
       "      <th>COV</th>\n",
       "    </tr>\n",
       "  </thead>\n",
       "  <tbody>\n",
       "    <tr>\n",
       "      <th>ALS</th>\n",
       "      <td>0.102318</td>\n",
       "      <td>0.036046</td>\n",
       "      <td>0.051282</td>\n",
       "      <td>0.367171</td>\n",
       "    </tr>\n",
       "    <tr>\n",
       "      <th>eALS</th>\n",
       "      <td>0.099338</td>\n",
       "      <td>0.035760</td>\n",
       "      <td>0.050432</td>\n",
       "      <td>0.364201</td>\n",
       "    </tr>\n",
       "    <tr>\n",
       "      <th>iALS</th>\n",
       "      <td>0.101325</td>\n",
       "      <td>0.035419</td>\n",
       "      <td>0.050591</td>\n",
       "      <td>0.366091</td>\n",
       "    </tr>\n",
       "    <tr>\n",
       "      <th>NGCF</th>\n",
       "      <td>0.082450</td>\n",
       "      <td>0.026750</td>\n",
       "      <td>0.039567</td>\n",
       "      <td>0.674946</td>\n",
       "    </tr>\n",
       "    <tr>\n",
       "      <th>ALS-impl</th>\n",
       "      <td>0.097020</td>\n",
       "      <td>0.034297</td>\n",
       "      <td>0.048729</td>\n",
       "      <td>0.417387</td>\n",
       "    </tr>\n",
       "    <tr>\n",
       "      <th>BPR-impl</th>\n",
       "      <td>0.043543</td>\n",
       "      <td>0.016080</td>\n",
       "      <td>0.022444</td>\n",
       "      <td>0.356102</td>\n",
       "    </tr>\n",
       "  </tbody>\n",
       "</table>\n",
       "</div>"
      ],
      "text/plain": [
       "                HR       MRR      nDCG       COV\n",
       "ALS       0.102318  0.036046  0.051282  0.367171\n",
       "eALS      0.099338  0.035760  0.050432  0.364201\n",
       "iALS      0.101325  0.035419  0.050591  0.366091\n",
       "NGCF      0.082450  0.026750  0.039567  0.674946\n",
       "ALS-impl  0.097020  0.034297  0.048729  0.417387\n",
       "BPR-impl  0.043543  0.016080  0.022444  0.356102"
      ]
     },
     "execution_count": 13,
     "metadata": {},
     "output_type": "execute_result"
    },
    {
     "data": {
      "image/png": "[encoded data removed]",
      "text/plain": [
       "<Figure size 900x900 with 1 Axes>"
      ]
     },
     "metadata": {},
     "output_type": "display_data"
    }
   ],
   "source": [
    "get_table_barplot(common_movielens, model_names=common_movielens.index, stacked=False, figsize=(9, 9))"
   ]
  },
  {
   "cell_type": "code",
   "execution_count": 14,
   "id": "8b7d49a8",
   "metadata": {},
   "outputs": [
    {
     "name": "stdout",
     "output_type": "stream",
     "text": [
      "Yelp:\n"
     ]
    },
    {
     "data": {
      "text/html": [
       "<style type=\"text/css\">\n",
       "#T_afa73_row0_col0 {\n",
       "  background-color: #056ba7;\n",
       "  color: #f1f1f1;\n",
       "}\n",
       "#T_afa73_row0_col1, #T_afa73_row0_col2 {\n",
       "  background-color: #056ba9;\n",
       "  color: #f1f1f1;\n",
       "}\n",
       "#T_afa73_row0_col3 {\n",
       "  background-color: #b4c4df;\n",
       "  color: #000000;\n",
       "}\n",
       "#T_afa73_row1_col0, #T_afa73_row1_col2 {\n",
       "  background-color: #056caa;\n",
       "  color: #f1f1f1;\n",
       "}\n",
       "#T_afa73_row1_col1, #T_afa73_row2_col0 {\n",
       "  background-color: #056dab;\n",
       "  color: #f1f1f1;\n",
       "}\n",
       "#T_afa73_row1_col3, #T_afa73_row2_col3 {\n",
       "  background-color: #b5c4df;\n",
       "  color: #000000;\n",
       "}\n",
       "#T_afa73_row2_col1 {\n",
       "  background-color: #056fae;\n",
       "  color: #f1f1f1;\n",
       "}\n",
       "#T_afa73_row2_col2 {\n",
       "  background-color: #056ead;\n",
       "  color: #f1f1f1;\n",
       "}\n",
       "#T_afa73_row3_col0 {\n",
       "  background-color: #1e80b8;\n",
       "  color: #f1f1f1;\n",
       "}\n",
       "#T_afa73_row3_col1 {\n",
       "  background-color: #328dbf;\n",
       "  color: #f1f1f1;\n",
       "}\n",
       "#T_afa73_row3_col2 {\n",
       "  background-color: #2987bc;\n",
       "  color: #f1f1f1;\n",
       "}\n",
       "#T_afa73_row3_col3, #T_afa73_row4_col0, #T_afa73_row4_col1, #T_afa73_row4_col2 {\n",
       "  background-color: #023858;\n",
       "  color: #f1f1f1;\n",
       "}\n",
       "#T_afa73_row4_col3 {\n",
       "  background-color: #67a4cc;\n",
       "  color: #f1f1f1;\n",
       "}\n",
       "#T_afa73_row5_col0, #T_afa73_row5_col1, #T_afa73_row5_col2, #T_afa73_row5_col3 {\n",
       "  background-color: #fff7fb;\n",
       "  color: #000000;\n",
       "}\n",
       "</style>\n",
       "<table id=\"T_afa73\">\n",
       "  <thead>\n",
       "    <tr>\n",
       "      <th class=\"blank level0\" >&nbsp;</th>\n",
       "      <th id=\"T_afa73_level0_col0\" class=\"col_heading level0 col0\" >HR</th>\n",
       "      <th id=\"T_afa73_level0_col1\" class=\"col_heading level0 col1\" >MRR</th>\n",
       "      <th id=\"T_afa73_level0_col2\" class=\"col_heading level0 col2\" >nDCG</th>\n",
       "      <th id=\"T_afa73_level0_col3\" class=\"col_heading level0 col3\" >COV</th>\n",
       "    </tr>\n",
       "  </thead>\n",
       "  <tbody>\n",
       "    <tr>\n",
       "      <th id=\"T_afa73_level0_row0\" class=\"row_heading level0 row0\" >ALS</th>\n",
       "      <td id=\"T_afa73_row0_col0\" class=\"data row0 col0\" >0.041477</td>\n",
       "      <td id=\"T_afa73_row0_col1\" class=\"data row0 col1\" >0.015488</td>\n",
       "      <td id=\"T_afa73_row0_col2\" class=\"data row0 col2\" >0.021485</td>\n",
       "      <td id=\"T_afa73_row0_col3\" class=\"data row0 col3\" >0.062410</td>\n",
       "    </tr>\n",
       "    <tr>\n",
       "      <th id=\"T_afa73_level0_row1\" class=\"row_heading level0 row1\" >eALS</th>\n",
       "      <td id=\"T_afa73_row1_col0\" class=\"data row1 col0\" >0.041048</td>\n",
       "      <td id=\"T_afa73_row1_col1\" class=\"data row1 col1\" >0.015388</td>\n",
       "      <td id=\"T_afa73_row1_col2\" class=\"data row1 col2\" >0.021323</td>\n",
       "      <td id=\"T_afa73_row1_col3\" class=\"data row1 col3\" >0.061712</td>\n",
       "    </tr>\n",
       "    <tr>\n",
       "      <th id=\"T_afa73_level0_row2\" class=\"row_heading level0 row2\" >iALS</th>\n",
       "      <td id=\"T_afa73_row2_col0\" class=\"data row2 col0\" >0.040854</td>\n",
       "      <td id=\"T_afa73_row2_col1\" class=\"data row2 col1\" >0.015152</td>\n",
       "      <td id=\"T_afa73_row2_col2\" class=\"data row2 col2\" >0.021101</td>\n",
       "      <td id=\"T_afa73_row2_col3\" class=\"data row2 col3\" >0.061906</td>\n",
       "    </tr>\n",
       "    <tr>\n",
       "      <th id=\"T_afa73_level0_row3\" class=\"row_heading level0 row3\" >NGCF</th>\n",
       "      <td id=\"T_afa73_row3_col0\" class=\"data row3 col0\" >0.037154</td>\n",
       "      <td id=\"T_afa73_row3_col1\" class=\"data row3 col1\" >0.013125</td>\n",
       "      <td id=\"T_afa73_row3_col2\" class=\"data row3 col2\" >0.018649</td>\n",
       "      <td id=\"T_afa73_row3_col3\" class=\"data row3 col3\" >0.143373</td>\n",
       "    </tr>\n",
       "    <tr>\n",
       "      <th id=\"T_afa73_level0_row4\" class=\"row_heading level0 row4\" >ALS-impl</th>\n",
       "      <td id=\"T_afa73_row4_col0\" class=\"data row4 col0\" >0.051486</td>\n",
       "      <td id=\"T_afa73_row4_col1\" class=\"data row4 col1\" >0.019328</td>\n",
       "      <td id=\"T_afa73_row4_col2\" class=\"data row4 col2\" >0.026760</td>\n",
       "      <td id=\"T_afa73_row4_col3\" class=\"data row4 col3\" >0.085620</td>\n",
       "    </tr>\n",
       "    <tr>\n",
       "      <th id=\"T_afa73_level0_row5\" class=\"row_heading level0 row5\" >BPR-impl</th>\n",
       "      <td id=\"T_afa73_row5_col0\" class=\"data row5 col0\" >0.005764</td>\n",
       "      <td id=\"T_afa73_row5_col1\" class=\"data row5 col1\" >0.002355</td>\n",
       "      <td id=\"T_afa73_row5_col2\" class=\"data row5 col2\" >0.003147</td>\n",
       "      <td id=\"T_afa73_row5_col3\" class=\"data row5 col3\" >0.021541</td>\n",
       "    </tr>\n",
       "  </tbody>\n",
       "</table>\n"
      ],
      "text/plain": [
       "<pandas.io.formats.style.Styler at 0x7fcc74f649a0>"
      ]
     },
     "execution_count": 14,
     "metadata": {},
     "output_type": "execute_result"
    }
   ],
   "source": [
    "print('Yelp:')\n",
    "common_yelp = pd.concat([scores_yelp, scores_implicit_yelp])\n",
    "common_yelp.style.background_gradient()"
   ]
  },
  {
   "cell_type": "code",
   "execution_count": 15,
   "id": "28fd98ab",
   "metadata": {},
   "outputs": [
    {
     "data": {
      "text/html": [
       "<div>\n",
       "<style scoped>\n",
       "    .dataframe tbody tr th:only-of-type {\n",
       "        vertical-align: middle;\n",
       "    }\n",
       "\n",
       "    .dataframe tbody tr th {\n",
       "        vertical-align: top;\n",
       "    }\n",
       "\n",
       "    .dataframe thead th {\n",
       "        text-align: right;\n",
       "    }\n",
       "</style>\n",
       "<table border=\"1\" class=\"dataframe\">\n",
       "  <thead>\n",
       "    <tr style=\"text-align: right;\">\n",
       "      <th></th>\n",
       "      <th>HR</th>\n",
       "      <th>MRR</th>\n",
       "      <th>nDCG</th>\n",
       "      <th>COV</th>\n",
       "    </tr>\n",
       "  </thead>\n",
       "  <tbody>\n",
       "    <tr>\n",
       "      <th>ALS</th>\n",
       "      <td>0.041477</td>\n",
       "      <td>0.015488</td>\n",
       "      <td>0.021485</td>\n",
       "      <td>0.062410</td>\n",
       "    </tr>\n",
       "    <tr>\n",
       "      <th>eALS</th>\n",
       "      <td>0.041048</td>\n",
       "      <td>0.015388</td>\n",
       "      <td>0.021323</td>\n",
       "      <td>0.061712</td>\n",
       "    </tr>\n",
       "    <tr>\n",
       "      <th>iALS</th>\n",
       "      <td>0.040854</td>\n",
       "      <td>0.015152</td>\n",
       "      <td>0.021101</td>\n",
       "      <td>0.061906</td>\n",
       "    </tr>\n",
       "    <tr>\n",
       "      <th>NGCF</th>\n",
       "      <td>0.037154</td>\n",
       "      <td>0.013125</td>\n",
       "      <td>0.018649</td>\n",
       "      <td>0.143373</td>\n",
       "    </tr>\n",
       "    <tr>\n",
       "      <th>ALS-impl</th>\n",
       "      <td>0.051486</td>\n",
       "      <td>0.019328</td>\n",
       "      <td>0.026760</td>\n",
       "      <td>0.085620</td>\n",
       "    </tr>\n",
       "    <tr>\n",
       "      <th>BPR-impl</th>\n",
       "      <td>0.005764</td>\n",
       "      <td>0.002355</td>\n",
       "      <td>0.003147</td>\n",
       "      <td>0.021541</td>\n",
       "    </tr>\n",
       "  </tbody>\n",
       "</table>\n",
       "</div>"
      ],
      "text/plain": [
       "                HR       MRR      nDCG       COV\n",
       "ALS       0.041477  0.015488  0.021485  0.062410\n",
       "eALS      0.041048  0.015388  0.021323  0.061712\n",
       "iALS      0.040854  0.015152  0.021101  0.061906\n",
       "NGCF      0.037154  0.013125  0.018649  0.143373\n",
       "ALS-impl  0.051486  0.019328  0.026760  0.085620\n",
       "BPR-impl  0.005764  0.002355  0.003147  0.021541"
      ]
     },
     "execution_count": 15,
     "metadata": {},
     "output_type": "execute_result"
    },
    {
     "data": {
      "image/png": "[encoded data removed]",
      "text/plain": [
       "<Figure size 900x900 with 1 Axes>"
      ]
     },
     "metadata": {},
     "output_type": "display_data"
    }
   ],
   "source": [
    "get_table_barplot(common_yelp, model_names=common_yelp.index, stacked=False, figsize=(9, 9))"
   ]
  },
  {
   "attachments": {},
   "cell_type": "markdown",
   "id": "f2c47fdb",
   "metadata": {},
   "source": [
    "### Training Time"
   ]
  },
  {
   "cell_type": "code",
   "execution_count": 16,
   "id": "33834928",
   "metadata": {},
   "outputs": [],
   "source": [
    "def score_times(models, training_matrix):\n",
    "    times = dict()\n",
    "    for name, model in models:\n",
    "        start = time.time()\n",
    "        model.fit(training_matrix)\n",
    "        elapsed = time.time() - start\n",
    "        times[name] = elapsed\n",
    "\n",
    "    return times"
   ]
  },
  {
   "cell_type": "code",
   "execution_count": null,
   "id": "4ef61846",
   "metadata": {},
   "outputs": [],
   "source": [
    "factors = 100\n",
    "device = 'cuda'\n",
    "\n",
    "models = [\n",
    "    ('ALS', ALS(factors=factors, device=device)),\n",
    "    ('eALS', eALS(factors=factors, device=device)),\n",
    "    ('iALS', iALS(factors=factors, device=device)),\n",
    "    ('ALS-impl', implicit.als.AlternatingLeastSquares(factors=factors, iterations=100, use_gpu=True)),\n",
    "    ('BPR-impl', implicit.bpr.BayesianPersonalizedRanking(factors=factors, iterations=100, use_gpu=True))\n",
    "]\n",
    "\n",
    "times_movielens = score_times(models, training_matrix_movielens)\n",
    "times_movielens['NGCF'] = 2.19 # one epoch"
   ]
  },
  {
   "cell_type": "code",
   "execution_count": 18,
   "id": "c0e1979e",
   "metadata": {},
   "outputs": [
    {
     "data": {
      "image/png": "[encoded data removed]",
      "text/plain": [
       "<Figure size 1100x300 with 1 Axes>"
      ]
     },
     "metadata": {},
     "output_type": "display_data"
    }
   ],
   "source": [
    "plt.figure(figsize=(11, 3))\n",
    "plt.barh(list(times_movielens.keys()), list(times_movielens.values()))\n",
    "plt.xlabel('Time (s.)')\n",
    "plt.show()"
   ]
  },
  {
   "cell_type": "code",
   "execution_count": null,
   "id": "f0d7a33f",
   "metadata": {},
   "outputs": [],
   "source": [
    "models = [\n",
    "    ('ALS', ALS(factors=factors, device=device)),\n",
    "    ('eALS', eALS(factors=factors, device=device)),\n",
    "    ('iALS', iALS(factors=factors, device=device)),\n",
    "    ('ALS-impl', implicit.als.AlternatingLeastSquares(factors=factors, iterations=100, use_gpu=True)),\n",
    "    ('BPR-impl', implicit.bpr.BayesianPersonalizedRanking(factors=factors, iterations=100, use_gpu=True))\n",
    "]\n",
    "\n",
    "times_yelp = score_times(models, training_matrix_yelp)\n",
    "times_yelp['NGCF'] = 44.7 # one epoch"
   ]
  },
  {
   "cell_type": "code",
   "execution_count": 21,
   "id": "afdc84f4",
   "metadata": {},
   "outputs": [
    {
     "data": {
      "image/png": "[encoded data removed]",
      "text/plain": [
       "<Figure size 1100x300 with 1 Axes>"
      ]
     },
     "metadata": {},
     "output_type": "display_data"
    }
   ],
   "source": [
    "plt.figure(figsize=(11, 3))\n",
    "plt.barh(list(times_yelp.keys()), list(times_yelp.values()))\n",
    "plt.xlabel('Time (s.)')\n",
    "plt.show()"
   ]
  },
  {
   "attachments": {},
   "cell_type": "markdown",
   "id": "cc610459",
   "metadata": {},
   "source": [
    "### Theoretical Complexity"
   ]
  },
  {
   "cell_type": "code",
   "execution_count": 16,
   "id": "239911fa",
   "metadata": {},
   "outputs": [],
   "source": [
    "from IPython.display import clear_output\n",
    "from scipy.sparse import csr_matrix\n",
    "\n",
    "\n",
    "device = 'cuda' if torch.cuda.is_available() else 'cpu'\n",
    "models = [\n",
    "    ('ALS', ALS),\n",
    "    ('eALS', eALS),\n",
    "    ('iALS', iALS)\n",
    "]\n",
    "\n",
    "R = np.random.randint(2, size=(5, 10))\n",
    "R = csr_matrix(R)\n",
    "\n",
    "factors = np.arange(50, 1000 + 50, 50)\n",
    "scores = dict()\n",
    "for name, model in models:\n",
    "    model_scores = []\n",
    "    for f in factors:\n",
    "        start = time.time()\n",
    "        model(f, iterations=10, device=device).fit(R)\n",
    "        elapsed = time.time() - start\n",
    "        model_scores.append(elapsed)\n",
    "        clear_output()\n",
    "        torch.cuda.empty_cache()\n",
    "    \n",
    "    del model\n",
    "    torch.cuda.empty_cache()\n",
    "    scores[name] = model_scores"
   ]
  },
  {
   "cell_type": "code",
   "execution_count": 17,
   "id": "5ca52ef0",
   "metadata": {},
   "outputs": [
    {
     "data": {
      "image/png": "[encoded data removed]",
      "text/plain": [
       "<Figure size 1600x1100 with 3 Axes>"
      ]
     },
     "metadata": {},
     "output_type": "display_data"
    }
   ],
   "source": [
    "plt.figure(figsize=(16, 11))\n",
    "plt.subplots_adjust(hspace=0.4)\n",
    "\n",
    "for i, (name, score) in enumerate(scores.items()):\n",
    "    plt.subplot(len(scores), 1, i + 1)\n",
    "    plt.title(name, size=14)\n",
    "    plt.plot(factors[2:], score[2:])\n",
    "    plt.xlabel('# factors', size=13.5)\n",
    "    plt.ylabel('Time (s.)', size=13.5)\n",
    "\n",
    "plt.show()"
   ]
  }
 ],
 "metadata": {
  "kernelspec": {
   "display_name": "Python 3",
   "language": "python",
   "name": "python3"
  },
  "language_info": {
   "codemirror_mode": {
    "name": "ipython",
    "version": 3
   },
   "file_extension": ".py",
   "mimetype": "text/x-python",
   "name": "python",
   "nbconvert_exporter": "python",
   "pygments_lexer": "ipython3",
   "version": "3.8.9"
  },
  "vscode": {
   "interpreter": {
    "hash": "e78d4372795bdb4f90d4503627452c653be5c92207030b3d0c8da475b03955ac"
   }
  }
 },
 "nbformat": 4,
 "nbformat_minor": 5
}
