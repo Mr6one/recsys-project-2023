{
 "cells": [
  {
   "cell_type": "code",
   "execution_count": 1,
   "id": "f5d8b4fc",
   "metadata": {},
   "outputs": [],
   "source": [
    "%load_ext autoreload\n",
    "%autoreload 2\n",
    "\n",
    "import numpy as np\n",
    "from tqdm.notebook import tqdm\n",
    "import matplotlib as plt\n",
    "\n",
    "import sys\n",
    "sys.path.append('..')\n",
    "\n",
    "from src.datasets import load_dataset\n",
    "from src.evaluation.evaluation import downvote_seen_items, topn_recommendations, model_evaluate\n",
    "\n",
    "import json\n",
    "import torch\n",
    "from src.models import NGCF, ALS, eALS, iALS"
   ]
  },
  {
   "cell_type": "code",
   "execution_count": null,
   "id": "d277d9ca",
   "metadata": {},
   "outputs": [],
   "source": [
    "data_path = '../data'\n",
    "\n",
    "training_yelp, testset_yelp, holdout_yelp, training_matrix_yelp, data_description_yelp = load_dataset('yelp', data_path)\n",
    "training_movielens, testset_movielens, holdout_movielens, training_matrix_movielens, data_description_movielens = load_dataset('movielens', data_path)"
   ]
  },
  {
   "cell_type": "code",
   "execution_count": null,
   "id": "f9d0d499",
   "metadata": {},
   "outputs": [],
   "source": [
    "with open('../configs/ngcf_base.json') as f:\n",
    "    config = json.load(f)\n",
    "\n",
    "n_users, n_items = training_matrix_movielens.shape\n",
    "config['model_args']['n_users'] = n_users\n",
    "config['model_args']['n_items'] = n_items\n",
    "\n",
    "model = NGCF(**config['model_args'])\n",
    "model.load_state_dict(torch.load('../lightning_logs/version_30/checkpoints/epoch=399-step=2399.ckpt')['state_dict'])\n",
    "model.eval();"
   ]
  },
  {
   "cell_type": "code",
   "execution_count": 54,
   "id": "891f8d6b",
   "metadata": {},
   "outputs": [],
   "source": [
    "# !!! scores_X - результат работы модели X, т.е. numpy.ndarray шейпа: scores_X.shape=(число юзеров в холдауте, число всех айтемов),\n",
    "# где элементы - предсказанные скоры айтемов для каждого юзера (не индексы айтемов, а именно скоры).\n",
    "scores_yelp = model.score_users(holdout_yelp.userid.values)\n",
    "# scores_movielens = model.score_users(holdout_movielens.userid.values)"
   ]
  },
  {
   "cell_type": "code",
   "execution_count": 55,
   "id": "9ec9d160",
   "metadata": {},
   "outputs": [],
   "source": [
    "downvote_seen_items(scores_yelp, testset_yelp, data_description_yelp)\n",
    "# downvote_seen_items(scores_movielens, testset_movielens, data_description_movielens)"
   ]
  },
  {
   "cell_type": "code",
   "execution_count": 56,
   "id": "6fb7b1cf",
   "metadata": {},
   "outputs": [],
   "source": [
    "topn = 10\n",
    "\n",
    "recs_yelp = topn_recommendations(scores_yelp, topn=topn)\n",
    "# recs_movielens = topn_recommendations(scores_movielens, topn=topn)"
   ]
  },
  {
   "cell_type": "code",
   "execution_count": 1,
   "id": "d6dbfc15",
   "metadata": {},
   "outputs": [],
   "source": [
    "# import implicit\n",
    "# als = implicit.als.AlternatingLeastSquares()\n",
    "# als.fit(training_matrix_movielens)\n",
    "# recs_movielens = als.recommend_all(training_matrix_movielens, filter_already_liked_items=True, N=topn)"
   ]
  },
  {
   "cell_type": "code",
   "execution_count": 58,
   "id": "ea38a2a9",
   "metadata": {},
   "outputs": [],
   "source": [
    "datasets = ['Yelp: ', 'MovieLens: ']"
   ]
  },
  {
   "cell_type": "code",
   "execution_count": 59,
   "id": "78c5343e",
   "metadata": {},
   "outputs": [
    {
     "name": "stdout",
     "output_type": "stream",
     "text": [
      "Yelp: \n",
      "HR@10 = 0.0418\n",
      "MRR@10 = 0.0155\n",
      "nDCG@10 = 0.0216\n",
      "COV@10 = 0.0625\n"
     ]
    }
   ],
   "source": [
    "hr, mrr, ndcg, cov = model_evaluate(recs_yelp, holdout_yelp, data_description_yelp, topn=topn)\n",
    "print(datasets[0])\n",
    "print(f'HR@{topn} = {hr:.4f}')\n",
    "print(f'MRR@{topn} = {mrr:.4f}')\n",
    "print(f'nDCG@{topn} = {ndcg:.4f}')\n",
    "print(f'COV@{topn} = {cov:.4f}')"
   ]
  },
  {
   "cell_type": "code",
   "execution_count": 45,
   "id": "96d01ad9",
   "metadata": {},
   "outputs": [
    {
     "name": "stdout",
     "output_type": "stream",
     "text": [
      "MovieLens: \n",
      "HR@10 = 0.0990\n",
      "MRR@10 = 0.0359\n",
      "nDCG@10 = 0.0505\n",
      "COV@10 = 0.3653\n"
     ]
    }
   ],
   "source": [
    "hr, mrr, ndcg, cov = model_evaluate(recs_movielens, holdout_movielens, data_description_movielens, topn=topn) \n",
    "print(datasets[1])\n",
    "print(f'HR@{topn} = {hr:.4f}')\n",
    "print(f'MRR@{topn} = {mrr:.4f}')\n",
    "print(f'nDCG@{topn} = {ndcg:.4f}')\n",
    "print(f'COV@{topn} = {cov:.4f}')"
   ]
  }
 ],
 "metadata": {
  "kernelspec": {
   "display_name": "Python 3 (ipykernel)",
   "language": "python",
   "name": "python3"
  },
  "language_info": {
   "codemirror_mode": {
    "name": "ipython",
    "version": 3
   },
   "file_extension": ".py",
   "mimetype": "text/x-python",
   "name": "python",
   "nbconvert_exporter": "python",
   "pygments_lexer": "ipython3",
   "version": "3.8.9"
  }
 },
 "nbformat": 4,
 "nbformat_minor": 5
}
