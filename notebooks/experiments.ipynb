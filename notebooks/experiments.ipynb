{
 "cells": [
  {
   "cell_type": "code",
   "execution_count": 24,
   "id": "f5d8b4fc",
   "metadata": {},
   "outputs": [
    {
     "name": "stdout",
     "output_type": "stream",
     "text": [
      "The autoreload extension is already loaded. To reload it, use:\n",
      "  %reload_ext autoreload\n"
     ]
    }
   ],
   "source": [
    "import numpy as np\n",
    "import pandas as pd\n",
    "\n",
    "from src.utils import generate_interactions_matrix, get_subsets_matrix_description\n",
    "from src.evaluation.evaluation import downvote_seen_items, topn_recommendations, model_evaluate\n",
    "\n",
    "from tqdm import tqdm\n",
    "import matplotlib as plt"
   ]
  },
  {
   "cell_type": "code",
   "execution_count": 89,
   "id": "d277d9ca",
   "metadata": {},
   "outputs": [
    {
     "name": "stdout",
     "output_type": "stream",
     "text": [
      "Shapes, yelp data:  508436 197871 4688\n",
      "Shapes, movielens data:  725370 221697 802\n"
     ]
    }
   ],
   "source": [
    "training_yelp, testset_yelp, holdout_yelp, data_index_yelp, training_matrix_yelp, data_description_yelp = get_subsets_matrix_description('yelp',\n",
    "                                                                                                                                         time_split_q=0.98)\n",
    "\n",
    "training_movielens, testset_movielens, holdout_movielens, data_index_movielens, training_matrix_movielens, data_description_movielens = get_subsets_matrix_description('movielens',\n",
    "                                                                                                                                         time_split_q=0.95)\n",
    "\n",
    "print('Shapes, yelp data: ',training_yelp.shape[0], testset_yelp.shape[0], holdout_yelp.shape[0])\n",
    "print('Shapes, movielens data: ',training_movielens.shape[0], testset_movielens.shape[0], holdout_movielens.shape[0])"
   ]
  },
  {
   "cell_type": "code",
   "execution_count": 87,
   "id": "f9d0d499",
   "metadata": {},
   "outputs": [
    {
     "data": {
      "text/plain": [
       "{'users': 'userid',\n",
       " 'items': 'movieid',\n",
       " 'feedback': 'rating',\n",
       " 'n_users': 5227,\n",
       " 'n_items': 3652}"
      ]
     },
     "execution_count": 87,
     "metadata": {},
     "output_type": "execute_result"
    }
   ],
   "source": [
    "data_description_movielens"
   ]
  },
  {
   "cell_type": "code",
   "execution_count": 71,
   "id": "891f8d6b",
   "metadata": {},
   "outputs": [],
   "source": [
    "# !!! scores_X - результат работы модели X, т.е. numpy.ndarray шейпа: scores_X.shape=(число юзеров в холдауте, число всех айтемов),\n",
    "# где элементы - предсказанные скоры айтемов для каждого юзера (не индексы айтемов, а именно скоры).\n",
    "scores_yelp = ...\n",
    "scores_movielens = ..."
   ]
  },
  {
   "cell_type": "code",
   "execution_count": null,
   "id": "9ec9d160",
   "metadata": {},
   "outputs": [],
   "source": [
    "downvote_seen_items(scores_yelp, testset_yelp, data_description_yelp)\n",
    "downvote_seen_items(scores_movielens, testset_movielens, data_description_movielens)"
   ]
  },
  {
   "cell_type": "code",
   "execution_count": null,
   "id": "6fb7b1cf",
   "metadata": {},
   "outputs": [],
   "source": [
    "topn = 10\n",
    "\n",
    "recs_yelp = topn_recommendations(scores_yelp, topn=topn)\n",
    "recs_movielens = topn_recommendations(scores_movielens, topn=topn)"
   ]
  },
  {
   "cell_type": "code",
   "execution_count": 72,
   "id": "ea38a2a9",
   "metadata": {},
   "outputs": [],
   "source": [
    "datasets = ['Yelp: ', 'MovieLens: ', ]"
   ]
  },
  {
   "cell_type": "code",
   "execution_count": null,
   "id": "78c5343e",
   "metadata": {},
   "outputs": [],
   "source": [
    "hr, mrr, ndcg, cov = model_evaluate(recs_yelp, holdout_yelp, data_description_yelp, topn=topn)\n",
    "print(datasets[0])\n",
    "print(f'HR@{topn} = {hr:.4f}')\n",
    "print(f'MRR@{topn} = {mrr:.4f}')\n",
    "print(f'nDCG@{topn} = {ndcg:.4f}')\n",
    "print(f'COV@{topn} = {cov:.4f}')"
   ]
  },
  {
   "cell_type": "code",
   "execution_count": null,
   "id": "96d01ad9",
   "metadata": {},
   "outputs": [],
   "source": [
    "hr, mrr, ndcg, cov = model_evaluate(recs_movielens, holdout_movielens, data_description_movielens, topn=topn) \n",
    "print(datasets[1])\n",
    "print(f'HR@{topn} = {hr:.4f}')\n",
    "print(f'MRR@{topn} = {mrr:.4f}')\n",
    "print(f'nDCG@{topn} = {ndcg:.4f}')\n",
    "print(f'COV@{topn} = {cov:.4f}')"
   ]
  },
  {
   "cell_type": "code",
   "execution_count": 75,
   "id": "f11ef1ef",
   "metadata": {},
   "outputs": [
    {
     "data": {
      "text/plain": [
       "numpy.ndarray"
      ]
     },
     "execution_count": 75,
     "metadata": {},
     "output_type": "execute_result"
    }
   ],
   "source": [
    "type(np.array([1,43,2]))"
   ]
  }
 ],
 "metadata": {
  "kernelspec": {
   "display_name": "Python 3 (ipykernel)",
   "language": "python",
   "name": "python3"
  },
  "language_info": {
   "codemirror_mode": {
    "name": "ipython",
    "version": 3
   },
   "file_extension": ".py",
   "mimetype": "text/x-python",
   "name": "python",
   "nbconvert_exporter": "python",
   "pygments_lexer": "ipython3",
   "version": "3.10.7"
  }
 },
 "nbformat": 4,
 "nbformat_minor": 5
}
