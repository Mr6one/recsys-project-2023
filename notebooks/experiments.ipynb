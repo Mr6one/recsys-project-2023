{
 "cells": [
  {
   "cell_type": "code",
   "execution_count": 1,
   "id": "f5d8b4fc",
   "metadata": {},
   "outputs": [],
   "source": [
    "%load_ext autoreload\n",
    "%autoreload 2\n",
    "\n",
    "import time\n",
    "import numpy as np\n",
    "import pandas as pd\n",
    "import matplotlib.pyplot as plt\n",
    "\n",
    "import implicit\n",
    "\n",
    "import sys\n",
    "sys.path.append('..')\n",
    "\n",
    "from src.datasets import load_dataset\n",
    "from src.utils import get_table_barplot\n",
    "from src.evaluation.evaluation import downvote_seen_items, topn_recommendations, model_evaluate\n",
    "from src.models import NGCF, ALS, eALS, iALS"
   ]
  },
  {
   "attachments": {},
   "cell_type": "markdown",
   "id": "ef1d126c",
   "metadata": {},
   "source": [
    "### Load Data"
   ]
  },
  {
   "cell_type": "code",
   "execution_count": 2,
   "id": "d277d9ca",
   "metadata": {},
   "outputs": [],
   "source": [
    "data_path = '../data'\n",
    "\n",
    "training_yelp, testset_yelp, holdout_yelp, training_matrix_yelp, data_description_yelp = load_dataset('yelp', data_path)\n",
    "training_movielens, testset_movielens, holdout_movielens, training_matrix_movielens, data_description_movielens = load_dataset('movielens', data_path)"
   ]
  },
  {
   "attachments": {},
   "cell_type": "markdown",
   "id": "adcca348",
   "metadata": {},
   "source": [
    "### Load Pretrained Models"
   ]
  },
  {
   "cell_type": "code",
   "execution_count": 3,
   "id": "51d2041d",
   "metadata": {},
   "outputs": [],
   "source": [
    "import torch\n",
    "\n",
    "models_movielens = [\n",
    "    ('ALS', ALS.from_checkpoint('../weights/als_movielens.pkl')),\n",
    "    ('eALS', eALS.from_checkpoint('../weights/eals_movielens.pkl')),\n",
    "    ('iALS', iALS.from_checkpoint('../weights/ials_movielens.pkl')),\n",
    "    ('NGCF', NGCF.from_checkpoint('../weights/ngcf_movielens.pth'))\n",
    "]\n",
    "\n",
    "if torch.cuda.is_available():\n",
    "    models_movielens = [(name, model.cuda()) for name, model in models_movielens]\n",
    "\n",
    "models_yelp = [\n",
    "    ('ALS', ALS.from_checkpoint('../weights/als_yelp.pkl')),\n",
    "    ('eALS', eALS.from_checkpoint('../weights/eals_yelp.pkl')),\n",
    "    ('iALS', iALS.from_checkpoint('../weights/ials_yelp.pkl')),\n",
    "    ('NGCF', NGCF.from_checkpoint('../weights/ngcf_yelp.pth'))\n",
    "]\n",
    "\n",
    "if torch.cuda.is_available():\n",
    "    models_yelp = [(name, model.cuda()) for name, model in models_yelp]"
   ]
  },
  {
   "attachments": {},
   "cell_type": "markdown",
   "id": "90a400d1",
   "metadata": {},
   "source": [
    "### Score Models"
   ]
  },
  {
   "cell_type": "code",
   "execution_count": 4,
   "id": "f91078dd",
   "metadata": {},
   "outputs": [],
   "source": [
    "topn = 10\n",
    "\n",
    "\n",
    "def evaluate_model(model, holdout, testset, data_description, topn=10, verbose=False):\n",
    "    scores = model.score_users(holdout.userid.values)\n",
    "    downvote_seen_items(scores, testset, data_description)\n",
    "    recs = topn_recommendations(scores, topn=topn)\n",
    "\n",
    "    hr, mrr, ndcg, cov = model_evaluate(recs, holdout, data_description, topn=topn)\n",
    "\n",
    "    if verbose:\n",
    "        print(f'HR@{topn} = {hr:.4f}')\n",
    "        print(f'MRR@{topn} = {mrr:.4f}')\n",
    "        print(f'nDCG@{topn} = {ndcg:.4f}')\n",
    "        print(f'COV@{topn} = {cov:.4f}')\n",
    "\n",
    "    return hr, mrr, ndcg, cov\n",
    "\n",
    "\n",
    "def score_models(models, holdout, testset, data_description):\n",
    "    scores = dict()\n",
    "    for name, model in models:\n",
    "        scores[name] = evaluate_model(model, holdout, testset, data_description)\n",
    "\n",
    "    scores = pd.DataFrame(scores, index=['HR', 'MRR', 'nDCG', 'COV']).T\n",
    "    return scores"
   ]
  },
  {
   "cell_type": "code",
   "execution_count": 5,
   "id": "ea38a2a9",
   "metadata": {},
   "outputs": [],
   "source": [
    "scores_movielens = score_models(models_movielens, holdout_movielens, testset_movielens, data_description_movielens)\n",
    "scores_movielens.style.background_gradient()"
   ]
  },
  {
   "cell_type": "code",
   "execution_count": 6,
   "id": "a3c34ff2",
   "metadata": {},
   "outputs": [
    {
     "data": {
      "text/html": [
       "<div>\n",
       "<style scoped>\n",
       "    .dataframe tbody tr th:only-of-type {\n",
       "        vertical-align: middle;\n",
       "    }\n",
       "\n",
       "    .dataframe tbody tr th {\n",
       "        vertical-align: top;\n",
       "    }\n",
       "\n",
       "    .dataframe thead th {\n",
       "        text-align: right;\n",
       "    }\n",
       "</style>\n",
       "<table border=\"1\" class=\"dataframe\">\n",
       "  <thead>\n",
       "    <tr style=\"text-align: right;\">\n",
       "      <th></th>\n",
       "      <th>HR</th>\n",
       "      <th>MRR</th>\n",
       "      <th>nDCG</th>\n",
       "      <th>COV</th>\n",
       "    </tr>\n",
       "  </thead>\n",
       "  <tbody>\n",
       "    <tr>\n",
       "      <th>ALS</th>\n",
       "      <td>0.102318</td>\n",
       "      <td>0.036046</td>\n",
       "      <td>0.051282</td>\n",
       "      <td>0.367171</td>\n",
       "    </tr>\n",
       "    <tr>\n",
       "      <th>eALS</th>\n",
       "      <td>0.099338</td>\n",
       "      <td>0.035760</td>\n",
       "      <td>0.050432</td>\n",
       "      <td>0.364201</td>\n",
       "    </tr>\n",
       "    <tr>\n",
       "      <th>iALS</th>\n",
       "      <td>0.101325</td>\n",
       "      <td>0.035419</td>\n",
       "      <td>0.050591</td>\n",
       "      <td>0.366091</td>\n",
       "    </tr>\n",
       "    <tr>\n",
       "      <th>NGCF</th>\n",
       "      <td>0.082450</td>\n",
       "      <td>0.026750</td>\n",
       "      <td>0.039567</td>\n",
       "      <td>0.674946</td>\n",
       "    </tr>\n",
       "  </tbody>\n",
       "</table>\n",
       "</div>"
      ],
      "text/plain": [
       "            HR       MRR      nDCG       COV\n",
       "ALS   0.102318  0.036046  0.051282  0.367171\n",
       "eALS  0.099338  0.035760  0.050432  0.364201\n",
       "iALS  0.101325  0.035419  0.050591  0.366091\n",
       "NGCF  0.082450  0.026750  0.039567  0.674946"
      ]
     },
     "execution_count": 6,
     "metadata": {},
     "output_type": "execute_result"
    },
    {
     "data": {
      "image/png": "[encoded data removed]",
      "text/plain": [
       "<Figure size 432x288 with 1 Axes>"
      ]
     },
     "metadata": {
      "needs_background": "light"
     },
     "output_type": "display_data"
    }
   ],
   "source": [
    "get_table_barplot(scores_movielens)"
   ]
  },
  {
   "cell_type": "code",
   "execution_count": 7,
   "id": "e70f0bcd",
   "metadata": {},
   "outputs": [
    {
     "data": {
      "text/html": [
       "<style type=\"text/css\">\n",
       "#T_8ea5c_row0_col0, #T_8ea5c_row0_col1, #T_8ea5c_row0_col2, #T_8ea5c_row3_col3 {\n",
       "  background-color: #023858;\n",
       "  color: #f1f1f1;\n",
       "}\n",
       "#T_8ea5c_row0_col3 {\n",
       "  background-color: #fef6fa;\n",
       "  color: #000000;\n",
       "}\n",
       "#T_8ea5c_row1_col0 {\n",
       "  background-color: #045382;\n",
       "  color: #f1f1f1;\n",
       "}\n",
       "#T_8ea5c_row1_col1 {\n",
       "  background-color: #034369;\n",
       "  color: #f1f1f1;\n",
       "}\n",
       "#T_8ea5c_row1_col2 {\n",
       "  background-color: #03476f;\n",
       "  color: #f1f1f1;\n",
       "}\n",
       "#T_8ea5c_row1_col3, #T_8ea5c_row2_col3, #T_8ea5c_row3_col0, #T_8ea5c_row3_col1, #T_8ea5c_row3_col2 {\n",
       "  background-color: #fff7fb;\n",
       "  color: #000000;\n",
       "}\n",
       "#T_8ea5c_row2_col0, #T_8ea5c_row2_col1 {\n",
       "  background-color: #045d92;\n",
       "  color: #f1f1f1;\n",
       "}\n",
       "#T_8ea5c_row2_col2 {\n",
       "  background-color: #045b8f;\n",
       "  color: #f1f1f1;\n",
       "}\n",
       "</style>\n",
       "<table id=\"T_8ea5c\">\n",
       "  <thead>\n",
       "    <tr>\n",
       "      <th class=\"blank level0\" >&nbsp;</th>\n",
       "      <th id=\"T_8ea5c_level0_col0\" class=\"col_heading level0 col0\" >HR</th>\n",
       "      <th id=\"T_8ea5c_level0_col1\" class=\"col_heading level0 col1\" >MRR</th>\n",
       "      <th id=\"T_8ea5c_level0_col2\" class=\"col_heading level0 col2\" >nDCG</th>\n",
       "      <th id=\"T_8ea5c_level0_col3\" class=\"col_heading level0 col3\" >COV</th>\n",
       "    </tr>\n",
       "  </thead>\n",
       "  <tbody>\n",
       "    <tr>\n",
       "      <th id=\"T_8ea5c_level0_row0\" class=\"row_heading level0 row0\" >ALS</th>\n",
       "      <td id=\"T_8ea5c_row0_col0\" class=\"data row0 col0\" >0.041477</td>\n",
       "      <td id=\"T_8ea5c_row0_col1\" class=\"data row0 col1\" >0.015488</td>\n",
       "      <td id=\"T_8ea5c_row0_col2\" class=\"data row0 col2\" >0.021485</td>\n",
       "      <td id=\"T_8ea5c_row0_col3\" class=\"data row0 col3\" >0.062410</td>\n",
       "    </tr>\n",
       "    <tr>\n",
       "      <th id=\"T_8ea5c_level0_row1\" class=\"row_heading level0 row1\" >eALS</th>\n",
       "      <td id=\"T_8ea5c_row1_col0\" class=\"data row1 col0\" >0.041048</td>\n",
       "      <td id=\"T_8ea5c_row1_col1\" class=\"data row1 col1\" >0.015388</td>\n",
       "      <td id=\"T_8ea5c_row1_col2\" class=\"data row1 col2\" >0.021323</td>\n",
       "      <td id=\"T_8ea5c_row1_col3\" class=\"data row1 col3\" >0.061712</td>\n",
       "    </tr>\n",
       "    <tr>\n",
       "      <th id=\"T_8ea5c_level0_row2\" class=\"row_heading level0 row2\" >iALS</th>\n",
       "      <td id=\"T_8ea5c_row2_col0\" class=\"data row2 col0\" >0.040854</td>\n",
       "      <td id=\"T_8ea5c_row2_col1\" class=\"data row2 col1\" >0.015152</td>\n",
       "      <td id=\"T_8ea5c_row2_col2\" class=\"data row2 col2\" >0.021101</td>\n",
       "      <td id=\"T_8ea5c_row2_col3\" class=\"data row2 col3\" >0.061906</td>\n",
       "    </tr>\n",
       "    <tr>\n",
       "      <th id=\"T_8ea5c_level0_row3\" class=\"row_heading level0 row3\" >NGCF</th>\n",
       "      <td id=\"T_8ea5c_row3_col0\" class=\"data row3 col0\" >0.037154</td>\n",
       "      <td id=\"T_8ea5c_row3_col1\" class=\"data row3 col1\" >0.013125</td>\n",
       "      <td id=\"T_8ea5c_row3_col2\" class=\"data row3 col2\" >0.018649</td>\n",
       "      <td id=\"T_8ea5c_row3_col3\" class=\"data row3 col3\" >0.143373</td>\n",
       "    </tr>\n",
       "  </tbody>\n",
       "</table>\n"
      ],
      "text/plain": [
       "<pandas.io.formats.style.Styler at 0x7f0a5a26ea90>"
      ]
     },
     "execution_count": 7,
     "metadata": {},
     "output_type": "execute_result"
    }
   ],
   "source": [
    "scores_yelp = score_models(models_yelp, holdout_yelp, testset_yelp, data_description_yelp)\n",
    "scores_yelp.style.background_gradient()"
   ]
  },
  {
   "cell_type": "code",
   "execution_count": 8,
   "id": "6e5bce5b",
   "metadata": {},
   "outputs": [
    {
     "data": {
      "text/html": [
       "<div>\n",
       "<style scoped>\n",
       "    .dataframe tbody tr th:only-of-type {\n",
       "        vertical-align: middle;\n",
       "    }\n",
       "\n",
       "    .dataframe tbody tr th {\n",
       "        vertical-align: top;\n",
       "    }\n",
       "\n",
       "    .dataframe thead th {\n",
       "        text-align: right;\n",
       "    }\n",
       "</style>\n",
       "<table border=\"1\" class=\"dataframe\">\n",
       "  <thead>\n",
       "    <tr style=\"text-align: right;\">\n",
       "      <th></th>\n",
       "      <th>HR</th>\n",
       "      <th>MRR</th>\n",
       "      <th>nDCG</th>\n",
       "      <th>COV</th>\n",
       "    </tr>\n",
       "  </thead>\n",
       "  <tbody>\n",
       "    <tr>\n",
       "      <th>ALS</th>\n",
       "      <td>0.041477</td>\n",
       "      <td>0.015488</td>\n",
       "      <td>0.021485</td>\n",
       "      <td>0.062410</td>\n",
       "    </tr>\n",
       "    <tr>\n",
       "      <th>eALS</th>\n",
       "      <td>0.041048</td>\n",
       "      <td>0.015388</td>\n",
       "      <td>0.021323</td>\n",
       "      <td>0.061712</td>\n",
       "    </tr>\n",
       "    <tr>\n",
       "      <th>iALS</th>\n",
       "      <td>0.040854</td>\n",
       "      <td>0.015152</td>\n",
       "      <td>0.021101</td>\n",
       "      <td>0.061906</td>\n",
       "    </tr>\n",
       "    <tr>\n",
       "      <th>NGCF</th>\n",
       "      <td>0.037154</td>\n",
       "      <td>0.013125</td>\n",
       "      <td>0.018649</td>\n",
       "      <td>0.143373</td>\n",
       "    </tr>\n",
       "  </tbody>\n",
       "</table>\n",
       "</div>"
      ],
      "text/plain": [
       "            HR       MRR      nDCG       COV\n",
       "ALS   0.041477  0.015488  0.021485  0.062410\n",
       "eALS  0.041048  0.015388  0.021323  0.061712\n",
       "iALS  0.040854  0.015152  0.021101  0.061906\n",
       "NGCF  0.037154  0.013125  0.018649  0.143373"
      ]
     },
     "execution_count": 8,
     "metadata": {},
     "output_type": "execute_result"
    },
    {
     "data": {
      "image/png": "[encoded data removed]",
      "text/plain": [
       "<Figure size 640x480 with 1 Axes>"
      ]
     },
     "metadata": {},
     "output_type": "display_data"
    }
   ],
   "source": [
    "get_table_barplot(scores_yelp)"
   ]
  },
  {
   "attachments": {},
   "cell_type": "markdown",
   "id": "6e9f12e1",
   "metadata": {},
   "source": [
    "### Implicit Models"
   ]
  },
  {
   "cell_type": "code",
   "execution_count": 9,
   "id": "8242c62b",
   "metadata": {},
   "outputs": [],
   "source": [
    "def evaluate_implicit_model(implicit_model, holdout, training_matrix, data_description, topn=10, verbose=False):\n",
    "    model = implicit_model(iterations=100, regularization=0.1, use_gpu=True)\n",
    "    model.fit(training_matrix)\n",
    "\n",
    "    recs = model.recommend(np.arange(training_matrix.shape[0]), training_matrix, N=topn, filter_already_liked_items=True)[0]\n",
    "    hr, mrr, ndcg, cov = model_evaluate(recs, holdout, data_description, topn=topn)\n",
    "\n",
    "    if verbose:\n",
    "        print(f'HR@{topn} = {hr:.4f}')\n",
    "        print(f'MRR@{topn} = {mrr:.4f}')\n",
    "        print(f'nDCG@{topn} = {ndcg:.4f}')\n",
    "        print(f'COV@{topn} = {cov:.4f}')\n",
    "\n",
    "    return hr, mrr, ndcg, cov\n",
    "\n",
    "\n",
    "def score_implicit_models(implicit_models, holdout, training_matrix, data_description):\n",
    "    scores = dict()\n",
    "    for name, model in implicit_models:\n",
    "        metrics = evaluate_implicit_model(model, holdout, training_matrix, data_description, topn=topn)\n",
    "        scores[name] = metrics\n",
    "\n",
    "    scores = pd.DataFrame(scores, index=['HR', 'MRR', 'nDCG', 'COV']).T\n",
    "    return scores"
   ]
  },
  {
   "cell_type": "code",
   "execution_count": 10,
   "id": "5d3eb572",
   "metadata": {},
   "outputs": [
    {
     "data": {
      "application/vnd.jupyter.widget-view+json": {
       "model_id": "6acefa7d7bcd458e93f19b0629000edd",
       "version_major": 2,
       "version_minor": 0
      },
      "text/plain": [
       "  0%|          | 0/100 [00:00<?, ?it/s]"
      ]
     },
     "metadata": {},
     "output_type": "display_data"
    },
    {
     "data": {
      "application/vnd.jupyter.widget-view+json": {
       "model_id": "b1d460f1562a4597a3d26308cb497647",
       "version_major": 2,
       "version_minor": 0
      },
      "text/plain": [
       "  0%|          | 0/100 [00:00<?, ?it/s]"
      ]
     },
     "metadata": {},
     "output_type": "display_data"
    },
    {
     "data": {
      "text/html": [
       "<style type=\"text/css\">\n",
       "#T_8ca02_row0_col0, #T_8ca02_row0_col1, #T_8ca02_row0_col2, #T_8ca02_row0_col3 {\n",
       "  background-color: #023858;\n",
       "  color: #f1f1f1;\n",
       "}\n",
       "#T_8ca02_row1_col0, #T_8ca02_row1_col1, #T_8ca02_row1_col2, #T_8ca02_row1_col3 {\n",
       "  background-color: #fff7fb;\n",
       "  color: #000000;\n",
       "}\n",
       "</style>\n",
       "<table id=\"T_8ca02\">\n",
       "  <thead>\n",
       "    <tr>\n",
       "      <th class=\"blank level0\" >&nbsp;</th>\n",
       "      <th id=\"T_8ca02_level0_col0\" class=\"col_heading level0 col0\" >HR</th>\n",
       "      <th id=\"T_8ca02_level0_col1\" class=\"col_heading level0 col1\" >MRR</th>\n",
       "      <th id=\"T_8ca02_level0_col2\" class=\"col_heading level0 col2\" >nDCG</th>\n",
       "      <th id=\"T_8ca02_level0_col3\" class=\"col_heading level0 col3\" >COV</th>\n",
       "    </tr>\n",
       "  </thead>\n",
       "  <tbody>\n",
       "    <tr>\n",
       "      <th id=\"T_8ca02_level0_row0\" class=\"row_heading level0 row0\" >ALS-impl</th>\n",
       "      <td id=\"T_8ca02_row0_col0\" class=\"data row0 col0\" >0.098510</td>\n",
       "      <td id=\"T_8ca02_row0_col1\" class=\"data row0 col1\" >0.035176</td>\n",
       "      <td id=\"T_8ca02_row0_col2\" class=\"data row0 col2\" >0.049790</td>\n",
       "      <td id=\"T_8ca02_row0_col3\" class=\"data row0 col3\" >0.417117</td>\n",
       "    </tr>\n",
       "    <tr>\n",
       "      <th id=\"T_8ca02_level0_row1\" class=\"row_heading level0 row1\" >BPR-impl</th>\n",
       "      <td id=\"T_8ca02_row1_col0\" class=\"data row1 col0\" >0.045364</td>\n",
       "      <td id=\"T_8ca02_row1_col1\" class=\"data row1 col1\" >0.016332</td>\n",
       "      <td id=\"T_8ca02_row1_col2\" class=\"data row1 col2\" >0.023046</td>\n",
       "      <td id=\"T_8ca02_row1_col3\" class=\"data row1 col3\" >0.354752</td>\n",
       "    </tr>\n",
       "  </tbody>\n",
       "</table>\n"
      ],
      "text/plain": [
       "<pandas.io.formats.style.Styler at 0x7f0a59fe3d90>"
      ]
     },
     "execution_count": 10,
     "metadata": {},
     "output_type": "execute_result"
    }
   ],
   "source": [
    "implicit_models = [\n",
    "    ('ALS-impl', implicit.als.AlternatingLeastSquares), \n",
    "    ('BPR-impl', implicit.bpr.BayesianPersonalizedRanking)\n",
    "]\n",
    "\n",
    "scores_implicit_movielens = score_implicit_models(implicit_models, holdout_movielens, training_matrix_movielens, data_description_movielens)\n",
    "scores_implicit_movielens.style.background_gradient()"
   ]
  },
  {
   "cell_type": "code",
   "execution_count": 11,
   "id": "c32e8093",
   "metadata": {},
   "outputs": [
    {
     "data": {
      "application/vnd.jupyter.widget-view+json": {
       "model_id": "8a6925ed229e4a4e82197b271658f3ce",
       "version_major": 2,
       "version_minor": 0
      },
      "text/plain": [
       "  0%|          | 0/100 [00:00<?, ?it/s]"
      ]
     },
     "metadata": {},
     "output_type": "display_data"
    },
    {
     "data": {
      "application/vnd.jupyter.widget-view+json": {
       "model_id": "d174d2a32b364b86b992c0b2b97080b5",
       "version_major": 2,
       "version_minor": 0
      },
      "text/plain": [
       "  0%|          | 0/100 [00:00<?, ?it/s]"
      ]
     },
     "metadata": {},
     "output_type": "display_data"
    },
    {
     "data": {
      "text/html": [
       "<style type=\"text/css\">\n",
       "#T_772f8_row0_col0, #T_772f8_row0_col1, #T_772f8_row0_col2, #T_772f8_row0_col3 {\n",
       "  background-color: #023858;\n",
       "  color: #f1f1f1;\n",
       "}\n",
       "#T_772f8_row1_col0, #T_772f8_row1_col1, #T_772f8_row1_col2, #T_772f8_row1_col3 {\n",
       "  background-color: #fff7fb;\n",
       "  color: #000000;\n",
       "}\n",
       "</style>\n",
       "<table id=\"T_772f8\">\n",
       "  <thead>\n",
       "    <tr>\n",
       "      <th class=\"blank level0\" >&nbsp;</th>\n",
       "      <th id=\"T_772f8_level0_col0\" class=\"col_heading level0 col0\" >HR</th>\n",
       "      <th id=\"T_772f8_level0_col1\" class=\"col_heading level0 col1\" >MRR</th>\n",
       "      <th id=\"T_772f8_level0_col2\" class=\"col_heading level0 col2\" >nDCG</th>\n",
       "      <th id=\"T_772f8_level0_col3\" class=\"col_heading level0 col3\" >COV</th>\n",
       "    </tr>\n",
       "  </thead>\n",
       "  <tbody>\n",
       "    <tr>\n",
       "      <th id=\"T_772f8_level0_row0\" class=\"row_heading level0 row0\" >ALS-impl</th>\n",
       "      <td id=\"T_772f8_row0_col0\" class=\"data row0 col0\" >0.051096</td>\n",
       "      <td id=\"T_772f8_row0_col1\" class=\"data row0 col1\" >0.019410</td>\n",
       "      <td id=\"T_772f8_row0_col2\" class=\"data row0 col2\" >0.026744</td>\n",
       "      <td id=\"T_772f8_row0_col3\" class=\"data row0 col3\" >0.086008</td>\n",
       "    </tr>\n",
       "    <tr>\n",
       "      <th id=\"T_772f8_level0_row1\" class=\"row_heading level0 row1\" >BPR-impl</th>\n",
       "      <td id=\"T_772f8_row1_col0\" class=\"data row1 col0\" >0.005024</td>\n",
       "      <td id=\"T_772f8_row1_col1\" class=\"data row1 col1\" >0.001666</td>\n",
       "      <td id=\"T_772f8_row1_col2\" class=\"data row1 col2\" >0.002428</td>\n",
       "      <td id=\"T_772f8_row1_col3\" class=\"data row1 col3\" >0.019833</td>\n",
       "    </tr>\n",
       "  </tbody>\n",
       "</table>\n"
      ],
      "text/plain": [
       "<pandas.io.formats.style.Styler at 0x7f0a599a1b50>"
      ]
     },
     "execution_count": 11,
     "metadata": {},
     "output_type": "execute_result"
    }
   ],
   "source": [
    "scores_implicit_yelp = score_implicit_models(implicit_models, holdout_yelp, training_matrix_yelp, data_description_yelp)\n",
    "scores_implicit_yelp.style.background_gradient()"
   ]
  },
  {
   "attachments": {},
   "cell_type": "markdown",
   "id": "422b4c20",
   "metadata": {},
   "source": [
    "### Comparison with Implicit"
   ]
  },
  {
   "cell_type": "code",
   "execution_count": 12,
   "id": "3b974077",
   "metadata": {},
   "outputs": [
    {
     "name": "stdout",
     "output_type": "stream",
     "text": [
      "Movielens:\n"
     ]
    },
    {
     "data": {
      "text/html": [
       "<style type=\"text/css\">\n",
       "#T_7e537_row0_col0, #T_7e537_row0_col1, #T_7e537_row0_col2, #T_7e537_row3_col3 {\n",
       "  background-color: #023858;\n",
       "  color: #f1f1f1;\n",
       "}\n",
       "#T_7e537_row0_col3, #T_7e537_row2_col3 {\n",
       "  background-color: #faf2f8;\n",
       "  color: #000000;\n",
       "}\n",
       "#T_7e537_row1_col0, #T_7e537_row4_col2 {\n",
       "  background-color: #03466e;\n",
       "  color: #f1f1f1;\n",
       "}\n",
       "#T_7e537_row1_col1 {\n",
       "  background-color: #023b5d;\n",
       "  color: #f1f1f1;\n",
       "}\n",
       "#T_7e537_row1_col2 {\n",
       "  background-color: #023f64;\n",
       "  color: #f1f1f1;\n",
       "}\n",
       "#T_7e537_row1_col3 {\n",
       "  background-color: #fbf3f9;\n",
       "  color: #000000;\n",
       "}\n",
       "#T_7e537_row2_col0 {\n",
       "  background-color: #023c5f;\n",
       "  color: #f1f1f1;\n",
       "}\n",
       "#T_7e537_row2_col1 {\n",
       "  background-color: #034165;\n",
       "  color: #f1f1f1;\n",
       "}\n",
       "#T_7e537_row2_col2 {\n",
       "  background-color: #023e62;\n",
       "  color: #f1f1f1;\n",
       "}\n",
       "#T_7e537_row3_col0 {\n",
       "  background-color: #2c89bd;\n",
       "  color: #f1f1f1;\n",
       "}\n",
       "#T_7e537_row3_col1 {\n",
       "  background-color: #65a3cb;\n",
       "  color: #f1f1f1;\n",
       "}\n",
       "#T_7e537_row3_col2 {\n",
       "  background-color: #4a98c5;\n",
       "  color: #f1f1f1;\n",
       "}\n",
       "#T_7e537_row4_col0 {\n",
       "  background-color: #034a74;\n",
       "  color: #f1f1f1;\n",
       "}\n",
       "#T_7e537_row4_col1 {\n",
       "  background-color: #03446a;\n",
       "  color: #f1f1f1;\n",
       "}\n",
       "#T_7e537_row4_col3 {\n",
       "  background-color: #dddbec;\n",
       "  color: #000000;\n",
       "}\n",
       "#T_7e537_row5_col0, #T_7e537_row5_col1, #T_7e537_row5_col2, #T_7e537_row5_col3 {\n",
       "  background-color: #fff7fb;\n",
       "  color: #000000;\n",
       "}\n",
       "</style>\n",
       "<table id=\"T_7e537\">\n",
       "  <thead>\n",
       "    <tr>\n",
       "      <th class=\"blank level0\" >&nbsp;</th>\n",
       "      <th id=\"T_7e537_level0_col0\" class=\"col_heading level0 col0\" >HR</th>\n",
       "      <th id=\"T_7e537_level0_col1\" class=\"col_heading level0 col1\" >MRR</th>\n",
       "      <th id=\"T_7e537_level0_col2\" class=\"col_heading level0 col2\" >nDCG</th>\n",
       "      <th id=\"T_7e537_level0_col3\" class=\"col_heading level0 col3\" >COV</th>\n",
       "    </tr>\n",
       "  </thead>\n",
       "  <tbody>\n",
       "    <tr>\n",
       "      <th id=\"T_7e537_level0_row0\" class=\"row_heading level0 row0\" >ALS</th>\n",
       "      <td id=\"T_7e537_row0_col0\" class=\"data row0 col0\" >0.102318</td>\n",
       "      <td id=\"T_7e537_row0_col1\" class=\"data row0 col1\" >0.036046</td>\n",
       "      <td id=\"T_7e537_row0_col2\" class=\"data row0 col2\" >0.051282</td>\n",
       "      <td id=\"T_7e537_row0_col3\" class=\"data row0 col3\" >0.367171</td>\n",
       "    </tr>\n",
       "    <tr>\n",
       "      <th id=\"T_7e537_level0_row1\" class=\"row_heading level0 row1\" >eALS</th>\n",
       "      <td id=\"T_7e537_row1_col0\" class=\"data row1 col0\" >0.099338</td>\n",
       "      <td id=\"T_7e537_row1_col1\" class=\"data row1 col1\" >0.035760</td>\n",
       "      <td id=\"T_7e537_row1_col2\" class=\"data row1 col2\" >0.050432</td>\n",
       "      <td id=\"T_7e537_row1_col3\" class=\"data row1 col3\" >0.364201</td>\n",
       "    </tr>\n",
       "    <tr>\n",
       "      <th id=\"T_7e537_level0_row2\" class=\"row_heading level0 row2\" >iALS</th>\n",
       "      <td id=\"T_7e537_row2_col0\" class=\"data row2 col0\" >0.101325</td>\n",
       "      <td id=\"T_7e537_row2_col1\" class=\"data row2 col1\" >0.035419</td>\n",
       "      <td id=\"T_7e537_row2_col2\" class=\"data row2 col2\" >0.050591</td>\n",
       "      <td id=\"T_7e537_row2_col3\" class=\"data row2 col3\" >0.366091</td>\n",
       "    </tr>\n",
       "    <tr>\n",
       "      <th id=\"T_7e537_level0_row3\" class=\"row_heading level0 row3\" >NGCF</th>\n",
       "      <td id=\"T_7e537_row3_col0\" class=\"data row3 col0\" >0.082450</td>\n",
       "      <td id=\"T_7e537_row3_col1\" class=\"data row3 col1\" >0.026750</td>\n",
       "      <td id=\"T_7e537_row3_col2\" class=\"data row3 col2\" >0.039567</td>\n",
       "      <td id=\"T_7e537_row3_col3\" class=\"data row3 col3\" >0.674946</td>\n",
       "    </tr>\n",
       "    <tr>\n",
       "      <th id=\"T_7e537_level0_row4\" class=\"row_heading level0 row4\" >ALS-impl</th>\n",
       "      <td id=\"T_7e537_row4_col0\" class=\"data row4 col0\" >0.098510</td>\n",
       "      <td id=\"T_7e537_row4_col1\" class=\"data row4 col1\" >0.035176</td>\n",
       "      <td id=\"T_7e537_row4_col2\" class=\"data row4 col2\" >0.049790</td>\n",
       "      <td id=\"T_7e537_row4_col3\" class=\"data row4 col3\" >0.417117</td>\n",
       "    </tr>\n",
       "    <tr>\n",
       "      <th id=\"T_7e537_level0_row5\" class=\"row_heading level0 row5\" >BPR-impl</th>\n",
       "      <td id=\"T_7e537_row5_col0\" class=\"data row5 col0\" >0.045364</td>\n",
       "      <td id=\"T_7e537_row5_col1\" class=\"data row5 col1\" >0.016332</td>\n",
       "      <td id=\"T_7e537_row5_col2\" class=\"data row5 col2\" >0.023046</td>\n",
       "      <td id=\"T_7e537_row5_col3\" class=\"data row5 col3\" >0.354752</td>\n",
       "    </tr>\n",
       "  </tbody>\n",
       "</table>\n"
      ],
      "text/plain": [
       "<pandas.io.formats.style.Styler at 0x7f0a599689d0>"
      ]
     },
     "execution_count": 12,
     "metadata": {},
     "output_type": "execute_result"
    }
   ],
   "source": [
    "print('Movielens:')\n",
    "common_movielens = pd.concat([scores_movielens, scores_implicit_movielens])\n",
    "common_movielens.style.background_gradient()"
   ]
  },
  {
   "cell_type": "code",
   "execution_count": 13,
   "id": "81621a21",
   "metadata": {},
   "outputs": [
    {
     "data": {
      "text/html": [
       "<div>\n",
       "<style scoped>\n",
       "    .dataframe tbody tr th:only-of-type {\n",
       "        vertical-align: middle;\n",
       "    }\n",
       "\n",
       "    .dataframe tbody tr th {\n",
       "        vertical-align: top;\n",
       "    }\n",
       "\n",
       "    .dataframe thead th {\n",
       "        text-align: right;\n",
       "    }\n",
       "</style>\n",
       "<table border=\"1\" class=\"dataframe\">\n",
       "  <thead>\n",
       "    <tr style=\"text-align: right;\">\n",
       "      <th></th>\n",
       "      <th>HR</th>\n",
       "      <th>MRR</th>\n",
       "      <th>nDCG</th>\n",
       "      <th>COV</th>\n",
       "    </tr>\n",
       "  </thead>\n",
       "  <tbody>\n",
       "    <tr>\n",
       "      <th>ALS</th>\n",
       "      <td>0.102318</td>\n",
       "      <td>0.036046</td>\n",
       "      <td>0.051282</td>\n",
       "      <td>0.367171</td>\n",
       "    </tr>\n",
       "    <tr>\n",
       "      <th>eALS</th>\n",
       "      <td>0.099338</td>\n",
       "      <td>0.035760</td>\n",
       "      <td>0.050432</td>\n",
       "      <td>0.364201</td>\n",
       "    </tr>\n",
       "    <tr>\n",
       "      <th>iALS</th>\n",
       "      <td>0.101325</td>\n",
       "      <td>0.035419</td>\n",
       "      <td>0.050591</td>\n",
       "      <td>0.366091</td>\n",
       "    </tr>\n",
       "    <tr>\n",
       "      <th>NGCF</th>\n",
       "      <td>0.082450</td>\n",
       "      <td>0.026750</td>\n",
       "      <td>0.039567</td>\n",
       "      <td>0.674946</td>\n",
       "    </tr>\n",
       "    <tr>\n",
       "      <th>ALS-impl</th>\n",
       "      <td>0.098510</td>\n",
       "      <td>0.035176</td>\n",
       "      <td>0.049790</td>\n",
       "      <td>0.417117</td>\n",
       "    </tr>\n",
       "    <tr>\n",
       "      <th>BPR-impl</th>\n",
       "      <td>0.045364</td>\n",
       "      <td>0.016332</td>\n",
       "      <td>0.023046</td>\n",
       "      <td>0.354752</td>\n",
       "    </tr>\n",
       "  </tbody>\n",
       "</table>\n",
       "</div>"
      ],
      "text/plain": [
       "                HR       MRR      nDCG       COV\n",
       "ALS       0.102318  0.036046  0.051282  0.367171\n",
       "eALS      0.099338  0.035760  0.050432  0.364201\n",
       "iALS      0.101325  0.035419  0.050591  0.366091\n",
       "NGCF      0.082450  0.026750  0.039567  0.674946\n",
       "ALS-impl  0.098510  0.035176  0.049790  0.417117\n",
       "BPR-impl  0.045364  0.016332  0.023046  0.354752"
      ]
     },
     "execution_count": 13,
     "metadata": {},
     "output_type": "execute_result"
    },
    {
     "data": {
      "image/png": "[encoded data removed]",
      "text/plain": [
       "<Figure size 640x480 with 1 Axes>"
      ]
     },
     "metadata": {},
     "output_type": "display_data"
    }
   ],
   "source": [
    "get_table_barplot(common_movielens, model_names=common_movielens.index)"
   ]
  },
  {
   "cell_type": "code",
   "execution_count": 14,
   "id": "8b7d49a8",
   "metadata": {},
   "outputs": [
    {
     "name": "stdout",
     "output_type": "stream",
     "text": [
      "Yelp:\n"
     ]
    },
    {
     "data": {
      "text/html": [
       "<style type=\"text/css\">\n",
       "#T_f4432_row0_col0 {\n",
       "  background-color: #0569a4;\n",
       "  color: #f1f1f1;\n",
       "}\n",
       "#T_f4432_row0_col1, #T_f4432_row2_col0 {\n",
       "  background-color: #056ba7;\n",
       "  color: #f1f1f1;\n",
       "}\n",
       "#T_f4432_row0_col2, #T_f4432_row1_col0 {\n",
       "  background-color: #056aa6;\n",
       "  color: #f1f1f1;\n",
       "}\n",
       "#T_f4432_row0_col3 {\n",
       "  background-color: #b0c2de;\n",
       "  color: #000000;\n",
       "}\n",
       "#T_f4432_row1_col1 {\n",
       "  background-color: #056caa;\n",
       "  color: #f1f1f1;\n",
       "}\n",
       "#T_f4432_row1_col2 {\n",
       "  background-color: #056ba9;\n",
       "  color: #f1f1f1;\n",
       "}\n",
       "#T_f4432_row1_col3 {\n",
       "  background-color: #b3c3de;\n",
       "  color: #000000;\n",
       "}\n",
       "#T_f4432_row2_col1 {\n",
       "  background-color: #056ead;\n",
       "  color: #f1f1f1;\n",
       "}\n",
       "#T_f4432_row2_col2 {\n",
       "  background-color: #056dab;\n",
       "  color: #f1f1f1;\n",
       "}\n",
       "#T_f4432_row2_col3 {\n",
       "  background-color: #b1c2de;\n",
       "  color: #000000;\n",
       "}\n",
       "#T_f4432_row3_col0 {\n",
       "  background-color: #197db7;\n",
       "  color: #f1f1f1;\n",
       "}\n",
       "#T_f4432_row3_col1 {\n",
       "  background-color: #2d8abd;\n",
       "  color: #f1f1f1;\n",
       "}\n",
       "#T_f4432_row3_col2 {\n",
       "  background-color: #2685bb;\n",
       "  color: #f1f1f1;\n",
       "}\n",
       "#T_f4432_row3_col3, #T_f4432_row4_col0, #T_f4432_row4_col1, #T_f4432_row4_col2 {\n",
       "  background-color: #023858;\n",
       "  color: #f1f1f1;\n",
       "}\n",
       "#T_f4432_row4_col3 {\n",
       "  background-color: #62a2cb;\n",
       "  color: #f1f1f1;\n",
       "}\n",
       "#T_f4432_row5_col0, #T_f4432_row5_col1, #T_f4432_row5_col2, #T_f4432_row5_col3 {\n",
       "  background-color: #fff7fb;\n",
       "  color: #000000;\n",
       "}\n",
       "</style>\n",
       "<table id=\"T_f4432\">\n",
       "  <thead>\n",
       "    <tr>\n",
       "      <th class=\"blank level0\" >&nbsp;</th>\n",
       "      <th id=\"T_f4432_level0_col0\" class=\"col_heading level0 col0\" >HR</th>\n",
       "      <th id=\"T_f4432_level0_col1\" class=\"col_heading level0 col1\" >MRR</th>\n",
       "      <th id=\"T_f4432_level0_col2\" class=\"col_heading level0 col2\" >nDCG</th>\n",
       "      <th id=\"T_f4432_level0_col3\" class=\"col_heading level0 col3\" >COV</th>\n",
       "    </tr>\n",
       "  </thead>\n",
       "  <tbody>\n",
       "    <tr>\n",
       "      <th id=\"T_f4432_level0_row0\" class=\"row_heading level0 row0\" >ALS</th>\n",
       "      <td id=\"T_f4432_row0_col0\" class=\"data row0 col0\" >0.041477</td>\n",
       "      <td id=\"T_f4432_row0_col1\" class=\"data row0 col1\" >0.015488</td>\n",
       "      <td id=\"T_f4432_row0_col2\" class=\"data row0 col2\" >0.021485</td>\n",
       "      <td id=\"T_f4432_row0_col3\" class=\"data row0 col3\" >0.062410</td>\n",
       "    </tr>\n",
       "    <tr>\n",
       "      <th id=\"T_f4432_level0_row1\" class=\"row_heading level0 row1\" >eALS</th>\n",
       "      <td id=\"T_f4432_row1_col0\" class=\"data row1 col0\" >0.041048</td>\n",
       "      <td id=\"T_f4432_row1_col1\" class=\"data row1 col1\" >0.015388</td>\n",
       "      <td id=\"T_f4432_row1_col2\" class=\"data row1 col2\" >0.021323</td>\n",
       "      <td id=\"T_f4432_row1_col3\" class=\"data row1 col3\" >0.061712</td>\n",
       "    </tr>\n",
       "    <tr>\n",
       "      <th id=\"T_f4432_level0_row2\" class=\"row_heading level0 row2\" >iALS</th>\n",
       "      <td id=\"T_f4432_row2_col0\" class=\"data row2 col0\" >0.040854</td>\n",
       "      <td id=\"T_f4432_row2_col1\" class=\"data row2 col1\" >0.015152</td>\n",
       "      <td id=\"T_f4432_row2_col2\" class=\"data row2 col2\" >0.021101</td>\n",
       "      <td id=\"T_f4432_row2_col3\" class=\"data row2 col3\" >0.061906</td>\n",
       "    </tr>\n",
       "    <tr>\n",
       "      <th id=\"T_f4432_level0_row3\" class=\"row_heading level0 row3\" >NGCF</th>\n",
       "      <td id=\"T_f4432_row3_col0\" class=\"data row3 col0\" >0.037154</td>\n",
       "      <td id=\"T_f4432_row3_col1\" class=\"data row3 col1\" >0.013125</td>\n",
       "      <td id=\"T_f4432_row3_col2\" class=\"data row3 col2\" >0.018649</td>\n",
       "      <td id=\"T_f4432_row3_col3\" class=\"data row3 col3\" >0.143373</td>\n",
       "    </tr>\n",
       "    <tr>\n",
       "      <th id=\"T_f4432_level0_row4\" class=\"row_heading level0 row4\" >ALS-impl</th>\n",
       "      <td id=\"T_f4432_row4_col0\" class=\"data row4 col0\" >0.051096</td>\n",
       "      <td id=\"T_f4432_row4_col1\" class=\"data row4 col1\" >0.019410</td>\n",
       "      <td id=\"T_f4432_row4_col2\" class=\"data row4 col2\" >0.026744</td>\n",
       "      <td id=\"T_f4432_row4_col3\" class=\"data row4 col3\" >0.086008</td>\n",
       "    </tr>\n",
       "    <tr>\n",
       "      <th id=\"T_f4432_level0_row5\" class=\"row_heading level0 row5\" >BPR-impl</th>\n",
       "      <td id=\"T_f4432_row5_col0\" class=\"data row5 col0\" >0.005024</td>\n",
       "      <td id=\"T_f4432_row5_col1\" class=\"data row5 col1\" >0.001666</td>\n",
       "      <td id=\"T_f4432_row5_col2\" class=\"data row5 col2\" >0.002428</td>\n",
       "      <td id=\"T_f4432_row5_col3\" class=\"data row5 col3\" >0.019833</td>\n",
       "    </tr>\n",
       "  </tbody>\n",
       "</table>\n"
      ],
      "text/plain": [
       "<pandas.io.formats.style.Styler at 0x7f0a58dedc10>"
      ]
     },
     "execution_count": 14,
     "metadata": {},
     "output_type": "execute_result"
    }
   ],
   "source": [
    "print('Yelp:')\n",
    "common_yelp = pd.concat([scores_yelp, scores_implicit_yelp])\n",
    "common_yelp.style.background_gradient()"
   ]
  },
  {
   "cell_type": "code",
   "execution_count": 15,
   "id": "28fd98ab",
   "metadata": {},
   "outputs": [
    {
     "data": {
      "text/html": [
       "<div>\n",
       "<style scoped>\n",
       "    .dataframe tbody tr th:only-of-type {\n",
       "        vertical-align: middle;\n",
       "    }\n",
       "\n",
       "    .dataframe tbody tr th {\n",
       "        vertical-align: top;\n",
       "    }\n",
       "\n",
       "    .dataframe thead th {\n",
       "        text-align: right;\n",
       "    }\n",
       "</style>\n",
       "<table border=\"1\" class=\"dataframe\">\n",
       "  <thead>\n",
       "    <tr style=\"text-align: right;\">\n",
       "      <th></th>\n",
       "      <th>HR</th>\n",
       "      <th>MRR</th>\n",
       "      <th>nDCG</th>\n",
       "      <th>COV</th>\n",
       "    </tr>\n",
       "  </thead>\n",
       "  <tbody>\n",
       "    <tr>\n",
       "      <th>ALS</th>\n",
       "      <td>0.041477</td>\n",
       "      <td>0.015488</td>\n",
       "      <td>0.021485</td>\n",
       "      <td>0.062410</td>\n",
       "    </tr>\n",
       "    <tr>\n",
       "      <th>eALS</th>\n",
       "      <td>0.041048</td>\n",
       "      <td>0.015388</td>\n",
       "      <td>0.021323</td>\n",
       "      <td>0.061712</td>\n",
       "    </tr>\n",
       "    <tr>\n",
       "      <th>iALS</th>\n",
       "      <td>0.040854</td>\n",
       "      <td>0.015152</td>\n",
       "      <td>0.021101</td>\n",
       "      <td>0.061906</td>\n",
       "    </tr>\n",
       "    <tr>\n",
       "      <th>NGCF</th>\n",
       "      <td>0.037154</td>\n",
       "      <td>0.013125</td>\n",
       "      <td>0.018649</td>\n",
       "      <td>0.143373</td>\n",
       "    </tr>\n",
       "    <tr>\n",
       "      <th>ALS-impl</th>\n",
       "      <td>0.051096</td>\n",
       "      <td>0.019410</td>\n",
       "      <td>0.026744</td>\n",
       "      <td>0.086008</td>\n",
       "    </tr>\n",
       "    <tr>\n",
       "      <th>BPR-impl</th>\n",
       "      <td>0.005024</td>\n",
       "      <td>0.001666</td>\n",
       "      <td>0.002428</td>\n",
       "      <td>0.019833</td>\n",
       "    </tr>\n",
       "  </tbody>\n",
       "</table>\n",
       "</div>"
      ],
      "text/plain": [
       "                HR       MRR      nDCG       COV\n",
       "ALS       0.041477  0.015488  0.021485  0.062410\n",
       "eALS      0.041048  0.015388  0.021323  0.061712\n",
       "iALS      0.040854  0.015152  0.021101  0.061906\n",
       "NGCF      0.037154  0.013125  0.018649  0.143373\n",
       "ALS-impl  0.051096  0.019410  0.026744  0.086008\n",
       "BPR-impl  0.005024  0.001666  0.002428  0.019833"
      ]
     },
     "execution_count": 15,
     "metadata": {},
     "output_type": "execute_result"
    },
    {
     "data": {
      "image/png": "[encoded data removed]",
      "text/plain": [
       "<Figure size 640x480 with 1 Axes>"
      ]
     },
     "metadata": {},
     "output_type": "display_data"
    }
   ],
   "source": [
    "get_table_barplot(common_yelp, model_names=common_yelp.index)"
   ]
  },
  {
   "attachments": {},
   "cell_type": "markdown",
   "id": "f2c47fdb",
   "metadata": {},
   "source": [
    "### Training Time"
   ]
  },
  {
   "cell_type": "code",
   "execution_count": 16,
   "id": "33834928",
   "metadata": {},
   "outputs": [],
   "source": [
    "def score_times(models, training_matrix):\n",
    "    times = dict()\n",
    "    for name, model in models:\n",
    "        start = time.time()\n",
    "        model.fit(training_matrix)\n",
    "        elapsed = time.time() - start\n",
    "        times[name] = elapsed\n",
    "\n",
    "    return times"
   ]
  },
  {
   "cell_type": "code",
   "execution_count": null,
   "id": "4ef61846",
   "metadata": {},
   "outputs": [],
   "source": [
    "factors = 100\n",
    "device = 'cuda'\n",
    "\n",
    "models = [\n",
    "    ('ALS', ALS(factors=factors, device=device)),\n",
    "    ('eALS', eALS(factors=factors, device=device)),\n",
    "    ('iALS', iALS(factors=factors, device=device)),\n",
    "    ('ALS-impl', implicit.als.AlternatingLeastSquares(factors=factors, iterations=100, use_gpu=True)),\n",
    "    ('BPR-impl', implicit.bpr.BayesianPersonalizedRanking(factors=factors, iterations=100, use_gpu=True))\n",
    "]\n",
    "\n",
    "times_movielens = score_times(models, training_matrix_movielens)\n",
    "times_movielens['NGCF'] = 2.19 # one epoch"
   ]
  },
  {
   "cell_type": "code",
   "execution_count": 18,
   "id": "c0e1979e",
   "metadata": {},
   "outputs": [
    {
     "data": {
      "image/png": "[encoded data removed]",
      "text/plain": [
       "<Figure size 1100x300 with 1 Axes>"
      ]
     },
     "metadata": {},
     "output_type": "display_data"
    }
   ],
   "source": [
    "plt.figure(figsize=(11, 3))\n",
    "plt.barh(list(times_movielens.keys()), list(times_movielens.values()))\n",
    "plt.xlabel('Time (s.)')\n",
    "plt.show()"
   ]
  },
  {
   "cell_type": "code",
   "execution_count": null,
   "id": "f0d7a33f",
   "metadata": {},
   "outputs": [],
   "source": [
    "models = [\n",
    "    ('ALS', ALS(factors=factors, device=device)),\n",
    "    ('eALS', eALS(factors=factors, device=device)),\n",
    "    ('iALS', iALS(factors=factors, device=device)),\n",
    "    ('ALS-impl', implicit.als.AlternatingLeastSquares(factors=factors, iterations=100, use_gpu=True)),\n",
    "    ('BPR-impl', implicit.bpr.BayesianPersonalizedRanking(factors=factors, iterations=100, use_gpu=True))\n",
    "]\n",
    "\n",
    "times_yelp = score_times(models, training_matrix_yelp)\n",
    "times_yelp['NGCF'] = 44.7 # one epoch"
   ]
  },
  {
   "cell_type": "code",
   "execution_count": 21,
   "id": "afdc84f4",
   "metadata": {},
   "outputs": [
    {
     "data": {
      "image/png": "[encoded data removed]",
      "text/plain": [
       "<Figure size 1100x300 with 1 Axes>"
      ]
     },
     "metadata": {},
     "output_type": "display_data"
    }
   ],
   "source": [
    "plt.figure(figsize=(11, 3))\n",
    "plt.barh(list(times_yelp.keys()), list(times_yelp.values()))\n",
    "plt.xlabel('Time (s.)')\n",
    "plt.show()"
   ]
  }
 ],
 "metadata": {
  "kernelspec": {
   "display_name": "Python 3",
   "language": "python",
   "name": "python3"
  },
  "language_info": {
   "codemirror_mode": {
    "name": "ipython",
    "version": 3
   },
   "file_extension": ".py",
   "mimetype": "text/x-python",
   "name": "python",
   "nbconvert_exporter": "python",
   "pygments_lexer": "ipython3",
   "version": "3.8.9"
  },
  "vscode": {
   "interpreter": {
    "hash": "e78d4372795bdb4f90d4503627452c653be5c92207030b3d0c8da475b03955ac"
   }
  }
 },
 "nbformat": 4,
 "nbformat_minor": 5
}
