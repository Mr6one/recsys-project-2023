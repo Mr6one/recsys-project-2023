{
 "cells": [
  {
   "cell_type": "code",
   "execution_count": 1,
   "id": "f5d8b4fc",
   "metadata": {},
   "outputs": [],
   "source": [
    "%load_ext autoreload\n",
    "%autoreload 2\n",
    "\n",
    "import numpy as np\n",
    "from tqdm.notebook import tqdm\n",
    "import matplotlib as plt\n",
    "\n",
    "import sys\n",
    "sys.path.append('..')\n",
    "\n",
    "from src.datasets import load_dataset\n",
    "from src.evaluation.evaluation import downvote_seen_items, topn_recommendations, model_evaluate\n",
    "\n",
    "import json\n",
    "import torch\n",
    "from src.models import NGCF"
   ]
  },
  {
   "cell_type": "code",
   "execution_count": null,
   "id": "d277d9ca",
   "metadata": {},
   "outputs": [],
   "source": [
    "data_path = '../data'\n",
    "\n",
    "training_yelp, testset_yelp, holdout_yelp, training_matrix_yelp, data_description_yelp = load_dataset('yelp', data_path)\n",
    "training_movielens, testset_movielens, holdout_movielens, training_matrix_movielens, data_description_movielens = load_dataset('movielens', data_path)"
   ]
  },
  {
   "cell_type": "code",
   "execution_count": null,
   "id": "f9d0d499",
   "metadata": {},
   "outputs": [],
   "source": [
    "with open('../configs/ngcf_base.json') as f:\n",
    "    config = json.load(f)\n",
    "\n",
    "n_users, n_items = training_matrix_movielens.shape\n",
    "config['model_args']['n_users'] = n_users\n",
    "config['model_args']['n_items'] = n_items\n",
    "\n",
    "model = NGCF(**config['model_args'])\n",
    "model.load_state_dict(torch.load('../lightning_logs/version_30/checkpoints/epoch=399-step=2399.ckpt')['state_dict'])\n",
    "model.eval();"
   ]
  },
  {
   "cell_type": "code",
   "execution_count": null,
   "id": "913b29c2",
   "metadata": {},
   "outputs": [],
   "source": [
    "import torch\n",
    "from torch_scatter import scatter_sum\n",
    "\n",
    "\n",
    "class ALS:\n",
    "    def __init__(self, factors, iterations=100, regularization=0.1, device='cpu', callback=None):\n",
    "        \n",
    "        self.factors = factors\n",
    "        self.regularization = regularization\n",
    "        self.iterations = iterations\n",
    "        self.device = device\n",
    "        self.callback = callback\n",
    "        \n",
    "    def fit(self, R):\n",
    "\n",
    "        m, n = R.shape\n",
    "        \n",
    "        P = torch.randn(m, self.factors, device=self.device) / np.sqrt(self.factors)\n",
    "        Q = torch.randn(n, self.factors, device=self.device) / np.sqrt(self.factors)\n",
    "        I = torch.eye(self.factors, device=self.device)\n",
    "        \n",
    "        R = R.tocoo()\n",
    "        rows, cols = torch.from_numpy(np.stack(R.nonzero())).to(torch.long)\n",
    "        \n",
    "        rows = rows.to(self.device)\n",
    "        cols = cols.to(self.device)\n",
    "        \n",
    "        logs = []\n",
    "        for _ in tqdm(range(self.iterations)):\n",
    "                \n",
    "            A = torch.linalg.inv(Q.T @ Q + self.regularization * I) @ Q.T\n",
    "            P = scatter_sum(A[:, cols], rows).T\n",
    "\n",
    "            A = torch.linalg.inv(P.T @ P + self.regularization * I) @ P.T\n",
    "            Q = scatter_sum(A[:, rows], cols).T\n",
    "            \n",
    "            if self.callback is not None:\n",
    "                log = self.callback(P, Q)\n",
    "                logs.append(log)\n",
    "                \n",
    "        self.P = P\n",
    "        self.Q = Q\n",
    "        \n",
    "        return np.array(logs)\n",
    "    \n",
    "    def predict(self, id_user, k=None):\n",
    "        \n",
    "        if k is None:\n",
    "            \n",
    "            k = len(self.Q)\n",
    "            \n",
    "        p = self.P[id_user]\n",
    "        \n",
    "        scores = self.Q @ p\n",
    "        \n",
    "        top_k = torch.argsort(scores, descending=True)[:k]\n",
    "        \n",
    "        return top_k\n",
    "    \n",
    "    @torch.no_grad()\n",
    "    def score_users(self, user_ids):\n",
    "        user_ids = torch.from_numpy(user_ids).to(torch.long).to(self.device)\n",
    "        scores = self.P[user_ids] @ self.Q.T\n",
    "        return scores.cpu().numpy()\n",
    "\n",
    "\n",
    "class eALS:\n",
    "    def __init__(self, factors, iterations=100, w=1, c=1, regularization=0.1, device='cpu', callback=None):\n",
    "        self.w = w\n",
    "        self.c = c\n",
    "        self.factors = factors\n",
    "        self.iterations = iterations\n",
    "        self.regularization = regularization\n",
    "        self.device = device\n",
    "        self.callback = callback\n",
    "        \n",
    "    def fit(self, X):\n",
    "        K = self.factors\n",
    "        M, N = X.shape\n",
    "\n",
    "        self.P = torch.randn(M, K, device=self.device) / np.sqrt(K)\n",
    "        self.Q = torch.randn(N, K, device=self.device) / np.sqrt(K)\n",
    "        \n",
    "        X = X.tocoo()\n",
    "        rows, cols = torch.from_numpy(np.stack(X.nonzero())).to(torch.long)\n",
    "        \n",
    "        rows = rows.to(self.device)\n",
    "        cols = cols.to(self.device)\n",
    "        \n",
    "        c = self.c\n",
    "        if isinstance(c, int):\n",
    "            c = torch.ones(N, device=self.device) * c\n",
    "        else:\n",
    "            c = torch.tensor(c, device=self.device)\n",
    "        \n",
    "        R_hat = (self.P[rows] * self.Q[cols]).sum(axis=1)\n",
    "        \n",
    "        logs = []\n",
    "        \n",
    "        for _ in tqdm(range(self.iterations)):\n",
    "            S_q = (c.unsqueeze(1) * self.Q).T @ self.Q\n",
    "\n",
    "            for f in range(K):\n",
    "                r_hat = R_hat - self.P[rows, f] * self.Q[cols, f]\n",
    "\n",
    "                nominator = scatter_sum((self.w - (self.w - c[cols]) * r_hat) * self.Q[cols, f], rows)\n",
    "                nominator -= self.P @ S_q[:, f] - self.P[:, f] * S_q[f, f]\n",
    "\n",
    "                denominator = scatter_sum((self.w - c[cols]) * self.Q[cols, f] ** 2, rows) + S_q[f, f]\n",
    "                self.P[:, f] = nominator / (denominator + self.regularization)\n",
    "\n",
    "                R_hat = r_hat + self.P[rows, f] * self.Q[cols, f]\n",
    "\n",
    "            S_p = self.P.T @ self.P\n",
    "            for f in range(K):\n",
    "                r_hat = R_hat - self.P[rows, f] * self.Q[cols, f] \n",
    "\n",
    "                nominator = scatter_sum((self.w - (self.w - c[cols]) * r_hat) * self.P[rows, f], cols)\n",
    "                nominator -= c * (self.Q @ S_p[:, f] - self.Q[:, f] * S_p[f, f])\n",
    "\n",
    "                denominator = scatter_sum((self.w - c[cols]) * self.P[rows, f] ** 2, cols) + c * S_p[f, f] \n",
    "                self.Q[:, f] = nominator / (denominator + self.regularization)\n",
    "\n",
    "                R_hat = r_hat + self.P[rows, f] * self.Q[cols, f]\n",
    "                \n",
    "            if self.callback is not None:\n",
    "                log = self.callback(self.P, self.Q)\n",
    "                logs.append(log)\n",
    "            \n",
    "        return np.array(logs)\n",
    "    \n",
    "    def predict(self, id_user, k=None):\n",
    "        \n",
    "        if k is None:\n",
    "            \n",
    "            k = len(self.Q)\n",
    "            \n",
    "        p = self.P[id_user]\n",
    "        \n",
    "        scores = self.Q @ p\n",
    "        \n",
    "        top_k = torch.argsort(scores, descending=True)[:k]\n",
    "        \n",
    "        return top_k\n",
    "    \n",
    "    @torch.no_grad()\n",
    "    def score_users(self, user_ids):\n",
    "        user_ids = torch.from_numpy(user_ids).to(torch.long).to(self.device)\n",
    "        scores = self.P[user_ids] @ self.Q.T\n",
    "        return scores.cpu().numpy()"
   ]
  },
  {
   "cell_type": "code",
   "execution_count": 62,
   "id": "2fb000ed",
   "metadata": {},
   "outputs": [
    {
     "data": {
      "application/vnd.jupyter.widget-view+json": {
       "model_id": "2027e482a54f46df809f42e433dcf16d",
       "version_major": 2,
       "version_minor": 0
      },
      "text/plain": [
       "  0%|          | 0/100 [00:00<?, ?it/s]"
      ]
     },
     "metadata": {},
     "output_type": "display_data"
    }
   ],
   "source": [
    "model = ALS(factors=100, device='cuda')\n",
    "model.fit(training_matrix_yelp);"
   ]
  },
  {
   "cell_type": "code",
   "execution_count": 54,
   "id": "891f8d6b",
   "metadata": {},
   "outputs": [],
   "source": [
    "# !!! scores_X - результат работы модели X, т.е. numpy.ndarray шейпа: scores_X.shape=(число юзеров в холдауте, число всех айтемов),\n",
    "# где элементы - предсказанные скоры айтемов для каждого юзера (не индексы айтемов, а именно скоры).\n",
    "scores_yelp = model.score_users(holdout_yelp.userid.values)\n",
    "# scores_movielens = model.score_users(holdout_movielens.userid.values)"
   ]
  },
  {
   "cell_type": "code",
   "execution_count": 55,
   "id": "9ec9d160",
   "metadata": {},
   "outputs": [],
   "source": [
    "downvote_seen_items(scores_yelp, testset_yelp, data_description_yelp)\n",
    "# downvote_seen_items(scores_movielens, testset_movielens, data_description_movielens)"
   ]
  },
  {
   "cell_type": "code",
   "execution_count": 56,
   "id": "6fb7b1cf",
   "metadata": {},
   "outputs": [],
   "source": [
    "topn = 10\n",
    "\n",
    "recs_yelp = topn_recommendations(scores_yelp, topn=topn)\n",
    "# recs_movielens = topn_recommendations(scores_movielens, topn=topn)"
   ]
  },
  {
   "cell_type": "code",
   "execution_count": 60,
   "id": "d6dbfc15",
   "metadata": {},
   "outputs": [
    {
     "name": "stderr",
     "output_type": "stream",
     "text": [
      "C:\\Users\\Константин\\AppData\\Roaming\\Python\\Python38\\site-packages\\implicit\\utils.py:28: UserWarning: OpenBLAS detected. Its highly recommend to set the environment variable 'export OPENBLAS_NUM_THREADS=1' to disable its internal multithreading\n",
      "  warnings.warn(\n"
     ]
    },
    {
     "data": {
      "application/vnd.jupyter.widget-view+json": {
       "model_id": "0dfbcf2bf2284a0d900ef2ac38c8ed18",
       "version_major": 2,
       "version_minor": 0
      },
      "text/plain": [
       "  0%|          | 0/15 [00:00<?, ?it/s]"
      ]
     },
     "metadata": {},
     "output_type": "display_data"
    }
   ],
   "source": [
    "# import implicit\n",
    "# als = implicit.als.AlternatingLeastSquares()\n",
    "# als.fit(training_matrix_movielens)\n",
    "# recs_movielens = als.recommend_all(training_matrix_movielens, filter_already_liked_items=True, N=topn)"
   ]
  },
  {
   "cell_type": "code",
   "execution_count": 58,
   "id": "ea38a2a9",
   "metadata": {},
   "outputs": [],
   "source": [
    "datasets = ['Yelp: ', 'MovieLens: ']"
   ]
  },
  {
   "cell_type": "code",
   "execution_count": 59,
   "id": "78c5343e",
   "metadata": {},
   "outputs": [
    {
     "name": "stdout",
     "output_type": "stream",
     "text": [
      "Yelp: \n",
      "HR@10 = 0.0418\n",
      "MRR@10 = 0.0155\n",
      "nDCG@10 = 0.0216\n",
      "COV@10 = 0.0625\n"
     ]
    }
   ],
   "source": [
    "hr, mrr, ndcg, cov = model_evaluate(recs_yelp, holdout_yelp, data_description_yelp, topn=topn)\n",
    "print(datasets[0])\n",
    "print(f'HR@{topn} = {hr:.4f}')\n",
    "print(f'MRR@{topn} = {mrr:.4f}')\n",
    "print(f'nDCG@{topn} = {ndcg:.4f}')\n",
    "print(f'COV@{topn} = {cov:.4f}')"
   ]
  },
  {
   "cell_type": "code",
   "execution_count": 45,
   "id": "96d01ad9",
   "metadata": {},
   "outputs": [
    {
     "name": "stdout",
     "output_type": "stream",
     "text": [
      "MovieLens: \n",
      "HR@10 = 0.0990\n",
      "MRR@10 = 0.0359\n",
      "nDCG@10 = 0.0505\n",
      "COV@10 = 0.3653\n"
     ]
    }
   ],
   "source": [
    "hr, mrr, ndcg, cov = model_evaluate(recs_movielens, holdout_movielens, data_description_movielens, topn=topn) \n",
    "print(datasets[1])\n",
    "print(f'HR@{topn} = {hr:.4f}')\n",
    "print(f'MRR@{topn} = {mrr:.4f}')\n",
    "print(f'nDCG@{topn} = {ndcg:.4f}')\n",
    "print(f'COV@{topn} = {cov:.4f}')"
   ]
  }
 ],
 "metadata": {
  "kernelspec": {
   "display_name": "Python 3 (ipykernel)",
   "language": "python",
   "name": "python3"
  },
  "language_info": {
   "codemirror_mode": {
    "name": "ipython",
    "version": 3
   },
   "file_extension": ".py",
   "mimetype": "text/x-python",
   "name": "python",
   "nbconvert_exporter": "python",
   "pygments_lexer": "ipython3",
   "version": "3.8.9"
  }
 },
 "nbformat": 4,
 "nbformat_minor": 5
}
